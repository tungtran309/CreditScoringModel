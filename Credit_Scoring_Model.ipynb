{
  "nbformat": 4,
  "nbformat_minor": 0,
  "metadata": {
    "colab": {
      "name": "Credit Scoring Training Models NoName.ipynb",
      "provenance": [],
      "collapsed_sections": []
    },
    "kernelspec": {
      "name": "python3",
      "display_name": "Python 3"
    }
  },
  "cells": [
    {
      "cell_type": "code",
      "metadata": {
        "id": "CHqUcLtDifGe"
      },
      "source": [
        "# LightGBM, GradientBooting, Xgboot\n",
        "# Prevent Overfitting : "
      ],
      "execution_count": null,
      "outputs": []
    },
    {
      "cell_type": "code",
      "metadata": {
        "id": "B-TMP7rCejjf"
      },
      "source": [
        "import numpy as np\n",
        "import pandas as pd\n",
        "import matplotlib.pyplot as plt\n",
        "import requests\n",
        "import seaborn as sns\n",
        "import os\n",
        "import plotly.express as px\n",
        "import pandas_profiling as pp\n",
        "%matplotlib inline\n",
        "from sklearn.model_selection import train_test_split\n",
        "from sklearn.utils import class_weight\n",
        "\n",
        "# import tensorflow as tf\n",
        "# import tensorflow.keras\n",
        "# import tensorflow.keras.layers as Layers\n",
        "# import tensorflow.keras.activations as Actications\n",
        "# import tensorflow.keras.models as Models\n",
        "# import tensorflow.keras.optimizers as Optimizer\n",
        "# import tensorflow.keras.metrics as Metrics\n",
        "# import tensorflow.keras.utils as Utils\n",
        "# from tensorflow.keras.callbacks import ModelCheckpoint, LearningRateScheduler\n",
        "# import tensorflow.keras.backend as K"
      ],
      "execution_count": null,
      "outputs": []
    },
    {
      "cell_type": "code",
      "metadata": {
        "id": "l8box9obiToR",
        "colab": {
          "base_uri": "https://localhost:8080/",
          "height": 34
        },
        "outputId": "677a2225-3119-4951-e7f1-78ae74d282d4"
      },
      "source": [
        "from google.colab import drive\n",
        "drive.mount('/content/drive')"
      ],
      "execution_count": null,
      "outputs": [
        {
          "output_type": "stream",
          "text": [
            "Mounted at /content/drive\n"
          ],
          "name": "stdout"
        }
      ]
    },
    {
      "cell_type": "code",
      "metadata": {
        "id": "iBX39TpZj_Pm"
      },
      "source": [
        "path = \"./drive/My Drive/devC_data/\""
      ],
      "execution_count": null,
      "outputs": []
    },
    {
      "cell_type": "code",
      "metadata": {
        "id": "I639qo0MZIm2"
      },
      "source": [
        "temp = pd.read_csv(path + 'temp.csv')\n",
        "community = pd.read_csv(path + 'pagerank.csv')\n",
        "arpu_train = pd.read_csv(path + \"arpu_train.csv\")\n",
        "arpu_test = pd.read_csv(path + \"arpu_test.csv\")"
      ],
      "execution_count": null,
      "outputs": []
    },
    {
      "cell_type": "code",
      "metadata": {
        "id": "DZDOhNA130OO"
      },
      "source": [
        "loan = pd.read_csv(path + 'loan.csv')\n",
        "loan = loan.dropna()\n",
        "recharge = pd.read_csv(path + 'recharge.csv')\n",
        "recharge = recharge.dropna()\n"
      ],
      "execution_count": null,
      "outputs": []
    },
    {
      "cell_type": "markdown",
      "metadata": {
        "id": "RUaymgS9Y7Rj"
      },
      "source": [
        "# Extract Features"
      ]
    },
    {
      "cell_type": "code",
      "metadata": {
        "id": "ytv5zXl0EvcV"
      },
      "source": [
        "import datetime\n",
        "def get_num_days(data_time):\n",
        "  try:\n",
        "    return (datetime.datetime.now() - pd.to_datetime(data_time[:10])).days\n",
        "  except:\n",
        "    return 0 \n",
        "import datetime\n",
        "def get_date_time(data_col):\n",
        "  new_col = [(datetime.datetime.now() - datetime.datetime.fromtimestamp(c / 1000)).days * (c > 0) for c in data_col]\n",
        "  return new_col\n"
      ],
      "execution_count": null,
      "outputs": []
    },
    {
      "cell_type": "markdown",
      "metadata": {
        "id": "yQgm8pHzc23K"
      },
      "source": [
        "## Xử lý các feature cơ bản"
      ]
    },
    {
      "cell_type": "code",
      "metadata": {
        "id": "yulfRAMBEdwU",
        "colab": {
          "base_uri": "https://localhost:8080/",
          "height": 785
        },
        "outputId": "ea5ae313-6325-4346-8146-14f69938c502"
      },
      "source": [
        "# Hàm prepare_data là hàm tổng hợp xử lý các feature từ các file cho trước\n",
        "# Phần lớn các feature sẽ được groupy theo msisdn rồi tính các giá trị sum, count, mean, min, max, std\n",
        "\n",
        "def prepare_data(arpu_train, temp):  \n",
        "\n",
        "  # Xử lý file loan\n",
        "  \n",
        "  loan = pd.read_csv(path + 'loan.csv')\n",
        "  loan = loan.dropna()\n",
        "  \n",
        "  loan['COL_25'] = loan['COL_25'].apply(get_num_days)\n",
        "  new_loan = loan.groupby('msisdn')[['COL_25']].agg(['min'])\n",
        "  new_loan.columns = (new_loan.columns.map('_'.join))\n",
        "  arpu_train = arpu_train.merge(new_loan, on='msisdn', how='left')\n",
        "\n",
        "  loan['COL_24a'] = loan['COL_24'] * (loan['COL_24'] > 0)\n",
        "  loan['COL_24b'] = loan['COL_24'] * (loan['COL_24'] < 0)\n",
        "  new_loan = loan.groupby('msisdn')[['COL_23', 'COL_24', 'COL_24a', 'COL_24b']].agg(['sum', 'count', 'mean', 'min', 'max'])\n",
        "  new_loan.columns = (new_loan.columns.map('_'.join))\n",
        "  arpu_train = arpu_train.merge(new_loan, on='msisdn', how='left')\n",
        "\n",
        "  # Xử lý recharge\n",
        "  recharge = pd.read_csv(path + 'recharge.csv')\n",
        "  recharge = recharge.dropna()\n",
        "  recharge['COL_29'] = recharge['COL_29'].apply(get_num_days)\n",
        "  new_recharge = recharge.groupby('msisdn')[['COL_29']].agg(['min'])\n",
        "  new_recharge.columns = (new_recharge.columns.map('_'.join))\n",
        "  arpu_train = arpu_train.merge(new_recharge, on='msisdn', how='left')\n",
        "\n",
        "  recharge['COL_30'] = recharge['COL_30'].replace('V', 0)\n",
        "  recharge['COL_30'] = recharge['COL_30'].replace('C', 1)\n",
        "  new_recharge = recharge.groupby('msisdn')[['COL_30', 'COL_31']].agg(['sum', 'count', 'mean', 'min', 'max', 'std'])\n",
        "  new_recharge.columns = (new_recharge.columns.map('_'.join))\n",
        "  arpu_train = arpu_train.merge(new_recharge, on='msisdn', how='left')\n",
        "  print(\"Merged loan, recharge\")\n",
        "\n",
        "  # Xử lý file temp\n",
        "  new_temp = temp[temp['COL_12'] != 7][['msisdn', 'COL_8']].groupby('msisdn').agg(['sum','count', 'mean', 'min', 'max', 'std'])\n",
        "  new_temp.columns = (new_temp.columns.map('_'.join))\n",
        "  arpu_train = arpu_train.merge(new_temp, on='msisdn', how='left')\n",
        "\n",
        "  new_temp = temp[temp['COL_12'] == 7][['msisdn', 'COL_11', 'UPLOAD_DATA']].groupby('msisdn').agg(['sum','count', 'mean', 'min', 'max', 'std'])\n",
        "  new_temp.columns = (new_temp.columns.map('_'.join))\n",
        "  arpu_train = arpu_train.merge(new_temp, on='msisdn', how='left')\n",
        "\n",
        "  new_temp = temp[['msisdn', 'COL_1']].groupby('msisdn').agg(['sum', 'count', 'mean', 'min', 'max', 'std'])\n",
        "  new_temp.columns = (new_temp.columns.map('_'.join))\n",
        "  arpu_train = arpu_train.merge(new_temp, on='msisdn', how='left')\n",
        "\n",
        "  # Tạo feature thời gian gọi của user theo ngày\n",
        "  new_temp = temp.dropna()\n",
        "  new_temp['COL_2'] = new_temp['COL_2'].str[8:10].astype(int)\n",
        "  day_data = pd.DataFrame()\n",
        "  for i in range(1, 32):\n",
        "    day_data = new_temp[new_temp['COL_2'] == i][['msisdn', 'COL_8']].groupby('msisdn').agg(['sum', 'count'])\n",
        "    day_data.columns = (day_data.columns.map('_'.join))\n",
        "    day_data.columns = [f'COL_8_day_{i}_sum', f'COL_8_day_{i}_count']\n",
        "    arpu_train = arpu_train.merge(day_data, on='msisdn', how='left')\n",
        "  \n",
        "  # Tạo feature thời gian gọi của user theo tuần\n",
        "  new_temp = temp.dropna()\n",
        "  new_temp['COL_2'] = new_temp['COL_2'].str[8:10].astype(int)\n",
        "  new_temp['COL_2'] = (new_temp['COL_2'] - 1) // 7 + 1\n",
        "  day_data = pd.DataFrame()\n",
        "  for i in range(1, 6):\n",
        "    day_data = new_temp[new_temp['COL_2'] == i][['msisdn', 'COL_8']].groupby('msisdn').agg(['sum', 'count'])\n",
        "    day_data.columns = (day_data.columns.map('_'.join))\n",
        "    day_data.columns = [f'COL_8_week_{i}_sum', f'COL_8_week_{i}_count']\n",
        "    arpu_train = arpu_train.merge(day_data, on='msisdn', how='left')\n",
        "  \n",
        "  new_temp = temp[temp['COL_12'] == 7]\n",
        "  new_temp['COL_2'] = new_temp['COL_2'].str[8:10].astype(int)\n",
        "  new_temp['COL_2'] = (new_temp['COL_2'] - 1) // 7 + 1\n",
        "  day_data = pd.DataFrame()\n",
        "  for i in range(1, 6):\n",
        "    day_data = new_temp[new_temp['COL_2'] == i][['msisdn', 'COL_11', 'UPLOAD_DATA']].groupby('msisdn').agg(['sum', 'count'])\n",
        "    day_data.columns = (day_data.columns.map('_'.join))\n",
        "    day_data.columns = [f'COL_11_week_{i}_sum', f'COL_11_week_{i}_count', f'UPLOAD_DATA_week_{i}_sum', f'UPLOAD_DATA_week_{i}_count']\n",
        "    arpu_train = arpu_train.merge(day_data, on='msisdn', how='left')\n",
        "  del new_temp\n",
        "  print(\"Merged temp\")\n",
        "\n",
        "  # Xử lý missing values\n",
        "  arpu_train.COL_15.fillna('H004', inplace=True)\n",
        "  arpu_train.COL_14.fillna(method='ffill', inplace=True)\n",
        "  arpu_train.COL_16.fillna(method='ffill', inplace=True)\n",
        "\n",
        "  arpu_train['COL_17'].fillna(0, inplace=True)\n",
        "  arpu_train['COL_18'].fillna(0, inplace=True)\n",
        "\n",
        "  arpu_train['COL_17'] = get_date_time(arpu_train['COL_17'])\n",
        "  arpu_train['COL_18'] = get_date_time(arpu_train['COL_18'])\n",
        "\n",
        "  arpu_train['COL_14'] = 2007 - arpu_train['COL_14']\n",
        "  arpu_train['COL_14'] = arpu_train['COL_14'].replace(2007.0, 0)\n",
        "\n",
        "  arpu_train['COL_16'] = arpu_train['COL_16'].replace(0, -1)\n",
        "  arpu_train['COL_16'] = arpu_train['COL_16'].replace('M', 1)\n",
        "  arpu_train['COL_16'] = arpu_train['COL_16'].replace('F', 0)\n",
        "\n",
        "  arpu_train['COL_15'] = arpu_train['COL_15'].astype('category').cat.codes\n",
        " \n",
        "  return arpu_train\n",
        "\n",
        "\n",
        "arpu_train = prepare_data(arpu_train, temp)\n",
        "arpu_test = prepare_data(arpu_test, temp)"
      ],
      "execution_count": null,
      "outputs": [
        {
          "output_type": "stream",
          "text": [
            "Merged loan, recharge\n"
          ],
          "name": "stdout"
        },
        {
          "output_type": "stream",
          "text": [
            "/usr/local/lib/python3.6/dist-packages/ipykernel_launcher.py:88: SettingWithCopyWarning:\n",
            "\n",
            "\n",
            "A value is trying to be set on a copy of a slice from a DataFrame.\n",
            "Try using .loc[row_indexer,col_indexer] = value instead\n",
            "\n",
            "See the caveats in the documentation: https://pandas.pydata.org/pandas-docs/stable/user_guide/indexing.html#returning-a-view-versus-a-copy\n",
            "\n",
            "/usr/local/lib/python3.6/dist-packages/ipykernel_launcher.py:97: SettingWithCopyWarning:\n",
            "\n",
            "\n",
            "A value is trying to be set on a copy of a slice from a DataFrame.\n",
            "Try using .loc[row_indexer,col_indexer] = value instead\n",
            "\n",
            "See the caveats in the documentation: https://pandas.pydata.org/pandas-docs/stable/user_guide/indexing.html#returning-a-view-versus-a-copy\n",
            "\n",
            "/usr/local/lib/python3.6/dist-packages/ipykernel_launcher.py:98: SettingWithCopyWarning:\n",
            "\n",
            "\n",
            "A value is trying to be set on a copy of a slice from a DataFrame.\n",
            "Try using .loc[row_indexer,col_indexer] = value instead\n",
            "\n",
            "See the caveats in the documentation: https://pandas.pydata.org/pandas-docs/stable/user_guide/indexing.html#returning-a-view-versus-a-copy\n",
            "\n",
            "/usr/local/lib/python3.6/dist-packages/ipykernel_launcher.py:107: SettingWithCopyWarning:\n",
            "\n",
            "\n",
            "A value is trying to be set on a copy of a slice from a DataFrame.\n",
            "Try using .loc[row_indexer,col_indexer] = value instead\n",
            "\n",
            "See the caveats in the documentation: https://pandas.pydata.org/pandas-docs/stable/user_guide/indexing.html#returning-a-view-versus-a-copy\n",
            "\n",
            "/usr/local/lib/python3.6/dist-packages/ipykernel_launcher.py:108: SettingWithCopyWarning:\n",
            "\n",
            "\n",
            "A value is trying to be set on a copy of a slice from a DataFrame.\n",
            "Try using .loc[row_indexer,col_indexer] = value instead\n",
            "\n",
            "See the caveats in the documentation: https://pandas.pydata.org/pandas-docs/stable/user_guide/indexing.html#returning-a-view-versus-a-copy\n",
            "\n"
          ],
          "name": "stderr"
        },
        {
          "output_type": "stream",
          "text": [
            "Merged temp\n",
            "Merged loan, recharge\n",
            "Merged temp\n"
          ],
          "name": "stdout"
        }
      ]
    },
    {
      "cell_type": "markdown",
      "metadata": {
        "id": "LBOnXehvZ7ZH"
      },
      "source": [
        "## Tạo Graph mối quan hệ giữa các user từ file temp và detect community"
      ]
    },
    {
      "cell_type": "code",
      "metadata": {
        "id": "rasObR7Rriix",
        "colab": {
          "base_uri": "https://localhost:8080/",
          "height": 102
        },
        "outputId": "f32ae4e8-504c-4ed6-b9a8-fb6f17e221c0"
      },
      "source": [
        "import community\n",
        "import networkx as nx\n",
        "\n",
        "\n",
        "def create_graph_networkx(data, similarity_score, limit):\n",
        "    # Tạo graph trong đó node là các user, hai user có cạnh khi mà hai user có gọi điện cho nhau\n",
        "    G = nx.Graph()\n",
        "    G.add_nodes_from(data)\n",
        "\n",
        "    # Thêm các quan hệ giữa user, quan hệ giữa hai user phải thỏa mãn giá trị limit thì mới được thêm, ví dụ như thỏa mãn thời gian gọi tối thiểu, số lượng cuộc gọi, ...\n",
        "    num_edges = 0\n",
        "    for i in similarity_score.values:\n",
        "      if (i[2] > limit):\n",
        "        G.add_edge(i[0], i[1], similar=i[2])\n",
        "        num_edges = num_edges + 1\n",
        "    print(\"num_edges : \", num_edges)\n",
        "\n",
        "    return G\n",
        "\n",
        "def render_group_networkx(data, relation, limit):\n",
        "    # Sau khi sinh graph, sử dụng thuật toán Louvain để detect community\n",
        "    # Tham khảo tại https://en.wikipedia.org/wiki/Louvain_modularity\n",
        "    G = create_graph_networkx(data, relation, limit)\n",
        "    print(\"Done load graph\")\n",
        "    partition = nx.clustering(G, weight='weight')\n",
        "    print(\"Done calculate best partition\")\n",
        "\n",
        "    partition_df = pd.DataFrame()\n",
        "    partition_df['id'] = list(partition.keys())\n",
        "    partition_df['group'] = list(partition.values())\n",
        "    # Đầu ra sẽ gồm một DataFrame với các trường là id - id của user và group - community user đó thuộc về.\n",
        "    return partition_df.reset_index(drop=True)\n",
        "\n",
        "\n",
        "arpu_train = pd.read_csv(path + \"arpu_train.csv\")\n",
        "arpu_test = pd.read_csv(path + \"arpu_test.csv\")\n",
        "train_msisdn = pd.concat([arpu_train[['msisdn']], arpu_test[['msisdn']]])\n",
        "del arpu_train, arpu_test\n",
        "print(\"Done read train, test\")\n",
        "temp = pd.read_csv(path + 'temp.csv')\n",
        "temp = temp.fillna(0)\n",
        "temp = temp.loc[temp.PARTNER_MSISDN != 0]\n",
        "temp = temp.groupby(['msisdn', 'PARTNER_MSISDN']).sum().reset_index()\n",
        "print(\"Size : \", len(temp))\n",
        "community1 = render_group_networkx(train_msisdn, temp[['msisdn', 'PARTNER_MSISDN', 'COL_8']], 0)\n"
      ],
      "execution_count": null,
      "outputs": [
        {
          "output_type": "stream",
          "text": [
            "Done read train, test\n",
            "Size :  5381351\n",
            "num_edges :  5370033\n",
            "Done load graph\n",
            "Done calculate best partition\n"
          ],
          "name": "stdout"
        }
      ]
    },
    {
      "cell_type": "markdown",
      "metadata": {
        "id": "Wio8bYslbaZX"
      },
      "source": [
        "Dữ liệu sau khi xử lý được lưu lại các file cho lần sau thử nghiệm, dưới đây là bước load các file đã được xử lý"
      ]
    },
    {
      "cell_type": "code",
      "metadata": {
        "id": "O7pzCjWK4vkE"
      },
      "source": [
        "community = pd.read_csv(path + 'group.csv')\n",
        "community2 = pd.read_csv(path + 'group_per_week.csv')\n",
        "community = community.fillna(-1)\n",
        "arpu_train = pd.read_csv(path + 'prepared_arpu_train.csv')\n",
        "# arpu_train = arpu_train.drop(['group', 'group_similar', 'group_count', 'group_count_similar', 'group_sum_weight'], axis=1)\n",
        "arpu_test = pd.read_csv(path + 'prepared_arpu_test.csv',)\n",
        "# arpu_test = arpu_test.drop(['group', 'group_similar', 'group_count', 'group_count_similar', 'group_sum_weight'] , axis=1)\n",
        "arpu_train = arpu_train.merge(community, on='msisdn', how='left')\n",
        "arpu_train = arpu_train.merge(community2, on='msisdn', how='left')\n",
        "arpu_test = arpu_test.merge(community, on='msisdn', how='left')\n",
        "arpu_test = arpu_test.merge(community2, on='msisdn', how='left')"
      ],
      "execution_count": null,
      "outputs": []
    },
    {
      "cell_type": "markdown",
      "metadata": {
        "id": "voBHdR2bboae"
      },
      "source": [
        "Classes là biến chứa các feature dùng để train"
      ]
    },
    {
      "cell_type": "code",
      "metadata": {
        "id": "56K1TRSb0Eln",
        "colab": {
          "base_uri": "https://localhost:8080/",
          "height": 270
        },
        "outputId": "4e42ded1-49a5-4303-a755-48f6fca4c2c2"
      },
      "source": [
        "classes = ['COL_14', \n",
        "           'COL_16', 'COL_17', 'COL_18', 'COL_19', 'COL_20', 'COL_21', \n",
        "           'COL_22', 'COL_27a', 'COL_27b', 'COL_27c', 'COL_27d', \n",
        "           'COL_30_sum', 'COL_30_count', 'COL_30_mean' ,\n",
        "           'COL_31_sum', 'COL_31_mean',\n",
        "           'COL_31_min', 'COL_31_max',\n",
        "           'COL_8_sum', 'COL_8_count', 'COL_8_mean',\n",
        "           'COL_8_min', 'COL_8_max', \n",
        "           'COL_11_sum', 'COL_11_count', 'COL_11_mean',\n",
        "           'UPLOAD_DATA_sum', 'UPLOAD_DATA_count', 'UPLOAD_DATA_mean',\n",
        "           'UPLOAD_DATA_min', 'UPLOAD_DATA_max',\n",
        "           'group',\n",
        "           'group_similar',\n",
        "           'group_count', \n",
        "           'group_count_similar',\n",
        "           'group_20',\n",
        "           'group_20_similar',\n",
        "           'group_count_1_similar',\n",
        "           'group_count_1',\n",
        "           'group_30',\n",
        "           'group_similar_50',\n",
        "           'group_new_50',\n",
        "           'group_new_20',\n",
        "           ]\n",
        "\n",
        "for i in range(1, 6):\n",
        "  classes.append(f'COL_8_week_{i}_sum')\n",
        "  classes.append(f'COL_8_week_{i}_count')\n",
        "for i in range(10, 32, 7):\n",
        "  classes.append(f'group_end_day{i}')\n",
        "  classes.append(f'group_count_end_day{i}')\n",
        "for i in range(10, 100, 10):\n",
        "  classes.append(f'group_limit{i}')\n",
        "for i in range(10, 60, 10):\n",
        "  classes.append(f'group_count_limit{i}')\n",
        "arpu_train = arpu_train.fillna(0)\n",
        "arpu_test = arpu_test.fillna(0)\n",
        "arpu_train.head()"
      ],
      "execution_count": null,
      "outputs": [
        {
          "output_type": "execute_result",
          "data": {
            "text/html": [
              "<div>\n",
              "<style scoped>\n",
              "    .dataframe tbody tr th:only-of-type {\n",
              "        vertical-align: middle;\n",
              "    }\n",
              "\n",
              "    .dataframe tbody tr th {\n",
              "        vertical-align: top;\n",
              "    }\n",
              "\n",
              "    .dataframe thead th {\n",
              "        text-align: right;\n",
              "    }\n",
              "</style>\n",
              "<table border=\"1\" class=\"dataframe\">\n",
              "  <thead>\n",
              "    <tr style=\"text-align: right;\">\n",
              "      <th></th>\n",
              "      <th>msisdn</th>\n",
              "      <th>label</th>\n",
              "      <th>COL_13</th>\n",
              "      <th>COL_14</th>\n",
              "      <th>COL_15</th>\n",
              "      <th>COL_16</th>\n",
              "      <th>COL_17</th>\n",
              "      <th>COL_18</th>\n",
              "      <th>COL_19</th>\n",
              "      <th>COL_20</th>\n",
              "      <th>COL_21</th>\n",
              "      <th>COL_22</th>\n",
              "      <th>COL_27a</th>\n",
              "      <th>COL_27b</th>\n",
              "      <th>COL_27c</th>\n",
              "      <th>COL_27d</th>\n",
              "      <th>COL_25_min</th>\n",
              "      <th>COL_23_sum</th>\n",
              "      <th>COL_23_count</th>\n",
              "      <th>COL_23_mean</th>\n",
              "      <th>COL_23_min</th>\n",
              "      <th>COL_23_max</th>\n",
              "      <th>COL_23_std</th>\n",
              "      <th>COL_24_sum</th>\n",
              "      <th>COL_24_count</th>\n",
              "      <th>COL_24_mean</th>\n",
              "      <th>COL_24_min</th>\n",
              "      <th>COL_24_max</th>\n",
              "      <th>COL_24_std</th>\n",
              "      <th>COL_24a_sum</th>\n",
              "      <th>COL_24a_count</th>\n",
              "      <th>COL_24a_mean</th>\n",
              "      <th>COL_24a_min</th>\n",
              "      <th>COL_24a_max</th>\n",
              "      <th>COL_24a_std</th>\n",
              "      <th>COL_24b_sum</th>\n",
              "      <th>COL_24b_count</th>\n",
              "      <th>COL_24b_mean</th>\n",
              "      <th>COL_24b_min</th>\n",
              "      <th>COL_24b_max</th>\n",
              "      <th>...</th>\n",
              "      <th>group_count_similar</th>\n",
              "      <th>group_20</th>\n",
              "      <th>group_20_similar</th>\n",
              "      <th>group_count_1_similar</th>\n",
              "      <th>group_count_1</th>\n",
              "      <th>group_30</th>\n",
              "      <th>group_similar_50</th>\n",
              "      <th>group_new_50</th>\n",
              "      <th>group_new_20</th>\n",
              "      <th>group_dendrogram</th>\n",
              "      <th>group_dendrogram_2</th>\n",
              "      <th>group_35</th>\n",
              "      <th>Unnamed: 0_y</th>\n",
              "      <th>Unnamed: 0.1</th>\n",
              "      <th>Unnamed: 0.1.1</th>\n",
              "      <th>Unnamed: 0.1.1.1</th>\n",
              "      <th>group_end_day10</th>\n",
              "      <th>group_end_day17</th>\n",
              "      <th>group_end_day24</th>\n",
              "      <th>group_end_day31</th>\n",
              "      <th>group_count_end_day10</th>\n",
              "      <th>group_count_end_day17</th>\n",
              "      <th>group_count_end_day24</th>\n",
              "      <th>group_count_end_day31</th>\n",
              "      <th>group_limit0</th>\n",
              "      <th>group_limit10</th>\n",
              "      <th>group_limit20</th>\n",
              "      <th>group_limit30</th>\n",
              "      <th>group_limit40</th>\n",
              "      <th>group_limit50</th>\n",
              "      <th>group_limit60</th>\n",
              "      <th>group_limit70</th>\n",
              "      <th>group_limit80</th>\n",
              "      <th>group_limit90</th>\n",
              "      <th>group_count_limit0</th>\n",
              "      <th>group_count_limit10</th>\n",
              "      <th>group_count_limit20</th>\n",
              "      <th>group_count_limit30</th>\n",
              "      <th>group_count_limit40</th>\n",
              "      <th>group_count_limit50</th>\n",
              "    </tr>\n",
              "  </thead>\n",
              "  <tbody>\n",
              "    <tr>\n",
              "      <th>0</th>\n",
              "      <td>00010016bb53e8e3c82e</td>\n",
              "      <td>0</td>\n",
              "      <td>B240008</td>\n",
              "      <td>42.0</td>\n",
              "      <td>4</td>\n",
              "      <td>1</td>\n",
              "      <td>1041</td>\n",
              "      <td>2803</td>\n",
              "      <td>90909.093750</td>\n",
              "      <td>0.000000</td>\n",
              "      <td>0.0</td>\n",
              "      <td>0.0</td>\n",
              "      <td>0.00</td>\n",
              "      <td>0.000000</td>\n",
              "      <td>0.000000</td>\n",
              "      <td>0.000</td>\n",
              "      <td>312.0</td>\n",
              "      <td>1.0</td>\n",
              "      <td>2.0</td>\n",
              "      <td>0.5</td>\n",
              "      <td>0.0</td>\n",
              "      <td>1.0</td>\n",
              "      <td>0.707107</td>\n",
              "      <td>15000000.0</td>\n",
              "      <td>2.0</td>\n",
              "      <td>7500000.0</td>\n",
              "      <td>-100000000.0</td>\n",
              "      <td>115000000.0</td>\n",
              "      <td>1.520280e+08</td>\n",
              "      <td>115000000.0</td>\n",
              "      <td>2.0</td>\n",
              "      <td>57500000.0</td>\n",
              "      <td>-0.0</td>\n",
              "      <td>115000000.0</td>\n",
              "      <td>8.131728e+07</td>\n",
              "      <td>-100000000.0</td>\n",
              "      <td>2.0</td>\n",
              "      <td>-50000000.0</td>\n",
              "      <td>-100000000.0</td>\n",
              "      <td>0.0</td>\n",
              "      <td>...</td>\n",
              "      <td>969</td>\n",
              "      <td>231.0</td>\n",
              "      <td>1121.0</td>\n",
              "      <td>1309.0</td>\n",
              "      <td>109.0</td>\n",
              "      <td>12.0</td>\n",
              "      <td>1233.0</td>\n",
              "      <td>83.0</td>\n",
              "      <td>123.0</td>\n",
              "      <td>132.0</td>\n",
              "      <td>149.0</td>\n",
              "      <td>116.0</td>\n",
              "      <td>0</td>\n",
              "      <td>0</td>\n",
              "      <td>0</td>\n",
              "      <td>0</td>\n",
              "      <td>84.0</td>\n",
              "      <td>103.0</td>\n",
              "      <td>117.0</td>\n",
              "      <td>129.0</td>\n",
              "      <td>84.0</td>\n",
              "      <td>100.0</td>\n",
              "      <td>122.0</td>\n",
              "      <td>127.0</td>\n",
              "      <td>113.0</td>\n",
              "      <td>37.0</td>\n",
              "      <td>118.0</td>\n",
              "      <td>115.0</td>\n",
              "      <td>100.0</td>\n",
              "      <td>92.0</td>\n",
              "      <td>99.0</td>\n",
              "      <td>89.0</td>\n",
              "      <td>54.0</td>\n",
              "      <td>70.0</td>\n",
              "      <td>125.0</td>\n",
              "      <td>128.0</td>\n",
              "      <td>109.0</td>\n",
              "      <td>120.0</td>\n",
              "      <td>90.0</td>\n",
              "      <td>80.0</td>\n",
              "    </tr>\n",
              "    <tr>\n",
              "      <th>1</th>\n",
              "      <td>0001007187b4881379a9</td>\n",
              "      <td>0</td>\n",
              "      <td>H004016</td>\n",
              "      <td>33.0</td>\n",
              "      <td>20</td>\n",
              "      <td>1</td>\n",
              "      <td>5029</td>\n",
              "      <td>1647</td>\n",
              "      <td>28211.099609</td>\n",
              "      <td>6296.094971</td>\n",
              "      <td>0.0</td>\n",
              "      <td>5500.0</td>\n",
              "      <td>1715877.80</td>\n",
              "      <td>25998.148485</td>\n",
              "      <td>11411.651071</td>\n",
              "      <td>23047.690</td>\n",
              "      <td>0.0</td>\n",
              "      <td>0.0</td>\n",
              "      <td>0.0</td>\n",
              "      <td>0.0</td>\n",
              "      <td>0.0</td>\n",
              "      <td>0.0</td>\n",
              "      <td>0.000000</td>\n",
              "      <td>0.0</td>\n",
              "      <td>0.0</td>\n",
              "      <td>0.0</td>\n",
              "      <td>0.0</td>\n",
              "      <td>0.0</td>\n",
              "      <td>0.000000e+00</td>\n",
              "      <td>0.0</td>\n",
              "      <td>0.0</td>\n",
              "      <td>0.0</td>\n",
              "      <td>0.0</td>\n",
              "      <td>0.0</td>\n",
              "      <td>0.000000e+00</td>\n",
              "      <td>0.0</td>\n",
              "      <td>0.0</td>\n",
              "      <td>0.0</td>\n",
              "      <td>0.0</td>\n",
              "      <td>0.0</td>\n",
              "      <td>...</td>\n",
              "      <td>243</td>\n",
              "      <td>71.0</td>\n",
              "      <td>961.0</td>\n",
              "      <td>784.0</td>\n",
              "      <td>649.0</td>\n",
              "      <td>23.0</td>\n",
              "      <td>511.0</td>\n",
              "      <td>325.0</td>\n",
              "      <td>43.0</td>\n",
              "      <td>121.0</td>\n",
              "      <td>366.0</td>\n",
              "      <td>144.0</td>\n",
              "      <td>1</td>\n",
              "      <td>1</td>\n",
              "      <td>1</td>\n",
              "      <td>1</td>\n",
              "      <td>257.0</td>\n",
              "      <td>205.0</td>\n",
              "      <td>105.0</td>\n",
              "      <td>36.0</td>\n",
              "      <td>263.0</td>\n",
              "      <td>198.0</td>\n",
              "      <td>20.0</td>\n",
              "      <td>143.0</td>\n",
              "      <td>137.0</td>\n",
              "      <td>146.0</td>\n",
              "      <td>149.0</td>\n",
              "      <td>329.0</td>\n",
              "      <td>87.0</td>\n",
              "      <td>132.0</td>\n",
              "      <td>295.0</td>\n",
              "      <td>149.0</td>\n",
              "      <td>264.0</td>\n",
              "      <td>258.0</td>\n",
              "      <td>4.0</td>\n",
              "      <td>21.0</td>\n",
              "      <td>226.0</td>\n",
              "      <td>7.0</td>\n",
              "      <td>6.0</td>\n",
              "      <td>6.0</td>\n",
              "    </tr>\n",
              "    <tr>\n",
              "      <th>2</th>\n",
              "      <td>000100829f9d67fff3cc</td>\n",
              "      <td>1</td>\n",
              "      <td>H004004</td>\n",
              "      <td>40.0</td>\n",
              "      <td>20</td>\n",
              "      <td>1</td>\n",
              "      <td>3155</td>\n",
              "      <td>3088</td>\n",
              "      <td>219060.570312</td>\n",
              "      <td>45312.064453</td>\n",
              "      <td>0.0</td>\n",
              "      <td>93923.5</td>\n",
              "      <td>2127569.32</td>\n",
              "      <td>32235.898788</td>\n",
              "      <td>25150.943504</td>\n",
              "      <td>30748.625</td>\n",
              "      <td>307.0</td>\n",
              "      <td>4.0</td>\n",
              "      <td>8.0</td>\n",
              "      <td>0.5</td>\n",
              "      <td>0.0</td>\n",
              "      <td>1.0</td>\n",
              "      <td>0.534522</td>\n",
              "      <td>60000000.0</td>\n",
              "      <td>8.0</td>\n",
              "      <td>7500000.0</td>\n",
              "      <td>-100000000.0</td>\n",
              "      <td>115000000.0</td>\n",
              "      <td>1.149223e+08</td>\n",
              "      <td>460000000.0</td>\n",
              "      <td>8.0</td>\n",
              "      <td>57500000.0</td>\n",
              "      <td>-0.0</td>\n",
              "      <td>115000000.0</td>\n",
              "      <td>6.147009e+07</td>\n",
              "      <td>-400000000.0</td>\n",
              "      <td>8.0</td>\n",
              "      <td>-50000000.0</td>\n",
              "      <td>-100000000.0</td>\n",
              "      <td>0.0</td>\n",
              "      <td>...</td>\n",
              "      <td>328</td>\n",
              "      <td>9.0</td>\n",
              "      <td>193.0</td>\n",
              "      <td>226.0</td>\n",
              "      <td>3267.0</td>\n",
              "      <td>108.0</td>\n",
              "      <td>188.0</td>\n",
              "      <td>4.0</td>\n",
              "      <td>354.0</td>\n",
              "      <td>4.0</td>\n",
              "      <td>4.0</td>\n",
              "      <td>322.0</td>\n",
              "      <td>2</td>\n",
              "      <td>2</td>\n",
              "      <td>2</td>\n",
              "      <td>2</td>\n",
              "      <td>288.0</td>\n",
              "      <td>187.0</td>\n",
              "      <td>4.0</td>\n",
              "      <td>31.0</td>\n",
              "      <td>293.0</td>\n",
              "      <td>147.0</td>\n",
              "      <td>24.0</td>\n",
              "      <td>27.0</td>\n",
              "      <td>30.0</td>\n",
              "      <td>25.0</td>\n",
              "      <td>133.0</td>\n",
              "      <td>348.0</td>\n",
              "      <td>351.0</td>\n",
              "      <td>347.0</td>\n",
              "      <td>5.0</td>\n",
              "      <td>319.0</td>\n",
              "      <td>169.0</td>\n",
              "      <td>232.0</td>\n",
              "      <td>31.0</td>\n",
              "      <td>25.0</td>\n",
              "      <td>335.0</td>\n",
              "      <td>57.0</td>\n",
              "      <td>209.0</td>\n",
              "      <td>320.0</td>\n",
              "    </tr>\n",
              "    <tr>\n",
              "      <th>3</th>\n",
              "      <td>000100a5e09da7ad6649</td>\n",
              "      <td>0</td>\n",
              "      <td>0</td>\n",
              "      <td>40.0</td>\n",
              "      <td>20</td>\n",
              "      <td>1</td>\n",
              "      <td>0</td>\n",
              "      <td>0</td>\n",
              "      <td>125431.250000</td>\n",
              "      <td>106981.250000</td>\n",
              "      <td>0.0</td>\n",
              "      <td>750.0</td>\n",
              "      <td>2549419.98</td>\n",
              "      <td>38051.044478</td>\n",
              "      <td>19134.960835</td>\n",
              "      <td>34260.940</td>\n",
              "      <td>0.0</td>\n",
              "      <td>0.0</td>\n",
              "      <td>0.0</td>\n",
              "      <td>0.0</td>\n",
              "      <td>0.0</td>\n",
              "      <td>0.0</td>\n",
              "      <td>0.000000</td>\n",
              "      <td>0.0</td>\n",
              "      <td>0.0</td>\n",
              "      <td>0.0</td>\n",
              "      <td>0.0</td>\n",
              "      <td>0.0</td>\n",
              "      <td>0.000000e+00</td>\n",
              "      <td>0.0</td>\n",
              "      <td>0.0</td>\n",
              "      <td>0.0</td>\n",
              "      <td>0.0</td>\n",
              "      <td>0.0</td>\n",
              "      <td>0.000000e+00</td>\n",
              "      <td>0.0</td>\n",
              "      <td>0.0</td>\n",
              "      <td>0.0</td>\n",
              "      <td>0.0</td>\n",
              "      <td>0.0</td>\n",
              "      <td>...</td>\n",
              "      <td>218</td>\n",
              "      <td>98.0</td>\n",
              "      <td>134.0</td>\n",
              "      <td>231.0</td>\n",
              "      <td>85.0</td>\n",
              "      <td>4069.0</td>\n",
              "      <td>5051.0</td>\n",
              "      <td>431.0</td>\n",
              "      <td>388.0</td>\n",
              "      <td>117.0</td>\n",
              "      <td>139.0</td>\n",
              "      <td>400.0</td>\n",
              "      <td>3</td>\n",
              "      <td>3</td>\n",
              "      <td>3</td>\n",
              "      <td>3</td>\n",
              "      <td>191.0</td>\n",
              "      <td>78.0</td>\n",
              "      <td>109.0</td>\n",
              "      <td>122.0</td>\n",
              "      <td>189.0</td>\n",
              "      <td>73.0</td>\n",
              "      <td>113.0</td>\n",
              "      <td>108.0</td>\n",
              "      <td>115.0</td>\n",
              "      <td>147.0</td>\n",
              "      <td>337.0</td>\n",
              "      <td>315.0</td>\n",
              "      <td>308.0</td>\n",
              "      <td>389.0</td>\n",
              "      <td>382.0</td>\n",
              "      <td>364.0</td>\n",
              "      <td>348.0</td>\n",
              "      <td>342.0</td>\n",
              "      <td>119.0</td>\n",
              "      <td>285.0</td>\n",
              "      <td>368.0</td>\n",
              "      <td>341.0</td>\n",
              "      <td>321.0</td>\n",
              "      <td>369.0</td>\n",
              "    </tr>\n",
              "    <tr>\n",
              "      <th>4</th>\n",
              "      <td>000100d7f3d9e70f62b0</td>\n",
              "      <td>0</td>\n",
              "      <td>0</td>\n",
              "      <td>40.0</td>\n",
              "      <td>20</td>\n",
              "      <td>1</td>\n",
              "      <td>0</td>\n",
              "      <td>0</td>\n",
              "      <td>201915.429688</td>\n",
              "      <td>71909.789062</td>\n",
              "      <td>0.0</td>\n",
              "      <td>64000.0</td>\n",
              "      <td>2142873.94</td>\n",
              "      <td>32467.786970</td>\n",
              "      <td>29537.371300</td>\n",
              "      <td>25494.170</td>\n",
              "      <td>0.0</td>\n",
              "      <td>0.0</td>\n",
              "      <td>0.0</td>\n",
              "      <td>0.0</td>\n",
              "      <td>0.0</td>\n",
              "      <td>0.0</td>\n",
              "      <td>0.000000</td>\n",
              "      <td>0.0</td>\n",
              "      <td>0.0</td>\n",
              "      <td>0.0</td>\n",
              "      <td>0.0</td>\n",
              "      <td>0.0</td>\n",
              "      <td>0.000000e+00</td>\n",
              "      <td>0.0</td>\n",
              "      <td>0.0</td>\n",
              "      <td>0.0</td>\n",
              "      <td>0.0</td>\n",
              "      <td>0.0</td>\n",
              "      <td>0.000000e+00</td>\n",
              "      <td>0.0</td>\n",
              "      <td>0.0</td>\n",
              "      <td>0.0</td>\n",
              "      <td>0.0</td>\n",
              "      <td>0.0</td>\n",
              "      <td>...</td>\n",
              "      <td>473</td>\n",
              "      <td>296.0</td>\n",
              "      <td>397.0</td>\n",
              "      <td>1158.0</td>\n",
              "      <td>317.0</td>\n",
              "      <td>352.0</td>\n",
              "      <td>357.0</td>\n",
              "      <td>531.0</td>\n",
              "      <td>76.0</td>\n",
              "      <td>394.0</td>\n",
              "      <td>600.0</td>\n",
              "      <td>467.0</td>\n",
              "      <td>4</td>\n",
              "      <td>4</td>\n",
              "      <td>4</td>\n",
              "      <td>4</td>\n",
              "      <td>419.0</td>\n",
              "      <td>359.0</td>\n",
              "      <td>430.0</td>\n",
              "      <td>90.0</td>\n",
              "      <td>424.0</td>\n",
              "      <td>29.0</td>\n",
              "      <td>413.0</td>\n",
              "      <td>95.0</td>\n",
              "      <td>373.0</td>\n",
              "      <td>398.0</td>\n",
              "      <td>124.0</td>\n",
              "      <td>406.0</td>\n",
              "      <td>331.0</td>\n",
              "      <td>468.0</td>\n",
              "      <td>1.0</td>\n",
              "      <td>271.0</td>\n",
              "      <td>47.0</td>\n",
              "      <td>279.0</td>\n",
              "      <td>363.0</td>\n",
              "      <td>403.0</td>\n",
              "      <td>149.0</td>\n",
              "      <td>60.0</td>\n",
              "      <td>403.0</td>\n",
              "      <td>444.0</td>\n",
              "    </tr>\n",
              "  </tbody>\n",
              "</table>\n",
              "<p>5 rows × 215 columns</p>\n",
              "</div>"
            ],
            "text/plain": [
              "                 msisdn  label  ... group_count_limit40  group_count_limit50\n",
              "0  00010016bb53e8e3c82e      0  ...                90.0                 80.0\n",
              "1  0001007187b4881379a9      0  ...                 6.0                  6.0\n",
              "2  000100829f9d67fff3cc      1  ...               209.0                320.0\n",
              "3  000100a5e09da7ad6649      0  ...               321.0                369.0\n",
              "4  000100d7f3d9e70f62b0      0  ...               403.0                444.0\n",
              "\n",
              "[5 rows x 215 columns]"
            ]
          },
          "metadata": {
            "tags": []
          },
          "execution_count": 6
        }
      ]
    },
    {
      "cell_type": "code",
      "metadata": {
        "id": "iGIXd5fkl6nM",
        "colab": {
          "base_uri": "https://localhost:8080/",
          "height": 1000
        },
        "outputId": "b7fe4d0b-b876-4428-f5b9-d231b9334db1"
      },
      "source": [
        "classes"
      ],
      "execution_count": null,
      "outputs": [
        {
          "output_type": "execute_result",
          "data": {
            "text/plain": [
              "['COL_14',\n",
              " 'COL_16',\n",
              " 'COL_17',\n",
              " 'COL_18',\n",
              " 'COL_19',\n",
              " 'COL_20',\n",
              " 'COL_21',\n",
              " 'COL_22',\n",
              " 'COL_27a',\n",
              " 'COL_27b',\n",
              " 'COL_27c',\n",
              " 'COL_27d',\n",
              " 'COL_30_sum',\n",
              " 'COL_30_count',\n",
              " 'COL_30_mean',\n",
              " 'COL_31_sum',\n",
              " 'COL_31_mean',\n",
              " 'COL_31_min',\n",
              " 'COL_31_max',\n",
              " 'COL_8_sum',\n",
              " 'COL_8_count',\n",
              " 'COL_8_mean',\n",
              " 'COL_8_min',\n",
              " 'COL_8_max',\n",
              " 'COL_11_sum',\n",
              " 'COL_11_count',\n",
              " 'COL_11_mean',\n",
              " 'UPLOAD_DATA_sum',\n",
              " 'UPLOAD_DATA_count',\n",
              " 'UPLOAD_DATA_mean',\n",
              " 'UPLOAD_DATA_min',\n",
              " 'UPLOAD_DATA_max',\n",
              " 'group',\n",
              " 'group_similar',\n",
              " 'group_count',\n",
              " 'group_count_similar',\n",
              " 'group_20',\n",
              " 'group_20_similar',\n",
              " 'group_count_1_similar',\n",
              " 'group_count_1',\n",
              " 'group_30',\n",
              " 'group_similar_50',\n",
              " 'group_new_50',\n",
              " 'group_new_20',\n",
              " 'COL_8_week_1_sum',\n",
              " 'COL_8_week_1_count',\n",
              " 'COL_8_week_2_sum',\n",
              " 'COL_8_week_2_count',\n",
              " 'COL_8_week_3_sum',\n",
              " 'COL_8_week_3_count',\n",
              " 'COL_8_week_4_sum',\n",
              " 'COL_8_week_4_count',\n",
              " 'COL_8_week_5_sum',\n",
              " 'COL_8_week_5_count',\n",
              " 'group_end_day10',\n",
              " 'group_count_end_day10',\n",
              " 'group_end_day17',\n",
              " 'group_count_end_day17',\n",
              " 'group_end_day24',\n",
              " 'group_count_end_day24',\n",
              " 'group_end_day31',\n",
              " 'group_count_end_day31',\n",
              " 'group_limit10',\n",
              " 'group_limit20',\n",
              " 'group_limit30',\n",
              " 'group_limit40',\n",
              " 'group_limit50',\n",
              " 'group_limit60',\n",
              " 'group_limit70',\n",
              " 'group_limit80',\n",
              " 'group_limit90',\n",
              " 'group_count_limit10',\n",
              " 'group_count_limit20',\n",
              " 'group_count_limit30',\n",
              " 'group_count_limit40',\n",
              " 'group_count_limit50']"
            ]
          },
          "metadata": {
            "tags": []
          },
          "execution_count": 22
        }
      ]
    },
    {
      "cell_type": "code",
      "metadata": {
        "id": "lgDc_HaEsZHH",
        "colab": {
          "base_uri": "https://localhost:8080/",
          "height": 136
        },
        "outputId": "a8ea5eab-376c-4815-d743-02c1990bfe65"
      },
      "source": [
        "exclude_classes = ['msisdn', 'label', 'COL_13']\n",
        "classes = arpu_train.columns\n",
        "classes = classes[3:]\n",
        "classes"
      ],
      "execution_count": null,
      "outputs": [
        {
          "output_type": "execute_result",
          "data": {
            "text/plain": [
              "Index(['COL_14', 'COL_15', 'COL_16', 'COL_17', 'COL_18', 'COL_19', 'COL_20',\n",
              "       'COL_21', 'COL_22', 'COL_27a',\n",
              "       ...\n",
              "       'group_limit0', 'group_limit10', 'group_limit20', 'group_limit30',\n",
              "       'group_limit40', 'group_limit50', 'group_limit60', 'group_limit70',\n",
              "       'group_limit80', 'group_limit90'],\n",
              "      dtype='object', length=205)"
            ]
          },
          "metadata": {
            "tags": []
          },
          "execution_count": 76
        }
      ]
    },
    {
      "cell_type": "markdown",
      "metadata": {
        "id": "UjUkevlPbu5x"
      },
      "source": [
        "## Tách dữ liệu vào tập train và tập validation"
      ]
    },
    {
      "cell_type": "code",
      "metadata": {
        "id": "xcutUa_sgJhf",
        "colab": {
          "base_uri": "https://localhost:8080/",
          "height": 34
        },
        "outputId": "07425cae-85ad-449a-c623-7582a3077506"
      },
      "source": [
        "np.random.seed(0)\n",
        "msk = np.random.rand(len(arpu_train)) <= 0.8\n",
        "train_data = arpu_train[msk]\n",
        "val_data = arpu_train[~msk]\n",
        "msk = np.random.rand(len(val_data)) <= 0.001\n",
        "test_data = val_data[msk]\n",
        "val_data = val_data[~msk]\n",
        "print(len(train_data), len(val_data), len(test_data), len(arpu_train))"
      ],
      "execution_count": null,
      "outputs": [
        {
          "output_type": "stream",
          "text": [
            "46244 11461 16 57721\n"
          ],
          "name": "stdout"
        }
      ]
    },
    {
      "cell_type": "code",
      "metadata": {
        "id": "DRla0fzBhAAI",
        "colab": {
          "base_uri": "https://localhost:8080/",
          "height": 51
        },
        "outputId": "36459685-0087-46c1-b243-9a1ff1aaf020"
      },
      "source": [
        "def make_input(data):\n",
        "  x = data[classes]\n",
        "  y = data['label']\n",
        "  # x = convert_to_tensor(x)\n",
        "  # y = convert_to_tensor(y, tf.int32)\n",
        "  return np.array(x), np.array(y)\n",
        "x_train, y_train = make_input(train_data)\n",
        "print(x_train.shape)\n",
        "x_val, y_val = make_input(val_data)\n",
        "x_test, y_test = make_input(test_data)\n",
        "\n",
        "# Biến weights là biến đánh trọng số cho nhãn, vì đây là bài toán imbalance giữa label 0 và 1\n",
        "weights = class_weight.compute_class_weight('balanced',\n",
        "                                            np.unique(y_train),\n",
        "                                            y_train)\n",
        "weights = {i : weights[i] for i in range(2)}\n",
        "print(weights)"
      ],
      "execution_count": null,
      "outputs": [
        {
          "output_type": "stream",
          "text": [
            "(46244, 76)\n",
            "{0: 0.550471383677745, 1: 5.4533018867924525}\n"
          ],
          "name": "stdout"
        }
      ]
    },
    {
      "cell_type": "markdown",
      "metadata": {
        "id": "j6rcZA8ZcC0G"
      },
      "source": [
        "# Xây dựng model"
      ]
    },
    {
      "cell_type": "markdown",
      "metadata": {
        "id": "mzepT-PqcGcp"
      },
      "source": [
        "## RandomForest Regressor"
      ]
    },
    {
      "cell_type": "code",
      "metadata": {
        "id": "LDqqV0e6DyV7",
        "colab": {
          "base_uri": "https://localhost:8080/",
          "height": 68
        },
        "outputId": "06f8ae21-321a-4d83-fe44-d4679963c392"
      },
      "source": [
        "# Random forest\n",
        "from sklearn.ensemble import RandomForestRegressor\n",
        "sample_weights = [weights[c] for c in y_train]\n",
        "\n",
        "clf = RandomForestRegressor(n_estimators=16, max_depth=8)\n",
        "clf.fit(x_train, y_train, sample_weight=sample_weights)\n",
        "print(clf.score(x_train, y_train))\n",
        "print(clf.score(x_val, y_val))\n",
        "print(clf.score(x_test, y_test))"
      ],
      "execution_count": null,
      "outputs": [
        {
          "output_type": "stream",
          "text": [
            "-0.4315480248166179\n",
            "-0.5634176106001567\n",
            "0.28684073917105757\n"
          ],
          "name": "stdout"
        }
      ]
    },
    {
      "cell_type": "code",
      "metadata": {
        "id": "qzR1IPzgG0wR",
        "colab": {
          "base_uri": "https://localhost:8080/",
          "height": 85
        },
        "outputId": "446079ce-9299-43af-9b0f-6e95a5cad2aa"
      },
      "source": [
        "from sklearn.metrics import roc_auc_score, accuracy_score, f1_score, precision_score, recall_score\n",
        "x_base = x_val\n",
        "y_base = y_val\n",
        "preds = clf.predict(x_base)\n",
        "# preds = np.random.rand(len(y_base))\n",
        "preds_01 = (preds >= 0.5) * 1\n",
        "roc_auc = roc_auc_score(y_base, preds)\n",
        "\n",
        "print('Avg GINI score:', 2*roc_auc - 1)\n",
        "print('Accuracy : ', accuracy_score(y_base, preds_01))\n",
        "print('f1_score', f1_score(y_base, preds_01), precision_score(y_base, preds_01), recall_score(y_base, preds_01))\n",
        "print(sum(preds_01), len(preds_01))"
      ],
      "execution_count": null,
      "outputs": [
        {
          "output_type": "stream",
          "text": [
            "Avg GINI score: 0.7218640366685889\n",
            "Accuracy :  0.863493174658733\n",
            "f1_score 0.46058091286307057 0.35653104925053536 0.650390625\n",
            "934 5714\n"
          ],
          "name": "stdout"
        }
      ]
    },
    {
      "cell_type": "markdown",
      "metadata": {
        "id": "6HtU3nkwcLp_"
      },
      "source": [
        "## Cat Boost"
      ]
    },
    {
      "cell_type": "code",
      "metadata": {
        "id": "rRDf99ooeslC",
        "colab": {
          "base_uri": "https://localhost:8080/",
          "height": 522
        },
        "outputId": "4057a5c8-d780-4bd1-ef0c-a90e1cfb6f79"
      },
      "source": [
        "#Cat Boost\n",
        "!pip install catboost\n",
        "\n",
        "from catboost import CatBoostRegressor\n",
        "cat_weights = [weights[c] for c in y_train]\n",
        "# print(y_train)\n",
        "feature_weights = {'0':weights[0], '1':weights[1]}\n",
        "gbm = CatBoostRegressor(eval_metric='AUC',\n",
        "                        use_best_model=True,\n",
        "                        iterations=2000, \n",
        "                        learning_rate=0.01, \n",
        "                        depth=7,\n",
        "                        # penalties_coefficient=weights[1],\n",
        "                        # feature_weights=feature_weights,\n",
        "                        )\n",
        "gbm.fit(x_train, y_train, eval_set=[(x_train, y_train), (x_val, y_val)], verbose=500)"
      ],
      "execution_count": null,
      "outputs": [
        {
          "output_type": "stream",
          "text": [
            "Collecting catboost\n",
            "\u001b[?25l  Downloading https://files.pythonhosted.org/packages/90/86/c3dcb600b4f9e7584ed90ea9d30a717fb5c0111574675f442c3e7bc19535/catboost-0.24.1-cp36-none-manylinux1_x86_64.whl (66.1MB)\n",
            "\u001b[K     |████████████████████████████████| 66.1MB 131kB/s \n",
            "\u001b[?25hRequirement already satisfied: matplotlib in /usr/local/lib/python3.6/dist-packages (from catboost) (3.2.2)\n",
            "Requirement already satisfied: numpy>=1.16.0 in /usr/local/lib/python3.6/dist-packages (from catboost) (1.18.5)\n",
            "Requirement already satisfied: six in /usr/local/lib/python3.6/dist-packages (from catboost) (1.15.0)\n",
            "Requirement already satisfied: pandas>=0.24.0 in /usr/local/lib/python3.6/dist-packages (from catboost) (1.0.5)\n",
            "Requirement already satisfied: graphviz in /usr/local/lib/python3.6/dist-packages (from catboost) (0.10.1)\n",
            "Requirement already satisfied: plotly in /usr/local/lib/python3.6/dist-packages (from catboost) (4.4.1)\n",
            "Requirement already satisfied: scipy in /usr/local/lib/python3.6/dist-packages (from catboost) (1.4.1)\n",
            "Requirement already satisfied: pyparsing!=2.0.4,!=2.1.2,!=2.1.6,>=2.0.1 in /usr/local/lib/python3.6/dist-packages (from matplotlib->catboost) (2.4.7)\n",
            "Requirement already satisfied: cycler>=0.10 in /usr/local/lib/python3.6/dist-packages (from matplotlib->catboost) (0.10.0)\n",
            "Requirement already satisfied: python-dateutil>=2.1 in /usr/local/lib/python3.6/dist-packages (from matplotlib->catboost) (2.8.1)\n",
            "Requirement already satisfied: kiwisolver>=1.0.1 in /usr/local/lib/python3.6/dist-packages (from matplotlib->catboost) (1.2.0)\n",
            "Requirement already satisfied: pytz>=2017.2 in /usr/local/lib/python3.6/dist-packages (from pandas>=0.24.0->catboost) (2018.9)\n",
            "Requirement already satisfied: retrying>=1.3.3 in /usr/local/lib/python3.6/dist-packages (from plotly->catboost) (1.3.3)\n",
            "Installing collected packages: catboost\n",
            "Successfully installed catboost-0.24.1\n",
            "0:\ttest: 0.7782458\ttest1: 0.7681436\tbest: 0.7681436 (0)\ttotal: 115ms\tremaining: 3m 49s\n",
            "500:\ttest: 0.8818303\ttest1: 0.8695052\tbest: 0.8695052 (500)\ttotal: 27.2s\tremaining: 1m 21s\n",
            "1000:\ttest: 0.9025808\ttest1: 0.8773712\tbest: 0.8773820 (999)\ttotal: 54.6s\tremaining: 54.5s\n",
            "1500:\ttest: 0.9170494\ttest1: 0.8815213\tbest: 0.8815213 (1500)\ttotal: 1m 21s\tremaining: 27.1s\n",
            "1999:\ttest: 0.9283709\ttest1: 0.8834006\tbest: 0.8834006 (1999)\ttotal: 1m 48s\tremaining: 0us\n",
            "\n",
            "bestTest = 0.8834006339\n",
            "bestIteration = 1999\n",
            "\n"
          ],
          "name": "stdout"
        },
        {
          "output_type": "execute_result",
          "data": {
            "text/plain": [
              "<catboost.core.CatBoostRegressor at 0x7f291167ee10>"
            ]
          },
          "metadata": {
            "tags": []
          },
          "execution_count": 85
        }
      ]
    },
    {
      "cell_type": "code",
      "metadata": {
        "id": "9a7VDsBPFODJ",
        "colab": {
          "base_uri": "https://localhost:8080/",
          "height": 86
        },
        "outputId": "4839fe96-31a3-40cf-ecab-31c466c97a03"
      },
      "source": [
        "from sklearn.metrics import roc_auc_score, accuracy_score, f1_score, precision_score, recall_score\n",
        "x_base = x_val\n",
        "y_base = y_val\n",
        "preds = gbm.predict(x_base)\n",
        "# preds = np.random.rand(len(y_base))\n",
        "preds_01 = (preds >= 0.5) * 1\n",
        "roc_auc = roc_auc_score(y_base, preds)\n",
        "\n",
        "print('Avg GINI score:', 2*roc_auc - 1)\n",
        "print('Accuracy : ', accuracy_score(y_base, preds_01))\n",
        "print('f1_score', f1_score(y_base, preds_01), precision_score(y_base, preds_01), recall_score(y_base, preds_01))\n",
        "print(sum(preds_01), len(preds_01))"
      ],
      "execution_count": null,
      "outputs": [
        {
          "output_type": "stream",
          "text": [
            "Avg GINI score: 0.7668012677252363\n",
            "Accuracy :  0.9319431114213419\n",
            "f1_score 0.4967741935483871 0.8279569892473119 0.3548387096774194\n",
            "465 11461\n"
          ],
          "name": "stdout"
        }
      ]
    },
    {
      "cell_type": "code",
      "metadata": {
        "id": "vlXrQxKMOIxI",
        "colab": {
          "base_uri": "https://localhost:8080/",
          "height": 585
        },
        "outputId": "57cfe9ba-6e79-4b69-97d0-79a5506f9a82"
      },
      "source": [
        "feature_importance_df = pd.DataFrame()\n",
        "feature_importance_df[\"feature\"] = classes\n",
        "feature_importance_df[\"importance\"] = gbm.feature_importances_\n",
        "def display_importances(feature_importance_df_):\n",
        "\n",
        "    cols = feature_importance_df_[[\"feature\", \"importance\"]].groupby(\"feature\").mean().sort_values(\n",
        "        by=\"importance\", ascending=False)[:20].index\n",
        "    \n",
        "    best_features = feature_importance_df_.loc[feature_importance_df_.feature.isin(cols)]\n",
        "    \n",
        "    plt.figure(figsize=(12, 8))\n",
        "    sns.barplot(x=\"importance\", y=\"feature\", \n",
        "                data=best_features.sort_values(by=\"importance\", ascending=False))\n",
        "    plt.title('XGBoost Features')\n",
        "    plt.tight_layout()\n",
        "display_importances(feature_importance_df)"
      ],
      "execution_count": null,
      "outputs": [
        {
          "output_type": "display_data",
          "data": {
            "image/png": "[encoded data removed]",
            "text/plain": [
              "<Figure size 864x576 with 1 Axes>"
            ]
          },
          "metadata": {
            "tags": [],
            "needs_background": "light"
          }
        }
      ]
    },
    {
      "cell_type": "markdown",
      "metadata": {
        "id": "Z6ZYvWibcQGT"
      },
      "source": [
        "## Xgboost"
      ]
    },
    {
      "cell_type": "markdown",
      "metadata": {
        "id": "0bcFebQScTpd"
      },
      "source": [
        "### Chưa tunning"
      ]
    },
    {
      "cell_type": "code",
      "metadata": {
        "id": "7IHxVDNHjNG7",
        "colab": {
          "base_uri": "https://localhost:8080/",
          "height": 326
        },
        "outputId": "7741d07f-7dfa-4b24-e365-f0a49adcceb7"
      },
      "source": [
        "# xgbc\n",
        "!pip install xgboost\n",
        "from xgboost import XGBRegressor\n",
        "\n",
        "my_model = XGBRegressor(n_estimators=1000, learning_rate=0.01, n_jobs=-1, scale_pos_weight=weights[1])\n",
        "my_model.fit(x_train, y_train, \n",
        "             eval_metric='auc', \n",
        "             eval_set=[(x_train, y_train), (x_val, y_val)], \n",
        "             verbose=200)"
      ],
      "execution_count": null,
      "outputs": [
        {
          "output_type": "stream",
          "text": [
            "Requirement already satisfied: xgboost in /usr/local/lib/python3.6/dist-packages (0.90)\n",
            "Requirement already satisfied: numpy in /usr/local/lib/python3.6/dist-packages (from xgboost) (1.18.5)\n",
            "Requirement already satisfied: scipy in /usr/local/lib/python3.6/dist-packages (from xgboost) (1.4.1)\n",
            "[13:45:00] WARNING: /workspace/src/objective/regression_obj.cu:152: reg:linear is now deprecated in favor of reg:squarederror.\n",
            "[0]\tvalidation_0-auc:0.721284\tvalidation_1-auc:0.721809\n",
            "[200]\tvalidation_0-auc:0.826694\tvalidation_1-auc:0.811946\n",
            "[400]\tvalidation_0-auc:0.848894\tvalidation_1-auc:0.825631\n",
            "[600]\tvalidation_0-auc:0.857689\tvalidation_1-auc:0.829525\n",
            "[800]\tvalidation_0-auc:0.864441\tvalidation_1-auc:0.832132\n",
            "[999]\tvalidation_0-auc:0.86996\tvalidation_1-auc:0.834125\n"
          ],
          "name": "stdout"
        },
        {
          "output_type": "execute_result",
          "data": {
            "text/plain": [
              "XGBRegressor(base_score=0.5, booster='gbtree', colsample_bylevel=1,\n",
              "             colsample_bynode=1, colsample_bytree=1, gamma=0,\n",
              "             importance_type='gain', learning_rate=0.01, max_delta_step=0,\n",
              "             max_depth=3, min_child_weight=1, missing=None, n_estimators=1000,\n",
              "             n_jobs=-1, nthread=None, objective='reg:linear', random_state=0,\n",
              "             reg_alpha=0, reg_lambda=1, scale_pos_weight=5.420860771401693,\n",
              "             seed=None, silent=None, subsample=1, verbosity=1)"
            ]
          },
          "metadata": {
            "tags": []
          },
          "execution_count": 74
        }
      ]
    },
    {
      "cell_type": "code",
      "metadata": {
        "id": "2dtILs7Plkdr",
        "colab": {
          "base_uri": "https://localhost:8080/",
          "height": 85
        },
        "outputId": "a80073f9-7328-4bdc-b760-3b36c0acdc3b"
      },
      "source": [
        "from sklearn.metrics import roc_auc_score, accuracy_score, f1_score, precision_score, recall_score\n",
        "x_base = x_val\n",
        "y_base = y_val\n",
        "\n",
        "preds = my_model.predict(x_base)\n",
        "# preds = np.random.rand(len(y_base))\n",
        "preds_01 = (preds >= 0.5) * 1\n",
        "roc_auc = roc_auc_score(y_base, preds)\n",
        "\n",
        "print('Avg GINI score:', 2*roc_auc - 1)\n",
        "print('Accuracy : ', accuracy_score(y_base, preds_01))\n",
        "print('f1_score', f1_score(y_base, preds_01), precision_score(y_base, preds_01), recall_score(y_base, preds_01))\n",
        "print(sum(preds_01), len(preds_01))"
      ],
      "execution_count": null,
      "outputs": [
        {
          "output_type": "stream",
          "text": [
            "Avg GINI score: 0.6682496935221831\n",
            "Accuracy :  0.8945736434108527\n",
            "f1_score 0.4831081081081081 0.4420401854714065 0.5325884543761639\n",
            "1294 11610\n"
          ],
          "name": "stdout"
        }
      ]
    },
    {
      "cell_type": "markdown",
      "metadata": {
        "id": "luj7v1kBcW-1"
      },
      "source": [
        "### Sử dụng BayesianOptimization để tuning cho model"
      ]
    },
    {
      "cell_type": "code",
      "metadata": {
        "id": "KB0hvuwCQyR_",
        "colab": {
          "base_uri": "https://localhost:8080/",
          "height": 306
        },
        "outputId": "71add625-b4e3-40e8-ece3-425e229ab7c6"
      },
      "source": [
        "!pip install bayesian-optimization\n",
        "import xgboost as xgb\n",
        "from bayes_opt import BayesianOptimization\n",
        "from sklearn.metrics import mean_squared_error\n",
        "dtrain = xgb.DMatrix(x_train, label=y_train)\n",
        "dtest = xgb.DMatrix(x_val)\n",
        "\n",
        "def xgb_evaluate(max_depth, gamma, colsample_bytree):\n",
        "    params = {'eval_metric': 'auc',\n",
        "              'max_depth': int(max_depth),\n",
        "              'subsample': 0.8,\n",
        "              'eta': 0.1,\n",
        "              'gamma': gamma,\n",
        "              'objective':\"binary:logistic\",\n",
        "              'colsample_bytree': colsample_bytree,\n",
        "              # 'min_child_weight': min_child_weight\n",
        "              }\n",
        "    # Used around 1000 boosting rounds in the full model\n",
        "    cv_result = xgb.cv(params, dtrain, num_boost_round=100, nfold=5)    \n",
        "    \n",
        "    # Bayesian optimization only knows how to maximize, not minimize, so return the negative RMSE\n",
        "    return cv_result['test-auc-mean'].iloc[-1]\n",
        "  \n",
        "xgb_bo = BayesianOptimization(xgb_evaluate, {'max_depth': (3, 7), \n",
        "                                             'gamma': (0, 1),\n",
        "                                             'colsample_bytree': (0.3, 1),\n",
        "                                            #  'min_child_weight': (0.1, 200)\n",
        "                                             })\n",
        "# Use the expected improvement acquisition function to handle negative numbers\n",
        "# Optimally needs quite a few more initiation points and number of iterations\n",
        "xgb_bo.maximize(init_points=3, n_iter=5, acq='ei')\n",
        "params = xgb_bo.max['params']\n",
        "params['max_depth'] = int(params['max_depth'])\n",
        "print(params)\n",
        "\n"
      ],
      "execution_count": null,
      "outputs": [
        {
          "output_type": "stream",
          "text": [
            "Requirement already satisfied: bayesian-optimization in /usr/local/lib/python3.6/dist-packages (1.2.0)\n",
            "Requirement already satisfied: scikit-learn>=0.18.0 in /usr/local/lib/python3.6/dist-packages (from bayesian-optimization) (0.22.2.post1)\n",
            "Requirement already satisfied: scipy>=0.14.0 in /usr/local/lib/python3.6/dist-packages (from bayesian-optimization) (1.4.1)\n",
            "Requirement already satisfied: numpy>=1.9.0 in /usr/local/lib/python3.6/dist-packages (from bayesian-optimization) (1.18.5)\n",
            "Requirement already satisfied: joblib>=0.11 in /usr/local/lib/python3.6/dist-packages (from scikit-learn>=0.18.0->bayesian-optimization) (0.16.0)\n",
            "|   iter    |  target   | colsam... |   gamma   | max_depth |\n",
            "-------------------------------------------------------------\n",
            "| \u001b[0m 1       \u001b[0m | \u001b[0m 0.8854  \u001b[0m | \u001b[0m 0.7286  \u001b[0m | \u001b[0m 0.7944  \u001b[0m | \u001b[0m 6.211   \u001b[0m |\n",
            "| \u001b[0m 2       \u001b[0m | \u001b[0m 0.8804  \u001b[0m | \u001b[0m 0.4331  \u001b[0m | \u001b[0m 0.8826  \u001b[0m | \u001b[0m 3.288   \u001b[0m |\n",
            "| \u001b[95m 3       \u001b[0m | \u001b[95m 0.8859  \u001b[0m | \u001b[95m 0.6098  \u001b[0m | \u001b[95m 0.3526  \u001b[0m | \u001b[95m 6.427   \u001b[0m |\n",
            "| \u001b[95m 4       \u001b[0m | \u001b[95m 0.8859  \u001b[0m | \u001b[95m 0.9889  \u001b[0m | \u001b[95m 0.008885\u001b[0m | \u001b[95m 6.978   \u001b[0m |\n",
            "| \u001b[95m 5       \u001b[0m | \u001b[95m 0.886   \u001b[0m | \u001b[95m 0.3127  \u001b[0m | \u001b[95m 0.8133  \u001b[0m | \u001b[95m 6.993   \u001b[0m |\n",
            "| \u001b[0m 6       \u001b[0m | \u001b[0m 0.8847  \u001b[0m | \u001b[0m 0.9659  \u001b[0m | \u001b[0m 0.9204  \u001b[0m | \u001b[0m 6.981   \u001b[0m |\n",
            "| \u001b[95m 7       \u001b[0m | \u001b[95m 0.8883  \u001b[0m | \u001b[95m 0.4484  \u001b[0m | \u001b[95m 0.004478\u001b[0m | \u001b[95m 6.999   \u001b[0m |\n",
            "| \u001b[0m 8       \u001b[0m | \u001b[0m 0.8872  \u001b[0m | \u001b[0m 0.3038  \u001b[0m | \u001b[0m 0.03085 \u001b[0m | \u001b[0m 6.966   \u001b[0m |\n",
            "=============================================================\n",
            "{'colsample_bytree': 0.44844255082675544, 'gamma': 0.004477924464888039, 'max_depth': 6}\n"
          ],
          "name": "stdout"
        }
      ]
    },
    {
      "cell_type": "code",
      "metadata": {
        "id": "iY7gZuVWYEmL",
        "colab": {
          "base_uri": "https://localhost:8080/",
          "height": 306
        },
        "outputId": "b06b2078-69b4-47df-cd6f-39f703c98e92"
      },
      "source": [
        "# Train a new model with the best parameters from the search\n",
        "modelXGBR = xgb.XGBRegressor(colsample_bytree = params['colsample_bytree'], \n",
        "                          gamma = params['gamma'], max_depth = params['max_depth'], \n",
        "                          # min_child_weight = params['min_child_weight'],\n",
        "                          objective=\"binary:logistic\",\n",
        "                          n_estimators=1000, learning_rate=0.1, n_jobs=-1,\n",
        "                          num_boost_round=250, scale_pos_weight=weights[1])\n",
        "modelXGBR.fit(x_train, y_train, \n",
        "              early_stopping_rounds=100, \n",
        "              eval_metric='auc', \n",
        "              eval_set=[(x_train, y_train), (x_val, y_val)], \n",
        "              verbose=200)"
      ],
      "execution_count": null,
      "outputs": [
        {
          "output_type": "stream",
          "text": [
            "[0]\tvalidation_0-auc:0.806269\tvalidation_1-auc:0.775698\n",
            "Multiple eval metrics have been passed: 'validation_1-auc' will be used for early stopping.\n",
            "\n",
            "Will train until validation_1-auc hasn't improved in 100 rounds.\n",
            "[200]\tvalidation_0-auc:0.983157\tvalidation_1-auc:0.887308\n",
            "Stopping. Best iteration:\n",
            "[190]\tvalidation_0-auc:0.981683\tvalidation_1-auc:0.887604\n",
            "\n"
          ],
          "name": "stdout"
        },
        {
          "output_type": "execute_result",
          "data": {
            "text/plain": [
              "XGBRegressor(base_score=0.5, booster='gbtree', colsample_bylevel=1,\n",
              "             colsample_bynode=1, colsample_bytree=0.44844255082675544,\n",
              "             gamma=0.004477924464888039, importance_type='gain',\n",
              "             learning_rate=0.1, max_delta_step=0, max_depth=6,\n",
              "             min_child_weight=1, missing=None, n_estimators=1000, n_jobs=-1,\n",
              "             nthread=None, num_boost_round=250, objective='binary:logistic',\n",
              "             random_state=0, reg_alpha=0, reg_lambda=1,\n",
              "             scale_pos_weight=5.4533018867924525, seed=None, silent=None,\n",
              "             subsample=1, verbosity=1)"
            ]
          },
          "metadata": {
            "tags": []
          },
          "execution_count": 16
        }
      ]
    },
    {
      "cell_type": "code",
      "metadata": {
        "id": "WV_iIJ5pZbE9",
        "colab": {
          "base_uri": "https://localhost:8080/",
          "height": 85
        },
        "outputId": "87de4960-4d52-42a7-d34e-31149dcea888"
      },
      "source": [
        "from sklearn.metrics import roc_auc_score, accuracy_score, f1_score, precision_score, recall_score\n",
        "x_base = x_val\n",
        "y_base = y_val\n",
        "\n",
        "preds = modelXGBR.predict(x_base)\n",
        "# preds = pd.DataFrame(preds)\n",
        "# preds = preds[1].values\n",
        "preds = preds\n",
        "# preds = np.random.rand(len(y_base))\n",
        "preds_01 = (preds >= 0.5) * 1\n",
        "roc_auc = roc_auc_score(y_base, preds)\n",
        "\n",
        "print('Avg GINI score:', 2*roc_auc - 1)\n",
        "print('Accuracy : ', accuracy_score(y_base, preds_01))\n",
        "print('f1_score', f1_score(y_base, preds_01), precision_score(y_base, preds_01), recall_score(y_base, preds_01))\n",
        "print(sum(preds_01), len(preds_01))"
      ],
      "execution_count": null,
      "outputs": [
        {
          "output_type": "stream",
          "text": [
            "Avg GINI score: 0.775207053498147\n",
            "Accuracy :  0.9213855684495245\n",
            "f1_score 0.5928603705377316 0.5815602836879432 0.6046082949308755\n",
            "1128 11461\n"
          ],
          "name": "stdout"
        }
      ]
    },
    {
      "cell_type": "code",
      "metadata": {
        "id": "xytj4mfJZ482"
      },
      "source": [
        "val_data['preds'] = preds\n",
        "\n",
        "val_data['rmse'] = (val_data['label'] - preds) * (val_data['label'] - preds)"
      ],
      "execution_count": null,
      "outputs": []
    },
    {
      "cell_type": "code",
      "metadata": {
        "id": "Rgi6ZOiJgsAN",
        "colab": {
          "base_uri": "https://localhost:8080/",
          "height": 456
        },
        "outputId": "fed71815-d0ab-4d00-e640-b3ef18a066f7"
      },
      "source": [
        "val_data"
      ],
      "execution_count": null,
      "outputs": [
        {
          "output_type": "execute_result",
          "data": {
            "text/html": [
              "<div>\n",
              "<style scoped>\n",
              "    .dataframe tbody tr th:only-of-type {\n",
              "        vertical-align: middle;\n",
              "    }\n",
              "\n",
              "    .dataframe tbody tr th {\n",
              "        vertical-align: top;\n",
              "    }\n",
              "\n",
              "    .dataframe thead th {\n",
              "        text-align: right;\n",
              "    }\n",
              "</style>\n",
              "<table border=\"1\" class=\"dataframe\">\n",
              "  <thead>\n",
              "    <tr style=\"text-align: right;\">\n",
              "      <th></th>\n",
              "      <th>msisdn</th>\n",
              "      <th>label</th>\n",
              "      <th>COL_13</th>\n",
              "      <th>COL_14</th>\n",
              "      <th>COL_15</th>\n",
              "      <th>COL_16</th>\n",
              "      <th>COL_17</th>\n",
              "      <th>COL_18</th>\n",
              "      <th>COL_19</th>\n",
              "      <th>COL_20</th>\n",
              "      <th>COL_21</th>\n",
              "      <th>COL_22</th>\n",
              "      <th>COL_27a</th>\n",
              "      <th>COL_27b</th>\n",
              "      <th>COL_27c</th>\n",
              "      <th>COL_27d</th>\n",
              "      <th>COL_25_min</th>\n",
              "      <th>COL_23_sum</th>\n",
              "      <th>COL_23_count</th>\n",
              "      <th>COL_23_mean</th>\n",
              "      <th>COL_23_min</th>\n",
              "      <th>COL_23_max</th>\n",
              "      <th>COL_23_std</th>\n",
              "      <th>COL_24_sum</th>\n",
              "      <th>COL_24_count</th>\n",
              "      <th>COL_24_mean</th>\n",
              "      <th>COL_24_min</th>\n",
              "      <th>COL_24_max</th>\n",
              "      <th>COL_24_std</th>\n",
              "      <th>COL_24a_sum</th>\n",
              "      <th>COL_24a_count</th>\n",
              "      <th>COL_24a_mean</th>\n",
              "      <th>COL_24a_min</th>\n",
              "      <th>COL_24a_max</th>\n",
              "      <th>COL_24a_std</th>\n",
              "      <th>COL_24b_sum</th>\n",
              "      <th>COL_24b_count</th>\n",
              "      <th>COL_24b_mean</th>\n",
              "      <th>COL_24b_min</th>\n",
              "      <th>COL_24b_max</th>\n",
              "      <th>...</th>\n",
              "      <th>group_20_similar</th>\n",
              "      <th>group_count_1_similar</th>\n",
              "      <th>group_count_1</th>\n",
              "      <th>group_30</th>\n",
              "      <th>group_similar_50</th>\n",
              "      <th>group_new_50</th>\n",
              "      <th>group_new_20</th>\n",
              "      <th>group_dendrogram</th>\n",
              "      <th>group_dendrogram_2</th>\n",
              "      <th>group_35</th>\n",
              "      <th>Unnamed: 0_y</th>\n",
              "      <th>Unnamed: 0.1</th>\n",
              "      <th>Unnamed: 0.1.1</th>\n",
              "      <th>Unnamed: 0.1.1.1</th>\n",
              "      <th>group_end_day10</th>\n",
              "      <th>group_end_day17</th>\n",
              "      <th>group_end_day24</th>\n",
              "      <th>group_end_day31</th>\n",
              "      <th>group_count_end_day10</th>\n",
              "      <th>group_count_end_day17</th>\n",
              "      <th>group_count_end_day24</th>\n",
              "      <th>group_count_end_day31</th>\n",
              "      <th>group_limit0</th>\n",
              "      <th>group_limit10</th>\n",
              "      <th>group_limit20</th>\n",
              "      <th>group_limit30</th>\n",
              "      <th>group_limit40</th>\n",
              "      <th>group_limit50</th>\n",
              "      <th>group_limit60</th>\n",
              "      <th>group_limit70</th>\n",
              "      <th>group_limit80</th>\n",
              "      <th>group_limit90</th>\n",
              "      <th>group_count_limit0</th>\n",
              "      <th>group_count_limit10</th>\n",
              "      <th>group_count_limit20</th>\n",
              "      <th>group_count_limit30</th>\n",
              "      <th>group_count_limit40</th>\n",
              "      <th>group_count_limit50</th>\n",
              "      <th>preds</th>\n",
              "      <th>rmse</th>\n",
              "    </tr>\n",
              "  </thead>\n",
              "  <tbody>\n",
              "    <tr>\n",
              "      <th>7</th>\n",
              "      <td>000101327f45cacc175c</td>\n",
              "      <td>0</td>\n",
              "      <td>0</td>\n",
              "      <td>40.0</td>\n",
              "      <td>20</td>\n",
              "      <td>1</td>\n",
              "      <td>0</td>\n",
              "      <td>0</td>\n",
              "      <td>119781.324219</td>\n",
              "      <td>105510.824219</td>\n",
              "      <td>0.0</td>\n",
              "      <td>2570.5</td>\n",
              "      <td>8546290.91</td>\n",
              "      <td>129489.256212</td>\n",
              "      <td>81923.432310</td>\n",
              "      <td>166969.530</td>\n",
              "      <td>319.0</td>\n",
              "      <td>1.0</td>\n",
              "      <td>2.0</td>\n",
              "      <td>0.500000</td>\n",
              "      <td>0.0</td>\n",
              "      <td>1.0</td>\n",
              "      <td>0.707107</td>\n",
              "      <td>15000000.0</td>\n",
              "      <td>2.0</td>\n",
              "      <td>7.500000e+06</td>\n",
              "      <td>-100000000.0</td>\n",
              "      <td>115000000.0</td>\n",
              "      <td>1.520280e+08</td>\n",
              "      <td>115000000.0</td>\n",
              "      <td>2.0</td>\n",
              "      <td>5.750000e+07</td>\n",
              "      <td>-0.0</td>\n",
              "      <td>115000000.0</td>\n",
              "      <td>8.131728e+07</td>\n",
              "      <td>-100000000.0</td>\n",
              "      <td>2.0</td>\n",
              "      <td>-5.000000e+07</td>\n",
              "      <td>-100000000.0</td>\n",
              "      <td>0.0</td>\n",
              "      <td>...</td>\n",
              "      <td>404.0</td>\n",
              "      <td>306.0</td>\n",
              "      <td>46.0</td>\n",
              "      <td>669.0</td>\n",
              "      <td>1363.0</td>\n",
              "      <td>692.0</td>\n",
              "      <td>34.0</td>\n",
              "      <td>156.0</td>\n",
              "      <td>814.0</td>\n",
              "      <td>26.0</td>\n",
              "      <td>7</td>\n",
              "      <td>7</td>\n",
              "      <td>7</td>\n",
              "      <td>7</td>\n",
              "      <td>540.0</td>\n",
              "      <td>53.0</td>\n",
              "      <td>270.0</td>\n",
              "      <td>147.0</td>\n",
              "      <td>229.0</td>\n",
              "      <td>527.0</td>\n",
              "      <td>286.0</td>\n",
              "      <td>58.0</td>\n",
              "      <td>168.0</td>\n",
              "      <td>54.0</td>\n",
              "      <td>358.0</td>\n",
              "      <td>118.0</td>\n",
              "      <td>24.0</td>\n",
              "      <td>171.0</td>\n",
              "      <td>246.0</td>\n",
              "      <td>580.0</td>\n",
              "      <td>302.0</td>\n",
              "      <td>535.0</td>\n",
              "      <td>128.0</td>\n",
              "      <td>51.0</td>\n",
              "      <td>36.0</td>\n",
              "      <td>112.0</td>\n",
              "      <td>25.0</td>\n",
              "      <td>571.0</td>\n",
              "      <td>0.075723</td>\n",
              "      <td>0.005734</td>\n",
              "    </tr>\n",
              "    <tr>\n",
              "      <th>8</th>\n",
              "      <td>00010132e962f636f960</td>\n",
              "      <td>0</td>\n",
              "      <td>0</td>\n",
              "      <td>40.0</td>\n",
              "      <td>20</td>\n",
              "      <td>1</td>\n",
              "      <td>0</td>\n",
              "      <td>0</td>\n",
              "      <td>190917.289062</td>\n",
              "      <td>67287.783203</td>\n",
              "      <td>0.0</td>\n",
              "      <td>7529.5</td>\n",
              "      <td>1721633.92</td>\n",
              "      <td>25696.028657</td>\n",
              "      <td>24751.962917</td>\n",
              "      <td>13613.670</td>\n",
              "      <td>323.0</td>\n",
              "      <td>1.0</td>\n",
              "      <td>2.0</td>\n",
              "      <td>0.500000</td>\n",
              "      <td>0.0</td>\n",
              "      <td>1.0</td>\n",
              "      <td>0.707107</td>\n",
              "      <td>15000000.0</td>\n",
              "      <td>2.0</td>\n",
              "      <td>7.500000e+06</td>\n",
              "      <td>-100000000.0</td>\n",
              "      <td>115000000.0</td>\n",
              "      <td>1.520280e+08</td>\n",
              "      <td>115000000.0</td>\n",
              "      <td>2.0</td>\n",
              "      <td>5.750000e+07</td>\n",
              "      <td>-0.0</td>\n",
              "      <td>115000000.0</td>\n",
              "      <td>8.131728e+07</td>\n",
              "      <td>-100000000.0</td>\n",
              "      <td>2.0</td>\n",
              "      <td>-5.000000e+07</td>\n",
              "      <td>-100000000.0</td>\n",
              "      <td>0.0</td>\n",
              "      <td>...</td>\n",
              "      <td>1001.0</td>\n",
              "      <td>537.0</td>\n",
              "      <td>16.0</td>\n",
              "      <td>157.0</td>\n",
              "      <td>1067.0</td>\n",
              "      <td>695.0</td>\n",
              "      <td>475.0</td>\n",
              "      <td>54.0</td>\n",
              "      <td>54.0</td>\n",
              "      <td>125.0</td>\n",
              "      <td>8</td>\n",
              "      <td>8</td>\n",
              "      <td>8</td>\n",
              "      <td>8</td>\n",
              "      <td>387.0</td>\n",
              "      <td>540.0</td>\n",
              "      <td>50.0</td>\n",
              "      <td>55.0</td>\n",
              "      <td>264.0</td>\n",
              "      <td>528.0</td>\n",
              "      <td>51.0</td>\n",
              "      <td>57.0</td>\n",
              "      <td>57.0</td>\n",
              "      <td>23.0</td>\n",
              "      <td>399.0</td>\n",
              "      <td>126.0</td>\n",
              "      <td>503.0</td>\n",
              "      <td>576.0</td>\n",
              "      <td>533.0</td>\n",
              "      <td>481.0</td>\n",
              "      <td>544.0</td>\n",
              "      <td>537.0</td>\n",
              "      <td>56.0</td>\n",
              "      <td>237.0</td>\n",
              "      <td>120.0</td>\n",
              "      <td>499.0</td>\n",
              "      <td>513.0</td>\n",
              "      <td>474.0</td>\n",
              "      <td>0.069646</td>\n",
              "      <td>0.004851</td>\n",
              "    </tr>\n",
              "    <tr>\n",
              "      <th>13</th>\n",
              "      <td>000101f237ef8d7141fd</td>\n",
              "      <td>0</td>\n",
              "      <td>0</td>\n",
              "      <td>40.0</td>\n",
              "      <td>20</td>\n",
              "      <td>1</td>\n",
              "      <td>0</td>\n",
              "      <td>0</td>\n",
              "      <td>93871.308594</td>\n",
              "      <td>69636.808594</td>\n",
              "      <td>0.0</td>\n",
              "      <td>1559.5</td>\n",
              "      <td>1855075.54</td>\n",
              "      <td>21570.645814</td>\n",
              "      <td>13994.786756</td>\n",
              "      <td>21267.420</td>\n",
              "      <td>319.0</td>\n",
              "      <td>2.0</td>\n",
              "      <td>4.0</td>\n",
              "      <td>0.500000</td>\n",
              "      <td>0.0</td>\n",
              "      <td>1.0</td>\n",
              "      <td>0.577350</td>\n",
              "      <td>30000000.0</td>\n",
              "      <td>4.0</td>\n",
              "      <td>7.500000e+06</td>\n",
              "      <td>-100000000.0</td>\n",
              "      <td>115000000.0</td>\n",
              "      <td>1.241303e+08</td>\n",
              "      <td>230000000.0</td>\n",
              "      <td>4.0</td>\n",
              "      <td>5.750000e+07</td>\n",
              "      <td>-0.0</td>\n",
              "      <td>115000000.0</td>\n",
              "      <td>6.639528e+07</td>\n",
              "      <td>-200000000.0</td>\n",
              "      <td>4.0</td>\n",
              "      <td>-5.000000e+07</td>\n",
              "      <td>-100000000.0</td>\n",
              "      <td>0.0</td>\n",
              "      <td>...</td>\n",
              "      <td>100.0</td>\n",
              "      <td>2408.0</td>\n",
              "      <td>155.0</td>\n",
              "      <td>663.0</td>\n",
              "      <td>99.0</td>\n",
              "      <td>113.0</td>\n",
              "      <td>583.0</td>\n",
              "      <td>85.0</td>\n",
              "      <td>107.0</td>\n",
              "      <td>462.0</td>\n",
              "      <td>13</td>\n",
              "      <td>13</td>\n",
              "      <td>13</td>\n",
              "      <td>13</td>\n",
              "      <td>738.0</td>\n",
              "      <td>164.0</td>\n",
              "      <td>297.0</td>\n",
              "      <td>83.0</td>\n",
              "      <td>747.0</td>\n",
              "      <td>676.0</td>\n",
              "      <td>306.0</td>\n",
              "      <td>88.0</td>\n",
              "      <td>83.0</td>\n",
              "      <td>257.0</td>\n",
              "      <td>308.0</td>\n",
              "      <td>671.0</td>\n",
              "      <td>650.0</td>\n",
              "      <td>769.0</td>\n",
              "      <td>786.0</td>\n",
              "      <td>114.0</td>\n",
              "      <td>780.0</td>\n",
              "      <td>197.0</td>\n",
              "      <td>200.0</td>\n",
              "      <td>79.0</td>\n",
              "      <td>603.0</td>\n",
              "      <td>702.0</td>\n",
              "      <td>130.0</td>\n",
              "      <td>810.0</td>\n",
              "      <td>0.114004</td>\n",
              "      <td>0.012997</td>\n",
              "    </tr>\n",
              "    <tr>\n",
              "      <th>17</th>\n",
              "      <td>0001025bb53fe8052884</td>\n",
              "      <td>0</td>\n",
              "      <td>0</td>\n",
              "      <td>40.0</td>\n",
              "      <td>20</td>\n",
              "      <td>1</td>\n",
              "      <td>0</td>\n",
              "      <td>0</td>\n",
              "      <td>29367.799805</td>\n",
              "      <td>13740.250000</td>\n",
              "      <td>0.0</td>\n",
              "      <td>10500.0</td>\n",
              "      <td>1718324.00</td>\n",
              "      <td>26035.212121</td>\n",
              "      <td>12846.037177</td>\n",
              "      <td>26010.350</td>\n",
              "      <td>0.0</td>\n",
              "      <td>0.0</td>\n",
              "      <td>0.0</td>\n",
              "      <td>0.000000</td>\n",
              "      <td>0.0</td>\n",
              "      <td>0.0</td>\n",
              "      <td>0.000000</td>\n",
              "      <td>0.0</td>\n",
              "      <td>0.0</td>\n",
              "      <td>0.000000e+00</td>\n",
              "      <td>0.0</td>\n",
              "      <td>0.0</td>\n",
              "      <td>0.000000e+00</td>\n",
              "      <td>0.0</td>\n",
              "      <td>0.0</td>\n",
              "      <td>0.000000e+00</td>\n",
              "      <td>0.0</td>\n",
              "      <td>0.0</td>\n",
              "      <td>0.000000e+00</td>\n",
              "      <td>0.0</td>\n",
              "      <td>0.0</td>\n",
              "      <td>0.000000e+00</td>\n",
              "      <td>0.0</td>\n",
              "      <td>0.0</td>\n",
              "      <td>...</td>\n",
              "      <td>887.0</td>\n",
              "      <td>63.0</td>\n",
              "      <td>60.0</td>\n",
              "      <td>4077.0</td>\n",
              "      <td>5060.0</td>\n",
              "      <td>1115.0</td>\n",
              "      <td>705.0</td>\n",
              "      <td>40.0</td>\n",
              "      <td>43.0</td>\n",
              "      <td>777.0</td>\n",
              "      <td>17</td>\n",
              "      <td>17</td>\n",
              "      <td>17</td>\n",
              "      <td>17</td>\n",
              "      <td>841.0</td>\n",
              "      <td>745.0</td>\n",
              "      <td>20.0</td>\n",
              "      <td>24.0</td>\n",
              "      <td>844.0</td>\n",
              "      <td>747.0</td>\n",
              "      <td>122.0</td>\n",
              "      <td>20.0</td>\n",
              "      <td>42.0</td>\n",
              "      <td>48.0</td>\n",
              "      <td>41.0</td>\n",
              "      <td>734.0</td>\n",
              "      <td>799.0</td>\n",
              "      <td>856.0</td>\n",
              "      <td>874.0</td>\n",
              "      <td>901.0</td>\n",
              "      <td>888.0</td>\n",
              "      <td>886.0</td>\n",
              "      <td>24.0</td>\n",
              "      <td>18.0</td>\n",
              "      <td>675.0</td>\n",
              "      <td>782.0</td>\n",
              "      <td>864.0</td>\n",
              "      <td>911.0</td>\n",
              "      <td>0.071567</td>\n",
              "      <td>0.005122</td>\n",
              "    </tr>\n",
              "    <tr>\n",
              "      <th>19</th>\n",
              "      <td>0001028f9e65b8453f83</td>\n",
              "      <td>0</td>\n",
              "      <td>S022004</td>\n",
              "      <td>19.0</td>\n",
              "      <td>48</td>\n",
              "      <td>1</td>\n",
              "      <td>2128</td>\n",
              "      <td>825</td>\n",
              "      <td>0.000000</td>\n",
              "      <td>0.000000</td>\n",
              "      <td>0.0</td>\n",
              "      <td>0.0</td>\n",
              "      <td>349.14</td>\n",
              "      <td>5.290000</td>\n",
              "      <td>0.000000</td>\n",
              "      <td>5.290</td>\n",
              "      <td>311.0</td>\n",
              "      <td>2.0</td>\n",
              "      <td>3.0</td>\n",
              "      <td>0.666667</td>\n",
              "      <td>0.0</td>\n",
              "      <td>1.0</td>\n",
              "      <td>0.577350</td>\n",
              "      <td>14950000.0</td>\n",
              "      <td>3.0</td>\n",
              "      <td>4.983333e+06</td>\n",
              "      <td>-100000000.0</td>\n",
              "      <td>100027900.0</td>\n",
              "      <td>1.003836e+08</td>\n",
              "      <td>114950000.0</td>\n",
              "      <td>3.0</td>\n",
              "      <td>3.831667e+07</td>\n",
              "      <td>-0.0</td>\n",
              "      <td>100027900.0</td>\n",
              "      <td>5.396179e+07</td>\n",
              "      <td>-100000000.0</td>\n",
              "      <td>3.0</td>\n",
              "      <td>-3.333333e+07</td>\n",
              "      <td>-100000000.0</td>\n",
              "      <td>0.0</td>\n",
              "      <td>...</td>\n",
              "      <td>3240.0</td>\n",
              "      <td>6250.0</td>\n",
              "      <td>5364.0</td>\n",
              "      <td>4078.0</td>\n",
              "      <td>5061.0</td>\n",
              "      <td>1169.0</td>\n",
              "      <td>727.0</td>\n",
              "      <td>10.0</td>\n",
              "      <td>9.0</td>\n",
              "      <td>811.0</td>\n",
              "      <td>19</td>\n",
              "      <td>19</td>\n",
              "      <td>19</td>\n",
              "      <td>19</td>\n",
              "      <td>879.0</td>\n",
              "      <td>774.0</td>\n",
              "      <td>2.0</td>\n",
              "      <td>9.0</td>\n",
              "      <td>890.0</td>\n",
              "      <td>776.0</td>\n",
              "      <td>2.0</td>\n",
              "      <td>9.0</td>\n",
              "      <td>9.0</td>\n",
              "      <td>8.0</td>\n",
              "      <td>676.0</td>\n",
              "      <td>764.0</td>\n",
              "      <td>831.0</td>\n",
              "      <td>895.0</td>\n",
              "      <td>908.0</td>\n",
              "      <td>950.0</td>\n",
              "      <td>932.0</td>\n",
              "      <td>936.0</td>\n",
              "      <td>10.0</td>\n",
              "      <td>56.0</td>\n",
              "      <td>698.0</td>\n",
              "      <td>817.0</td>\n",
              "      <td>903.0</td>\n",
              "      <td>951.0</td>\n",
              "      <td>0.034123</td>\n",
              "      <td>0.001164</td>\n",
              "    </tr>\n",
              "    <tr>\n",
              "      <th>...</th>\n",
              "      <td>...</td>\n",
              "      <td>...</td>\n",
              "      <td>...</td>\n",
              "      <td>...</td>\n",
              "      <td>...</td>\n",
              "      <td>...</td>\n",
              "      <td>...</td>\n",
              "      <td>...</td>\n",
              "      <td>...</td>\n",
              "      <td>...</td>\n",
              "      <td>...</td>\n",
              "      <td>...</td>\n",
              "      <td>...</td>\n",
              "      <td>...</td>\n",
              "      <td>...</td>\n",
              "      <td>...</td>\n",
              "      <td>...</td>\n",
              "      <td>...</td>\n",
              "      <td>...</td>\n",
              "      <td>...</td>\n",
              "      <td>...</td>\n",
              "      <td>...</td>\n",
              "      <td>...</td>\n",
              "      <td>...</td>\n",
              "      <td>...</td>\n",
              "      <td>...</td>\n",
              "      <td>...</td>\n",
              "      <td>...</td>\n",
              "      <td>...</td>\n",
              "      <td>...</td>\n",
              "      <td>...</td>\n",
              "      <td>...</td>\n",
              "      <td>...</td>\n",
              "      <td>...</td>\n",
              "      <td>...</td>\n",
              "      <td>...</td>\n",
              "      <td>...</td>\n",
              "      <td>...</td>\n",
              "      <td>...</td>\n",
              "      <td>...</td>\n",
              "      <td>...</td>\n",
              "      <td>...</td>\n",
              "      <td>...</td>\n",
              "      <td>...</td>\n",
              "      <td>...</td>\n",
              "      <td>...</td>\n",
              "      <td>...</td>\n",
              "      <td>...</td>\n",
              "      <td>...</td>\n",
              "      <td>...</td>\n",
              "      <td>...</td>\n",
              "      <td>...</td>\n",
              "      <td>...</td>\n",
              "      <td>...</td>\n",
              "      <td>...</td>\n",
              "      <td>...</td>\n",
              "      <td>...</td>\n",
              "      <td>...</td>\n",
              "      <td>...</td>\n",
              "      <td>...</td>\n",
              "      <td>...</td>\n",
              "      <td>...</td>\n",
              "      <td>...</td>\n",
              "      <td>...</td>\n",
              "      <td>...</td>\n",
              "      <td>...</td>\n",
              "      <td>...</td>\n",
              "      <td>...</td>\n",
              "      <td>...</td>\n",
              "      <td>...</td>\n",
              "      <td>...</td>\n",
              "      <td>...</td>\n",
              "      <td>...</td>\n",
              "      <td>...</td>\n",
              "      <td>...</td>\n",
              "      <td>...</td>\n",
              "      <td>...</td>\n",
              "      <td>...</td>\n",
              "      <td>...</td>\n",
              "      <td>...</td>\n",
              "      <td>...</td>\n",
              "    </tr>\n",
              "    <tr>\n",
              "      <th>57708</th>\n",
              "      <td>0001becc61b4d5089e3f</td>\n",
              "      <td>1</td>\n",
              "      <td>0</td>\n",
              "      <td>20.0</td>\n",
              "      <td>20</td>\n",
              "      <td>1</td>\n",
              "      <td>0</td>\n",
              "      <td>0</td>\n",
              "      <td>0.000000</td>\n",
              "      <td>0.000000</td>\n",
              "      <td>0.0</td>\n",
              "      <td>0.0</td>\n",
              "      <td>2170.05</td>\n",
              "      <td>25.530000</td>\n",
              "      <td>0.000000</td>\n",
              "      <td>25.530</td>\n",
              "      <td>307.0</td>\n",
              "      <td>1.0</td>\n",
              "      <td>2.0</td>\n",
              "      <td>0.500000</td>\n",
              "      <td>0.0</td>\n",
              "      <td>1.0</td>\n",
              "      <td>0.707107</td>\n",
              "      <td>15000000.0</td>\n",
              "      <td>2.0</td>\n",
              "      <td>7.500000e+06</td>\n",
              "      <td>-100000000.0</td>\n",
              "      <td>115000000.0</td>\n",
              "      <td>1.520280e+08</td>\n",
              "      <td>115000000.0</td>\n",
              "      <td>2.0</td>\n",
              "      <td>5.750000e+07</td>\n",
              "      <td>-0.0</td>\n",
              "      <td>115000000.0</td>\n",
              "      <td>8.131728e+07</td>\n",
              "      <td>-100000000.0</td>\n",
              "      <td>2.0</td>\n",
              "      <td>-5.000000e+07</td>\n",
              "      <td>-100000000.0</td>\n",
              "      <td>0.0</td>\n",
              "      <td>...</td>\n",
              "      <td>55.0</td>\n",
              "      <td>98.0</td>\n",
              "      <td>129.0</td>\n",
              "      <td>6.0</td>\n",
              "      <td>55.0</td>\n",
              "      <td>4.0</td>\n",
              "      <td>8.0</td>\n",
              "      <td>11.0</td>\n",
              "      <td>10.0</td>\n",
              "      <td>3.0</td>\n",
              "      <td>57708</td>\n",
              "      <td>57708</td>\n",
              "      <td>57708</td>\n",
              "      <td>57708</td>\n",
              "      <td>6.0</td>\n",
              "      <td>7.0</td>\n",
              "      <td>8.0</td>\n",
              "      <td>10.0</td>\n",
              "      <td>6.0</td>\n",
              "      <td>7.0</td>\n",
              "      <td>8.0</td>\n",
              "      <td>3.0</td>\n",
              "      <td>10.0</td>\n",
              "      <td>9.0</td>\n",
              "      <td>9.0</td>\n",
              "      <td>6.0</td>\n",
              "      <td>3.0</td>\n",
              "      <td>6.0</td>\n",
              "      <td>5.0</td>\n",
              "      <td>4.0</td>\n",
              "      <td>5.0</td>\n",
              "      <td>4.0</td>\n",
              "      <td>11.0</td>\n",
              "      <td>9.0</td>\n",
              "      <td>29.0</td>\n",
              "      <td>7.0</td>\n",
              "      <td>6.0</td>\n",
              "      <td>6.0</td>\n",
              "      <td>0.942993</td>\n",
              "      <td>0.003250</td>\n",
              "    </tr>\n",
              "    <tr>\n",
              "      <th>57709</th>\n",
              "      <td>0001c20c93a6fdd8d3e8</td>\n",
              "      <td>1</td>\n",
              "      <td>P210004</td>\n",
              "      <td>9.0</td>\n",
              "      <td>42</td>\n",
              "      <td>1</td>\n",
              "      <td>1883</td>\n",
              "      <td>1285</td>\n",
              "      <td>0.000000</td>\n",
              "      <td>0.000000</td>\n",
              "      <td>0.0</td>\n",
              "      <td>0.0</td>\n",
              "      <td>277274.25</td>\n",
              "      <td>3262.050000</td>\n",
              "      <td>0.000000</td>\n",
              "      <td>3262.050</td>\n",
              "      <td>0.0</td>\n",
              "      <td>0.0</td>\n",
              "      <td>0.0</td>\n",
              "      <td>0.000000</td>\n",
              "      <td>0.0</td>\n",
              "      <td>0.0</td>\n",
              "      <td>0.000000</td>\n",
              "      <td>0.0</td>\n",
              "      <td>0.0</td>\n",
              "      <td>0.000000e+00</td>\n",
              "      <td>0.0</td>\n",
              "      <td>0.0</td>\n",
              "      <td>0.000000e+00</td>\n",
              "      <td>0.0</td>\n",
              "      <td>0.0</td>\n",
              "      <td>0.000000e+00</td>\n",
              "      <td>0.0</td>\n",
              "      <td>0.0</td>\n",
              "      <td>0.000000e+00</td>\n",
              "      <td>0.0</td>\n",
              "      <td>0.0</td>\n",
              "      <td>0.000000e+00</td>\n",
              "      <td>0.0</td>\n",
              "      <td>0.0</td>\n",
              "      <td>...</td>\n",
              "      <td>179.0</td>\n",
              "      <td>36177.0</td>\n",
              "      <td>34654.0</td>\n",
              "      <td>215.0</td>\n",
              "      <td>175.0</td>\n",
              "      <td>585.0</td>\n",
              "      <td>94.0</td>\n",
              "      <td>87.0</td>\n",
              "      <td>68.0</td>\n",
              "      <td>59.0</td>\n",
              "      <td>57709</td>\n",
              "      <td>57709</td>\n",
              "      <td>57709</td>\n",
              "      <td>57709</td>\n",
              "      <td>0.0</td>\n",
              "      <td>0.0</td>\n",
              "      <td>57.0</td>\n",
              "      <td>84.0</td>\n",
              "      <td>0.0</td>\n",
              "      <td>0.0</td>\n",
              "      <td>58.0</td>\n",
              "      <td>34.0</td>\n",
              "      <td>33.0</td>\n",
              "      <td>95.0</td>\n",
              "      <td>56.0</td>\n",
              "      <td>25.0</td>\n",
              "      <td>46.0</td>\n",
              "      <td>52.0</td>\n",
              "      <td>0.0</td>\n",
              "      <td>0.0</td>\n",
              "      <td>0.0</td>\n",
              "      <td>0.0</td>\n",
              "      <td>34.0</td>\n",
              "      <td>53.0</td>\n",
              "      <td>101.0</td>\n",
              "      <td>123.0</td>\n",
              "      <td>66.0</td>\n",
              "      <td>384.0</td>\n",
              "      <td>0.921436</td>\n",
              "      <td>0.006172</td>\n",
              "    </tr>\n",
              "    <tr>\n",
              "      <th>57710</th>\n",
              "      <td>0001c314dbb293378529</td>\n",
              "      <td>1</td>\n",
              "      <td>V211006</td>\n",
              "      <td>5.0</td>\n",
              "      <td>61</td>\n",
              "      <td>1</td>\n",
              "      <td>966</td>\n",
              "      <td>922</td>\n",
              "      <td>104332.492188</td>\n",
              "      <td>43332.491211</td>\n",
              "      <td>0.0</td>\n",
              "      <td>11425.0</td>\n",
              "      <td>603241.73</td>\n",
              "      <td>9140.026212</td>\n",
              "      <td>12501.531915</td>\n",
              "      <td>4028.255</td>\n",
              "      <td>313.0</td>\n",
              "      <td>2.0</td>\n",
              "      <td>5.0</td>\n",
              "      <td>0.400000</td>\n",
              "      <td>0.0</td>\n",
              "      <td>1.0</td>\n",
              "      <td>0.547723</td>\n",
              "      <td>-70000000.0</td>\n",
              "      <td>5.0</td>\n",
              "      <td>-1.400000e+07</td>\n",
              "      <td>-100000000.0</td>\n",
              "      <td>115000000.0</td>\n",
              "      <td>1.177603e+08</td>\n",
              "      <td>230000000.0</td>\n",
              "      <td>5.0</td>\n",
              "      <td>4.600000e+07</td>\n",
              "      <td>-0.0</td>\n",
              "      <td>115000000.0</td>\n",
              "      <td>6.298809e+07</td>\n",
              "      <td>-300000000.0</td>\n",
              "      <td>5.0</td>\n",
              "      <td>-6.000000e+07</td>\n",
              "      <td>-100000000.0</td>\n",
              "      <td>0.0</td>\n",
              "      <td>...</td>\n",
              "      <td>270.0</td>\n",
              "      <td>270.0</td>\n",
              "      <td>254.0</td>\n",
              "      <td>243.0</td>\n",
              "      <td>265.0</td>\n",
              "      <td>114.0</td>\n",
              "      <td>8.0</td>\n",
              "      <td>11.0</td>\n",
              "      <td>10.0</td>\n",
              "      <td>3.0</td>\n",
              "      <td>57710</td>\n",
              "      <td>57710</td>\n",
              "      <td>57710</td>\n",
              "      <td>57710</td>\n",
              "      <td>6.0</td>\n",
              "      <td>7.0</td>\n",
              "      <td>8.0</td>\n",
              "      <td>36.0</td>\n",
              "      <td>6.0</td>\n",
              "      <td>7.0</td>\n",
              "      <td>8.0</td>\n",
              "      <td>3.0</td>\n",
              "      <td>10.0</td>\n",
              "      <td>9.0</td>\n",
              "      <td>9.0</td>\n",
              "      <td>6.0</td>\n",
              "      <td>3.0</td>\n",
              "      <td>773.0</td>\n",
              "      <td>677.0</td>\n",
              "      <td>603.0</td>\n",
              "      <td>361.0</td>\n",
              "      <td>38.0</td>\n",
              "      <td>4.0</td>\n",
              "      <td>9.0</td>\n",
              "      <td>8.0</td>\n",
              "      <td>7.0</td>\n",
              "      <td>6.0</td>\n",
              "      <td>54.0</td>\n",
              "      <td>0.540928</td>\n",
              "      <td>0.210747</td>\n",
              "    </tr>\n",
              "    <tr>\n",
              "      <th>57713</th>\n",
              "      <td>0001c4ede282c1eeec8d</td>\n",
              "      <td>1</td>\n",
              "      <td>0</td>\n",
              "      <td>33.0</td>\n",
              "      <td>20</td>\n",
              "      <td>0</td>\n",
              "      <td>0</td>\n",
              "      <td>0</td>\n",
              "      <td>74929.144531</td>\n",
              "      <td>27901.144531</td>\n",
              "      <td>0.0</td>\n",
              "      <td>47028.0</td>\n",
              "      <td>162782.28</td>\n",
              "      <td>2466.398182</td>\n",
              "      <td>10016.378331</td>\n",
              "      <td>20.720</td>\n",
              "      <td>320.0</td>\n",
              "      <td>1.0</td>\n",
              "      <td>3.0</td>\n",
              "      <td>0.333333</td>\n",
              "      <td>0.0</td>\n",
              "      <td>1.0</td>\n",
              "      <td>0.577350</td>\n",
              "      <td>-85000000.0</td>\n",
              "      <td>3.0</td>\n",
              "      <td>-2.833333e+07</td>\n",
              "      <td>-100000000.0</td>\n",
              "      <td>115000000.0</td>\n",
              "      <td>1.241303e+08</td>\n",
              "      <td>115000000.0</td>\n",
              "      <td>3.0</td>\n",
              "      <td>3.833333e+07</td>\n",
              "      <td>-0.0</td>\n",
              "      <td>115000000.0</td>\n",
              "      <td>6.639528e+07</td>\n",
              "      <td>-200000000.0</td>\n",
              "      <td>3.0</td>\n",
              "      <td>-6.666667e+07</td>\n",
              "      <td>-100000000.0</td>\n",
              "      <td>0.0</td>\n",
              "      <td>...</td>\n",
              "      <td>445.0</td>\n",
              "      <td>595.0</td>\n",
              "      <td>673.0</td>\n",
              "      <td>338.0</td>\n",
              "      <td>619.0</td>\n",
              "      <td>3952.0</td>\n",
              "      <td>317.0</td>\n",
              "      <td>78.0</td>\n",
              "      <td>159.0</td>\n",
              "      <td>248.0</td>\n",
              "      <td>57713</td>\n",
              "      <td>57713</td>\n",
              "      <td>57713</td>\n",
              "      <td>57713</td>\n",
              "      <td>249.0</td>\n",
              "      <td>22.0</td>\n",
              "      <td>359.0</td>\n",
              "      <td>34.0</td>\n",
              "      <td>363.0</td>\n",
              "      <td>437.0</td>\n",
              "      <td>353.0</td>\n",
              "      <td>135.0</td>\n",
              "      <td>128.0</td>\n",
              "      <td>94.0</td>\n",
              "      <td>310.0</td>\n",
              "      <td>59.0</td>\n",
              "      <td>301.0</td>\n",
              "      <td>748.0</td>\n",
              "      <td>132.0</td>\n",
              "      <td>762.0</td>\n",
              "      <td>1462.0</td>\n",
              "      <td>67.0</td>\n",
              "      <td>4.0</td>\n",
              "      <td>280.0</td>\n",
              "      <td>52.0</td>\n",
              "      <td>769.0</td>\n",
              "      <td>527.0</td>\n",
              "      <td>939.0</td>\n",
              "      <td>0.334796</td>\n",
              "      <td>0.442496</td>\n",
              "    </tr>\n",
              "    <tr>\n",
              "      <th>57720</th>\n",
              "      <td>0001fd58309b6e1168cb</td>\n",
              "      <td>1</td>\n",
              "      <td>V211008</td>\n",
              "      <td>51.0</td>\n",
              "      <td>61</td>\n",
              "      <td>1</td>\n",
              "      <td>1443</td>\n",
              "      <td>1443</td>\n",
              "      <td>80364.941406</td>\n",
              "      <td>864.940002</td>\n",
              "      <td>0.0</td>\n",
              "      <td>0.0</td>\n",
              "      <td>3940996.00</td>\n",
              "      <td>58820.835821</td>\n",
              "      <td>16025.279503</td>\n",
              "      <td>54066.800</td>\n",
              "      <td>0.0</td>\n",
              "      <td>0.0</td>\n",
              "      <td>0.0</td>\n",
              "      <td>0.000000</td>\n",
              "      <td>0.0</td>\n",
              "      <td>0.0</td>\n",
              "      <td>0.000000</td>\n",
              "      <td>0.0</td>\n",
              "      <td>0.0</td>\n",
              "      <td>0.000000e+00</td>\n",
              "      <td>0.0</td>\n",
              "      <td>0.0</td>\n",
              "      <td>0.000000e+00</td>\n",
              "      <td>0.0</td>\n",
              "      <td>0.0</td>\n",
              "      <td>0.000000e+00</td>\n",
              "      <td>0.0</td>\n",
              "      <td>0.0</td>\n",
              "      <td>0.000000e+00</td>\n",
              "      <td>0.0</td>\n",
              "      <td>0.0</td>\n",
              "      <td>0.000000e+00</td>\n",
              "      <td>0.0</td>\n",
              "      <td>0.0</td>\n",
              "      <td>...</td>\n",
              "      <td>1653.0</td>\n",
              "      <td>660.0</td>\n",
              "      <td>466.0</td>\n",
              "      <td>192.0</td>\n",
              "      <td>1968.0</td>\n",
              "      <td>100.0</td>\n",
              "      <td>56.0</td>\n",
              "      <td>62.0</td>\n",
              "      <td>66.0</td>\n",
              "      <td>155.0</td>\n",
              "      <td>57720</td>\n",
              "      <td>57720</td>\n",
              "      <td>57720</td>\n",
              "      <td>57720</td>\n",
              "      <td>36.0</td>\n",
              "      <td>17.0</td>\n",
              "      <td>57.0</td>\n",
              "      <td>66.0</td>\n",
              "      <td>348.0</td>\n",
              "      <td>46.0</td>\n",
              "      <td>58.0</td>\n",
              "      <td>69.0</td>\n",
              "      <td>65.0</td>\n",
              "      <td>95.0</td>\n",
              "      <td>56.0</td>\n",
              "      <td>25.0</td>\n",
              "      <td>46.0</td>\n",
              "      <td>52.0</td>\n",
              "      <td>52.0</td>\n",
              "      <td>54.0</td>\n",
              "      <td>48.0</td>\n",
              "      <td>354.0</td>\n",
              "      <td>66.0</td>\n",
              "      <td>61.0</td>\n",
              "      <td>53.0</td>\n",
              "      <td>123.0</td>\n",
              "      <td>66.0</td>\n",
              "      <td>316.0</td>\n",
              "      <td>0.068496</td>\n",
              "      <td>0.867700</td>\n",
              "    </tr>\n",
              "  </tbody>\n",
              "</table>\n",
              "<p>11461 rows × 217 columns</p>\n",
              "</div>"
            ],
            "text/plain": [
              "                     msisdn  label  ...     preds      rmse\n",
              "7      000101327f45cacc175c      0  ...  0.075723  0.005734\n",
              "8      00010132e962f636f960      0  ...  0.069646  0.004851\n",
              "13     000101f237ef8d7141fd      0  ...  0.114004  0.012997\n",
              "17     0001025bb53fe8052884      0  ...  0.071567  0.005122\n",
              "19     0001028f9e65b8453f83      0  ...  0.034123  0.001164\n",
              "...                     ...    ...  ...       ...       ...\n",
              "57708  0001becc61b4d5089e3f      1  ...  0.942993  0.003250\n",
              "57709  0001c20c93a6fdd8d3e8      1  ...  0.921436  0.006172\n",
              "57710  0001c314dbb293378529      1  ...  0.540928  0.210747\n",
              "57713  0001c4ede282c1eeec8d      1  ...  0.334796  0.442496\n",
              "57720  0001fd58309b6e1168cb      1  ...  0.068496  0.867700\n",
              "\n",
              "[11461 rows x 217 columns]"
            ]
          },
          "metadata": {
            "tags": []
          },
          "execution_count": 20
        }
      ]
    },
    {
      "cell_type": "code",
      "metadata": {
        "id": "ecUBgIExgw2T",
        "colab": {
          "base_uri": "https://localhost:8080/",
          "height": 221
        },
        "outputId": "700f9e80-7b81-46a0-ccc9-b3823a94c3c0"
      },
      "source": [
        "val_data.group_count_1.value_counts()"
      ],
      "execution_count": null,
      "outputs": [
        {
          "output_type": "execute_result",
          "data": {
            "text/plain": [
              "32.0       205\n",
              "129.0      193\n",
              "39.0       154\n",
              "26.0       137\n",
              "85.0       132\n",
              "          ... \n",
              "8841.0       1\n",
              "27616.0      1\n",
              "8528.0       1\n",
              "2892.0       1\n",
              "15820.0      1\n",
              "Name: group_count_1, Length: 4448, dtype: int64"
            ]
          },
          "metadata": {
            "tags": []
          },
          "execution_count": 21
        }
      ]
    },
    {
      "cell_type": "code",
      "metadata": {
        "id": "UC7W2A0dg9WN",
        "colab": {
          "base_uri": "https://localhost:8080/",
          "height": 419
        },
        "outputId": "4d4b9726-0bbe-40fa-f5e5-a05a9a7d58f3"
      },
      "source": [
        "val_data.loc[val_data.group_count_1 == 32][['label', 'preds']]"
      ],
      "execution_count": null,
      "outputs": [
        {
          "output_type": "execute_result",
          "data": {
            "text/html": [
              "<div>\n",
              "<style scoped>\n",
              "    .dataframe tbody tr th:only-of-type {\n",
              "        vertical-align: middle;\n",
              "    }\n",
              "\n",
              "    .dataframe tbody tr th {\n",
              "        vertical-align: top;\n",
              "    }\n",
              "\n",
              "    .dataframe thead th {\n",
              "        text-align: right;\n",
              "    }\n",
              "</style>\n",
              "<table border=\"1\" class=\"dataframe\">\n",
              "  <thead>\n",
              "    <tr style=\"text-align: right;\">\n",
              "      <th></th>\n",
              "      <th>label</th>\n",
              "      <th>preds</th>\n",
              "    </tr>\n",
              "  </thead>\n",
              "  <tbody>\n",
              "    <tr>\n",
              "      <th>595</th>\n",
              "      <td>0</td>\n",
              "      <td>0.098400</td>\n",
              "    </tr>\n",
              "    <tr>\n",
              "      <th>1473</th>\n",
              "      <td>0</td>\n",
              "      <td>0.071594</td>\n",
              "    </tr>\n",
              "    <tr>\n",
              "      <th>1690</th>\n",
              "      <td>0</td>\n",
              "      <td>0.064437</td>\n",
              "    </tr>\n",
              "    <tr>\n",
              "      <th>1900</th>\n",
              "      <td>0</td>\n",
              "      <td>0.071289</td>\n",
              "    </tr>\n",
              "    <tr>\n",
              "      <th>2068</th>\n",
              "      <td>0</td>\n",
              "      <td>0.002945</td>\n",
              "    </tr>\n",
              "    <tr>\n",
              "      <th>...</th>\n",
              "      <td>...</td>\n",
              "      <td>...</td>\n",
              "    </tr>\n",
              "    <tr>\n",
              "      <th>55716</th>\n",
              "      <td>1</td>\n",
              "      <td>0.193892</td>\n",
              "    </tr>\n",
              "    <tr>\n",
              "      <th>55778</th>\n",
              "      <td>1</td>\n",
              "      <td>0.037129</td>\n",
              "    </tr>\n",
              "    <tr>\n",
              "      <th>57062</th>\n",
              "      <td>1</td>\n",
              "      <td>0.672784</td>\n",
              "    </tr>\n",
              "    <tr>\n",
              "      <th>57182</th>\n",
              "      <td>1</td>\n",
              "      <td>0.977842</td>\n",
              "    </tr>\n",
              "    <tr>\n",
              "      <th>57569</th>\n",
              "      <td>1</td>\n",
              "      <td>0.967676</td>\n",
              "    </tr>\n",
              "  </tbody>\n",
              "</table>\n",
              "<p>205 rows × 2 columns</p>\n",
              "</div>"
            ],
            "text/plain": [
              "       label     preds\n",
              "595        0  0.098400\n",
              "1473       0  0.071594\n",
              "1690       0  0.064437\n",
              "1900       0  0.071289\n",
              "2068       0  0.002945\n",
              "...      ...       ...\n",
              "55716      1  0.193892\n",
              "55778      1  0.037129\n",
              "57062      1  0.672784\n",
              "57182      1  0.977842\n",
              "57569      1  0.967676\n",
              "\n",
              "[205 rows x 2 columns]"
            ]
          },
          "metadata": {
            "tags": []
          },
          "execution_count": 23
        }
      ]
    },
    {
      "cell_type": "code",
      "metadata": {
        "id": "db7CruCXhM6U"
      },
      "source": [
        "arpu_train['preds'] = modelXGBR.predict(arpu_train[classes].to_numpy())"
      ],
      "execution_count": null,
      "outputs": []
    },
    {
      "cell_type": "code",
      "metadata": {
        "id": "ieIq8YLxhq3v",
        "colab": {
          "base_uri": "https://localhost:8080/",
          "height": 204
        },
        "outputId": "37c33956-9d01-4865-9739-9ae6cd57a4dd"
      },
      "source": [
        "arpu_train.group.value_counts()[:10]"
      ],
      "execution_count": null,
      "outputs": [
        {
          "output_type": "execute_result",
          "data": {
            "text/plain": [
              "6      2858\n",
              "102    2037\n",
              "8      1657\n",
              "95     1481\n",
              "114    1267\n",
              "46     1177\n",
              "48     1120\n",
              "67      733\n",
              "24      630\n",
              "108     618\n",
              "Name: group, dtype: int64"
            ]
          },
          "metadata": {
            "tags": []
          },
          "execution_count": 41
        }
      ]
    },
    {
      "cell_type": "code",
      "metadata": {
        "id": "Pv6KcCt0iyyU"
      },
      "source": [
        "top5 = arpu_train.loc[arpu_train.group.isin([6, 102, 8, 95, 114, 46])]\n"
      ],
      "execution_count": null,
      "outputs": []
    },
    {
      "cell_type": "code",
      "metadata": {
        "id": "ZxL01z23jReV"
      },
      "source": [
        "top5 = top5.groupby('group').agg({'label': ['count', 'sum']})\n",
        "top5.columns = top5.columns.map(\"_\".join)"
      ],
      "execution_count": null,
      "outputs": []
    },
    {
      "cell_type": "code",
      "metadata": {
        "id": "t6Of4mPljvGf",
        "colab": {
          "base_uri": "https://localhost:8080/",
          "height": 235
        },
        "outputId": "ee4b817a-a905-495f-8226-93d09360353a"
      },
      "source": [
        "top5 = top5.reset_index()\n",
        "top5"
      ],
      "execution_count": null,
      "outputs": [
        {
          "output_type": "execute_result",
          "data": {
            "text/html": [
              "<div>\n",
              "<style scoped>\n",
              "    .dataframe tbody tr th:only-of-type {\n",
              "        vertical-align: middle;\n",
              "    }\n",
              "\n",
              "    .dataframe tbody tr th {\n",
              "        vertical-align: top;\n",
              "    }\n",
              "\n",
              "    .dataframe thead th {\n",
              "        text-align: right;\n",
              "    }\n",
              "</style>\n",
              "<table border=\"1\" class=\"dataframe\">\n",
              "  <thead>\n",
              "    <tr style=\"text-align: right;\">\n",
              "      <th></th>\n",
              "      <th>group</th>\n",
              "      <th>label_count</th>\n",
              "      <th>label_sum</th>\n",
              "    </tr>\n",
              "  </thead>\n",
              "  <tbody>\n",
              "    <tr>\n",
              "      <th>0</th>\n",
              "      <td>6</td>\n",
              "      <td>2858</td>\n",
              "      <td>659</td>\n",
              "    </tr>\n",
              "    <tr>\n",
              "      <th>1</th>\n",
              "      <td>8</td>\n",
              "      <td>1657</td>\n",
              "      <td>59</td>\n",
              "    </tr>\n",
              "    <tr>\n",
              "      <th>2</th>\n",
              "      <td>46</td>\n",
              "      <td>1177</td>\n",
              "      <td>58</td>\n",
              "    </tr>\n",
              "    <tr>\n",
              "      <th>3</th>\n",
              "      <td>95</td>\n",
              "      <td>1481</td>\n",
              "      <td>815</td>\n",
              "    </tr>\n",
              "    <tr>\n",
              "      <th>4</th>\n",
              "      <td>102</td>\n",
              "      <td>2037</td>\n",
              "      <td>951</td>\n",
              "    </tr>\n",
              "    <tr>\n",
              "      <th>5</th>\n",
              "      <td>114</td>\n",
              "      <td>1267</td>\n",
              "      <td>31</td>\n",
              "    </tr>\n",
              "  </tbody>\n",
              "</table>\n",
              "</div>"
            ],
            "text/plain": [
              "   group  label_count  label_sum\n",
              "0      6         2858        659\n",
              "1      8         1657         59\n",
              "2     46         1177         58\n",
              "3     95         1481        815\n",
              "4    102         2037        951\n",
              "5    114         1267         31"
            ]
          },
          "metadata": {
            "tags": []
          },
          "execution_count": 73
        }
      ]
    },
    {
      "cell_type": "code",
      "metadata": {
        "id": "2i1x_vfOk-C9"
      },
      "source": [
        "top5['label_0'] = top5['label_count'] - top5['label_sum']"
      ],
      "execution_count": null,
      "outputs": []
    },
    {
      "cell_type": "code",
      "metadata": {
        "id": "kvF3zaS0ix0j",
        "colab": {
          "base_uri": "https://localhost:8080/",
          "height": 739
        },
        "outputId": "385f013a-482a-4cc0-f4e2-42baec4b6b81"
      },
      "source": [
        "df = pd.DataFrame({\n",
        "    'Group': top5.group.values,\n",
        "    \n",
        "    'Label 1': top5.label_sum,\n",
        "    'Label 0': top5.label_0,\n",
        "    # 'Total': [3002+19663, 2325+32731, 5327+52394],\n",
        "})\n",
        "fig, ax1 = plt.subplots(figsize=(10, 8))\n",
        "tidy = df.melt(id_vars='Group').rename(columns=str.title)\n",
        "sns.barplot(x='Group', y='Value', hue='Variable', data=tidy, ax=ax1)\n",
        "\n",
        "total = [2858, 1657, 1177, 1120, 1481, 2037, 1267]\n",
        "\n",
        "for stt, p in enumerate(ax1.patches):\n",
        "    height = p.get_height()\n",
        "    print(stt, total[stt%7], height)\n",
        "    ax1.text(p.get_x()+p.get_width()/2.,\n",
        "            height + 10,\n",
        "            '{:1.2f}%'.format(height*100/total[stt%7]),\n",
        "            ha=\"center\") \n",
        "\n",
        "ax1.set_title(\"Tương quan giữa label 0 và 1 của top 6 group đông nhất\", fontsize=18)"
      ],
      "execution_count": null,
      "outputs": [
        {
          "output_type": "stream",
          "text": [
            "0 2858 659.0\n",
            "1 1657 59.0\n",
            "2 1177 58.0\n",
            "3 1120 815.0\n",
            "4 1481 951.0\n",
            "5 2037 31.0\n",
            "6 1267 2199.0\n",
            "7 2858 1598.0\n",
            "8 1657 1119.0\n",
            "9 1177 666.0\n",
            "10 1120 1086.0\n",
            "11 1481 1236.0\n"
          ],
          "name": "stdout"
        },
        {
          "output_type": "execute_result",
          "data": {
            "text/plain": [
              "Text(0.5, 1.0, 'Tương quan giữa label 0 và 1 của top 6 group đông nhất')"
            ]
          },
          "metadata": {
            "tags": []
          },
          "execution_count": 75
        },
        {
          "output_type": "display_data",
          "data": {
            "image/png": "[encoded data removed]",
            "text/plain": [
              "<Figure size 720x576 with 1 Axes>"
            ]
          },
          "metadata": {
            "tags": [],
            "needs_background": "light"
          }
        }
      ]
    },
    {
      "cell_type": "code",
      "metadata": {
        "id": "IXKzsY_ekDyN",
        "colab": {
          "base_uri": "https://localhost:8080/",
          "height": 1000
        },
        "outputId": "23b40e45-ffc5-42e9-d335-087438c4a4b6"
      },
      "source": [
        "#  fig, ax = plt.subplots(4, 2,figsize=(15, 30))\n",
        " \n",
        "stt = 0\n",
        "for i in [6, 8, 46, 48, 95, 102, 114]:\n",
        "   group = arpu_train[arpu_train['group'] == i]\n",
        "   sns.displot(group['preds'].values,kind= \"kde\")\n",
        "   plt.title(\"Phân bố predict của group \" + str(i))\n",
        "   stt=stt+1"
      ],
      "execution_count": null,
      "outputs": [
        {
          "output_type": "display_data",
          "data": {
            "image/png": "[encoded data removed]",
            "text/plain": [
              "<Figure size 360x360 with 1 Axes>"
            ]
          },
          "metadata": {
            "tags": [],
            "needs_background": "light"
          }
        },
        {
          "output_type": "display_data",
          "data": {
            "image/png": "[encoded data removed]",
            "text/plain": [
              "<Figure size 360x360 with 1 Axes>"
            ]
          },
          "metadata": {
            "tags": [],
            "needs_background": "light"
          }
        },
        {
          "output_type": "display_data",
          "data": {
            "image/png": "[encoded data removed]",
            "text/plain": [
              "<Figure size 360x360 with 1 Axes>"
            ]
          },
          "metadata": {
            "tags": [],
            "needs_background": "light"
          }
        },
        {
          "output_type": "display_data",
          "data": {
            "image/png": "[encoded data removed]",
            "text/plain": [
              "<Figure size 360x360 with 1 Axes>"
            ]
          },
          "metadata": {
            "tags": [],
            "needs_background": "light"
          }
        },
        {
          "output_type": "display_data",
          "data": {
            "image/png": "[encoded data removed]",
            "text/plain": [
              "<Figure size 360x360 with 1 Axes>"
            ]
          },
          "metadata": {
            "tags": [],
            "needs_background": "light"
          }
        },
        {
          "output_type": "display_data",
          "data": {
            "image/png": "[encoded data removed]",
            "text/plain": [
              "<Figure size 360x360 with 1 Axes>"
            ]
          },
          "metadata": {
            "tags": [],
            "needs_background": "light"
          }
        },
        {
          "output_type": "display_data",
          "data": {
            "image/png": "[encoded data removed]",
            "text/plain": [
              "<Figure size 360x360 with 1 Axes>"
            ]
          },
          "metadata": {
            "tags": [],
            "needs_background": "light"
          }
        }
      ]
    },
    {
      "cell_type": "code",
      "metadata": {
        "id": "-VENd4WAhzrk",
        "colab": {
          "base_uri": "https://localhost:8080/",
          "height": 68
        },
        "outputId": "17ced37d-85f7-441e-bf59-227d8bbe0eea"
      },
      "source": [
        "arpu_train[arpu_train.group == 95].label.value_counts()"
      ],
      "execution_count": null,
      "outputs": [
        {
          "output_type": "execute_result",
          "data": {
            "text/plain": [
              "1    815\n",
              "0    666\n",
              "Name: label, dtype: int64"
            ]
          },
          "metadata": {
            "tags": []
          },
          "execution_count": 40
        }
      ]
    },
    {
      "cell_type": "code",
      "metadata": {
        "id": "Dl3Mupmeh8Ps",
        "colab": {
          "base_uri": "https://localhost:8080/",
          "height": 282
        },
        "outputId": "7a857665-921d-4d5f-f7e1-f4ea4121133f"
      },
      "source": [
        "arpu_train[arpu_train.group == 95].preds.hist(bins=100)"
      ],
      "execution_count": null,
      "outputs": [
        {
          "output_type": "execute_result",
          "data": {
            "text/plain": [
              "<matplotlib.axes._subplots.AxesSubplot at 0x7fa242b55c18>"
            ]
          },
          "metadata": {
            "tags": []
          },
          "execution_count": 39
        },
        {
          "output_type": "display_data",
          "data": {
            "image/png": "[encoded data removed]",
            "text/plain": [
              "<Figure size 432x288 with 1 Axes>"
            ]
          },
          "metadata": {
            "tags": [],
            "needs_background": "light"
          }
        }
      ]
    },
    {
      "cell_type": "code",
      "metadata": {
        "id": "qtUspNuuaIwV",
        "colab": {
          "base_uri": "https://localhost:8080/",
          "height": 69
        },
        "outputId": "7c4dbaa3-b0c7-4ebd-e24a-75b0be475a80"
      },
      "source": [
        "val_data.loc[val_data.preds > 0.9].label.value_counts()"
      ],
      "execution_count": null,
      "outputs": [
        {
          "output_type": "execute_result",
          "data": {
            "text/plain": [
              "1    333\n",
              "0     52\n",
              "Name: label, dtype: int64"
            ]
          },
          "metadata": {
            "tags": []
          },
          "execution_count": 65
        }
      ]
    },
    {
      "cell_type": "code",
      "metadata": {
        "id": "eQC5wt6YnZ9W",
        "colab": {
          "base_uri": "https://localhost:8080/",
          "height": 585
        },
        "outputId": "3a4ca6af-6805-4fb6-b396-c46362590357"
      },
      "source": [
        "feature_importance_df = pd.DataFrame()\n",
        "feature_importance_df[\"feature\"] = classes\n",
        "feature_importance_df[\"importance\"] = modelXGBR.feature_importances_\n",
        "def display_importances(feature_importance_df_):\n",
        "\n",
        "    cols = feature_importance_df_[[\"feature\", \"importance\"]].groupby(\"feature\").mean().sort_values(\n",
        "        by=\"importance\", ascending=False)[:20].index\n",
        "    \n",
        "    best_features = feature_importance_df_.loc[feature_importance_df_.feature.isin(cols)]\n",
        "    \n",
        "    plt.figure(figsize=(12, 8))\n",
        "    sns.barplot(x=\"importance\", y=\"feature\", \n",
        "                data=best_features.sort_values(by=\"importance\", ascending=False))\n",
        "    plt.title('XGBoost Features')\n",
        "    plt.tight_layout()\n",
        "display_importances(feature_importance_df)"
      ],
      "execution_count": null,
      "outputs": [
        {
          "output_type": "display_data",
          "data": {
            "image/png": "[encoded data removed]",
            "text/plain": [
              "<Figure size 864x576 with 1 Axes>"
            ]
          },
          "metadata": {
            "tags": [],
            "needs_background": "light"
          }
        }
      ]
    },
    {
      "cell_type": "markdown",
      "metadata": {
        "id": "FudzitQdckbG"
      },
      "source": [
        "## LGBM"
      ]
    },
    {
      "cell_type": "code",
      "metadata": {
        "id": "U3mIXghwwHyU",
        "colab": {
          "base_uri": "https://localhost:8080/",
          "height": 204
        },
        "outputId": "e368a8f6-23b0-4aae-cb5a-c56b833474af"
      },
      "source": [
        "#LGBM\n",
        "from lightgbm import LGBMModel,LGBMRegressor\n",
        "from sklearn.model_selection import StratifiedKFold\n",
        "from sklearn.metrics import roc_auc_score\n",
        "from hyperopt import hp, tpe, fmin\n",
        "from sklearn.model_selection import cross_val_score\n",
        "\n",
        "lgbm = LGBMRegressor(eval_metric='auc',\n",
        "                        use_best_model=True,\n",
        "                        n_estimators=1000, \n",
        "                        learning_rate=0.01, \n",
        "                        depth=7,\n",
        "                     class_weight=weights)\n",
        "lgbm.fit(x_train, y_train, eval_set=[(x_train, y_train)], eval_metric='auc', verbose=500)\n",
        "\n",
        "# lgbm =  LGBMRegressor(objective='binary',metrics ='auc', class_weight=weights)\n",
        "# lgbm.fit(x_train, y_train)\n",
        "\n"
      ],
      "execution_count": null,
      "outputs": [
        {
          "output_type": "stream",
          "text": [
            "[500]\ttraining's auc: 0.930879\ttraining's l2: 0.114628\n",
            "[1000]\ttraining's auc: 0.95786\ttraining's l2: 0.0942028\n"
          ],
          "name": "stdout"
        },
        {
          "output_type": "execute_result",
          "data": {
            "text/plain": [
              "LGBMRegressor(boosting_type='gbdt',\n",
              "              class_weight={0: 0.550471383677745, 1: 5.4533018867924525},\n",
              "              colsample_bytree=1.0, depth=7, eval_metric='auc',\n",
              "              importance_type='split', learning_rate=0.01, max_depth=-1,\n",
              "              min_child_samples=20, min_child_weight=0.001, min_split_gain=0.0,\n",
              "              n_estimators=1000, n_jobs=-1, num_leaves=31, objective=None,\n",
              "              random_state=None, reg_alpha=0.0, reg_lambda=0.0, silent=True,\n",
              "              subsample=1.0, subsample_for_bin=200000, subsample_freq=0,\n",
              "              use_best_model=True)"
            ]
          },
          "metadata": {
            "tags": []
          },
          "execution_count": 27
        }
      ]
    },
    {
      "cell_type": "code",
      "metadata": {
        "id": "LMOkAEv30yaK",
        "colab": {
          "base_uri": "https://localhost:8080/",
          "height": 85
        },
        "outputId": "20f5f3c3-1722-49c7-fc46-c92c17c9b2fe"
      },
      "source": [
        "from sklearn.metrics import roc_auc_score, accuracy_score, f1_score, precision_score, recall_score\n",
        "x_base = x_val\n",
        "y_base = y_val\n",
        "preds = lgbm.predict(x_base)\n",
        "# preds = np.random.rand(len(y_base))\n",
        "preds_01 = (preds >= 0.5) * 1\n",
        "roc_auc = roc_auc_score(y_base, preds)\n",
        "\n",
        "print('Avg GINI score:', 2*roc_auc - 1)\n",
        "print('Accuracy : ', accuracy_score(y_base, preds_01))\n",
        "print('f1_score', f1_score(y_base, preds_01), precision_score(y_base, preds_01), recall_score(y_base, preds_01))\n",
        "print(sum(preds_01), len(preds_01))"
      ],
      "execution_count": null,
      "outputs": [
        {
          "output_type": "stream",
          "text": [
            "Avg GINI score: 0.7543151690004226\n",
            "Accuracy :  0.8709536689643138\n",
            "f1_score 0.5055165496489469 0.39664218258132217 0.6967741935483871\n",
            "1906 11461\n"
          ],
          "name": "stdout"
        }
      ]
    },
    {
      "cell_type": "markdown",
      "metadata": {
        "id": "a00qELnRcnsU"
      },
      "source": [
        "# Sinh file submit"
      ]
    },
    {
      "cell_type": "code",
      "metadata": {
        "id": "4cjsk8kYIuQW",
        "colab": {
          "base_uri": "https://localhost:8080/",
          "height": 50
        },
        "outputId": "d9a59f75-1436-4d39-cc80-a525d1eb1705"
      },
      "source": [
        "def make_submission(model):\n",
        "  arpu_test['label'] = 0\n",
        "  x_result, y_result = make_input(arpu_test)\n",
        "  print(x_result.shape)\n",
        "  # y_pred = model.predict_proba(x_result)\n",
        "  # y_pred = pd.DataFrame(y_pred)\n",
        "  # y_pred = y_pred[1].values\n",
        "  # y_pred = preds\n",
        "  y_pred = model.predict(x_result)\n",
        "  y_pred = np.minimum(y_pred, 1)\n",
        "  y_pred = np.maximum(y_pred, 0)\n",
        "  arpu_test['label'] = y_pred\n",
        "  print(len(arpu_test[arpu_test['label'] >= 0.5]), len(arpu_test))\n",
        "  arpu_test[['msisdn', 'label']].to_csv('result.csv', index=False)\n",
        "make_submission(modelXGBR)\n",
        "# modelXGBR lgbm gbm my_model cfl"
      ],
      "execution_count": null,
      "outputs": [
        {
          "output_type": "stream",
          "text": [
            "(57445, 76)\n",
            "5956 57445\n"
          ],
          "name": "stdout"
        }
      ]
    },
    {
      "cell_type": "code",
      "metadata": {
        "id": "Yre-VMkD_HIi",
        "colab": {
          "base_uri": "https://localhost:8080/",
          "height": 34
        },
        "outputId": "f9c74135-16fa-48fc-d14c-93db593c4d7b"
      },
      "source": [
        "def merge_submission(file_name):\n",
        "  result = pd.read_csv(file_name + '.csv')\n",
        "  test_submission = pd.read_csv(path + 'test_submission.csv')\n",
        "  del test_submission['label']\n",
        "  test_submission = test_submission.merge(result, on='msisdn', how='left')\n",
        "  test_submission.to_csv(file_name + '_final.csv', index=False)\n",
        "  print(len(test_submission))\n",
        "merge_submission('result')\n",
        "# merge_submission('xgboost_70')"
      ],
      "execution_count": null,
      "outputs": [
        {
          "output_type": "stream",
          "text": [
            "57413\n"
          ],
          "name": "stdout"
        }
      ]
    },
    {
      "cell_type": "code",
      "metadata": {
        "id": "vmmK3wMff2m_"
      },
      "source": [
        "result = pd.read_csv(\"result_final.csv\")"
      ],
      "execution_count": null,
      "outputs": []
    },
    {
      "cell_type": "code",
      "metadata": {
        "id": "LSFUVMfWGDgP"
      },
      "source": [
        "# arpu_train = pd.read_csv('xgboost_66_similar_36_features.csv')\n",
        "result.to_csv(path + 'xgboost_classification_78_15_groups_76_features_95_data.csv', index=False)\n",
        "# print(len(result[result['label'] >= 0.5]), len(result))"
      ],
      "execution_count": null,
      "outputs": []
    },
    {
      "cell_type": "code",
      "metadata": {
        "id": "F0JqZ1RN2UuP",
        "colab": {
          "base_uri": "https://localhost:8080/",
          "height": 34
        },
        "outputId": "85a7d00f-51ed-4930-ba36-890a03651fa3"
      },
      "source": [
        "test_table = train_data\n",
        "print(len(test_table[test_table['label'] == 1]), len(test_table))"
      ],
      "execution_count": null,
      "outputs": [
        {
          "output_type": "stream",
          "text": [
            "4268 46192\n"
          ],
          "name": "stdout"
        }
      ]
    },
    {
      "cell_type": "code",
      "metadata": {
        "id": "iVgPECYKmUcT",
        "colab": {
          "base_uri": "https://localhost:8080/",
          "height": 1000
        },
        "outputId": "21d9ef4e-087e-4569-84e0-14fc9201e681"
      },
      "source": [
        "!pip install -U pandas-profiling\n",
        "# pp.ProfileReport(val_data)"
      ],
      "execution_count": null,
      "outputs": [
        {
          "output_type": "stream",
          "text": [
            "Requirement already up-to-date: pandas-profiling in /usr/local/lib/python3.6/dist-packages (2.9.0)\n",
            "Requirement already satisfied, skipping upgrade: scipy>=1.4.1 in /usr/local/lib/python3.6/dist-packages (from pandas-profiling) (1.4.1)\n",
            "Requirement already satisfied, skipping upgrade: attrs>=19.3.0 in /usr/local/lib/python3.6/dist-packages (from pandas-profiling) (20.2.0)\n",
            "Requirement already satisfied, skipping upgrade: seaborn>=0.10.1 in /usr/local/lib/python3.6/dist-packages (from pandas-profiling) (0.10.1)\n",
            "Requirement already satisfied, skipping upgrade: visions[type_image_path]==0.5.0 in /usr/local/lib/python3.6/dist-packages (from pandas-profiling) (0.5.0)\n",
            "Requirement already satisfied, skipping upgrade: phik>=0.9.10 in /usr/local/lib/python3.6/dist-packages (from pandas-profiling) (0.10.0)\n",
            "Requirement already satisfied, skipping upgrade: ipywidgets>=7.5.1 in /usr/local/lib/python3.6/dist-packages (from pandas-profiling) (7.5.1)\n",
            "Requirement already satisfied, skipping upgrade: htmlmin>=0.1.12 in /usr/local/lib/python3.6/dist-packages (from pandas-profiling) (0.1.12)\n",
            "Requirement already satisfied, skipping upgrade: requests>=2.23.0 in /usr/local/lib/python3.6/dist-packages (from pandas-profiling) (2.23.0)\n",
            "Requirement already satisfied, skipping upgrade: joblib in /usr/local/lib/python3.6/dist-packages (from pandas-profiling) (0.16.0)\n",
            "Requirement already satisfied, skipping upgrade: jinja2>=2.11.1 in /usr/local/lib/python3.6/dist-packages (from pandas-profiling) (2.11.2)\n",
            "Requirement already satisfied, skipping upgrade: tangled-up-in-unicode>=0.0.6 in /usr/local/lib/python3.6/dist-packages (from pandas-profiling) (0.0.6)\n",
            "Requirement already satisfied, skipping upgrade: numpy>=1.16.0 in /usr/local/lib/python3.6/dist-packages (from pandas-profiling) (1.18.5)\n",
            "Requirement already satisfied, skipping upgrade: missingno>=0.4.2 in /usr/local/lib/python3.6/dist-packages (from pandas-profiling) (0.4.2)\n",
            "Requirement already satisfied, skipping upgrade: pandas!=1.0.0,!=1.0.1,!=1.0.2,!=1.1.0,>=0.25.3 in /usr/local/lib/python3.6/dist-packages (from pandas-profiling) (1.0.5)\n",
            "Requirement already satisfied, skipping upgrade: tqdm>=4.43.0 in /usr/local/lib/python3.6/dist-packages (from pandas-profiling) (4.49.0)\n",
            "Requirement already satisfied, skipping upgrade: confuse>=1.0.0 in /usr/local/lib/python3.6/dist-packages (from pandas-profiling) (1.3.0)\n",
            "Requirement already satisfied, skipping upgrade: matplotlib>=3.2.0 in /usr/local/lib/python3.6/dist-packages (from pandas-profiling) (3.2.2)\n",
            "Requirement already satisfied, skipping upgrade: networkx>=2.4 in /usr/local/lib/python3.6/dist-packages (from visions[type_image_path]==0.5.0->pandas-profiling) (2.5)\n",
            "Requirement already satisfied, skipping upgrade: Pillow; extra == \"type_image_path\" in /usr/local/lib/python3.6/dist-packages (from visions[type_image_path]==0.5.0->pandas-profiling) (7.0.0)\n",
            "Requirement already satisfied, skipping upgrade: imagehash; extra == \"type_image_path\" in /usr/local/lib/python3.6/dist-packages (from visions[type_image_path]==0.5.0->pandas-profiling) (4.1.0)\n",
            "Requirement already satisfied, skipping upgrade: numba>=0.38.1 in /usr/local/lib/python3.6/dist-packages (from phik>=0.9.10->pandas-profiling) (0.48.0)\n",
            "Requirement already satisfied, skipping upgrade: ipython>=4.0.0; python_version >= \"3.3\" in /usr/local/lib/python3.6/dist-packages (from ipywidgets>=7.5.1->pandas-profiling) (5.5.0)\n",
            "Requirement already satisfied, skipping upgrade: nbformat>=4.2.0 in /usr/local/lib/python3.6/dist-packages (from ipywidgets>=7.5.1->pandas-profiling) (5.0.7)\n",
            "Requirement already satisfied, skipping upgrade: traitlets>=4.3.1 in /usr/local/lib/python3.6/dist-packages (from ipywidgets>=7.5.1->pandas-profiling) (4.3.3)\n",
            "Requirement already satisfied, skipping upgrade: widgetsnbextension~=3.5.0 in /usr/local/lib/python3.6/dist-packages (from ipywidgets>=7.5.1->pandas-profiling) (3.5.1)\n",
            "Requirement already satisfied, skipping upgrade: ipykernel>=4.5.1 in /usr/local/lib/python3.6/dist-packages (from ipywidgets>=7.5.1->pandas-profiling) (4.10.1)\n",
            "Requirement already satisfied, skipping upgrade: certifi>=2017.4.17 in /usr/local/lib/python3.6/dist-packages (from requests>=2.23.0->pandas-profiling) (2020.6.20)\n",
            "Requirement already satisfied, skipping upgrade: chardet<4,>=3.0.2 in /usr/local/lib/python3.6/dist-packages (from requests>=2.23.0->pandas-profiling) (3.0.4)\n",
            "Requirement already satisfied, skipping upgrade: idna<3,>=2.5 in /usr/local/lib/python3.6/dist-packages (from requests>=2.23.0->pandas-profiling) (2.10)\n",
            "Requirement already satisfied, skipping upgrade: urllib3!=1.25.0,!=1.25.1,<1.26,>=1.21.1 in /usr/local/lib/python3.6/dist-packages (from requests>=2.23.0->pandas-profiling) (1.24.3)\n",
            "Requirement already satisfied, skipping upgrade: MarkupSafe>=0.23 in /usr/local/lib/python3.6/dist-packages (from jinja2>=2.11.1->pandas-profiling) (1.1.1)\n",
            "Requirement already satisfied, skipping upgrade: python-dateutil>=2.6.1 in /usr/local/lib/python3.6/dist-packages (from pandas!=1.0.0,!=1.0.1,!=1.0.2,!=1.1.0,>=0.25.3->pandas-profiling) (2.8.1)\n",
            "Requirement already satisfied, skipping upgrade: pytz>=2017.2 in /usr/local/lib/python3.6/dist-packages (from pandas!=1.0.0,!=1.0.1,!=1.0.2,!=1.1.0,>=0.25.3->pandas-profiling) (2018.9)\n",
            "Requirement already satisfied, skipping upgrade: pyyaml in /usr/local/lib/python3.6/dist-packages (from confuse>=1.0.0->pandas-profiling) (3.13)\n",
            "Requirement already satisfied, skipping upgrade: kiwisolver>=1.0.1 in /usr/local/lib/python3.6/dist-packages (from matplotlib>=3.2.0->pandas-profiling) (1.2.0)\n",
            "Requirement already satisfied, skipping upgrade: pyparsing!=2.0.4,!=2.1.2,!=2.1.6,>=2.0.1 in /usr/local/lib/python3.6/dist-packages (from matplotlib>=3.2.0->pandas-profiling) (2.4.7)\n",
            "Requirement already satisfied, skipping upgrade: cycler>=0.10 in /usr/local/lib/python3.6/dist-packages (from matplotlib>=3.2.0->pandas-profiling) (0.10.0)\n",
            "Requirement already satisfied, skipping upgrade: decorator>=4.3.0 in /usr/local/lib/python3.6/dist-packages (from networkx>=2.4->visions[type_image_path]==0.5.0->pandas-profiling) (4.4.2)\n",
            "Requirement already satisfied, skipping upgrade: PyWavelets in /usr/local/lib/python3.6/dist-packages (from imagehash; extra == \"type_image_path\"->visions[type_image_path]==0.5.0->pandas-profiling) (1.1.1)\n",
            "Requirement already satisfied, skipping upgrade: six in /usr/local/lib/python3.6/dist-packages (from imagehash; extra == \"type_image_path\"->visions[type_image_path]==0.5.0->pandas-profiling) (1.15.0)\n",
            "Requirement already satisfied, skipping upgrade: setuptools in /usr/local/lib/python3.6/dist-packages (from numba>=0.38.1->phik>=0.9.10->pandas-profiling) (50.3.0)\n",
            "Requirement already satisfied, skipping upgrade: llvmlite<0.32.0,>=0.31.0dev0 in /usr/local/lib/python3.6/dist-packages (from numba>=0.38.1->phik>=0.9.10->pandas-profiling) (0.31.0)\n",
            "Requirement already satisfied, skipping upgrade: prompt-toolkit<2.0.0,>=1.0.4 in /usr/local/lib/python3.6/dist-packages (from ipython>=4.0.0; python_version >= \"3.3\"->ipywidgets>=7.5.1->pandas-profiling) (1.0.18)\n",
            "Requirement already satisfied, skipping upgrade: pickleshare in /usr/local/lib/python3.6/dist-packages (from ipython>=4.0.0; python_version >= \"3.3\"->ipywidgets>=7.5.1->pandas-profiling) (0.7.5)\n",
            "Requirement already satisfied, skipping upgrade: pygments in /usr/local/lib/python3.6/dist-packages (from ipython>=4.0.0; python_version >= \"3.3\"->ipywidgets>=7.5.1->pandas-profiling) (2.6.1)\n",
            "Requirement already satisfied, skipping upgrade: simplegeneric>0.8 in /usr/local/lib/python3.6/dist-packages (from ipython>=4.0.0; python_version >= \"3.3\"->ipywidgets>=7.5.1->pandas-profiling) (0.8.1)\n",
            "Requirement already satisfied, skipping upgrade: pexpect; sys_platform != \"win32\" in /usr/local/lib/python3.6/dist-packages (from ipython>=4.0.0; python_version >= \"3.3\"->ipywidgets>=7.5.1->pandas-profiling) (4.8.0)\n",
            "Requirement already satisfied, skipping upgrade: jupyter-core in /usr/local/lib/python3.6/dist-packages (from nbformat>=4.2.0->ipywidgets>=7.5.1->pandas-profiling) (4.6.3)\n",
            "Requirement already satisfied, skipping upgrade: jsonschema!=2.5.0,>=2.4 in /usr/local/lib/python3.6/dist-packages (from nbformat>=4.2.0->ipywidgets>=7.5.1->pandas-profiling) (2.6.0)\n",
            "Requirement already satisfied, skipping upgrade: ipython-genutils in /usr/local/lib/python3.6/dist-packages (from nbformat>=4.2.0->ipywidgets>=7.5.1->pandas-profiling) (0.2.0)\n",
            "Requirement already satisfied, skipping upgrade: notebook>=4.4.1 in /usr/local/lib/python3.6/dist-packages (from widgetsnbextension~=3.5.0->ipywidgets>=7.5.1->pandas-profiling) (5.3.1)\n",
            "Requirement already satisfied, skipping upgrade: tornado>=4.0 in /usr/local/lib/python3.6/dist-packages (from ipykernel>=4.5.1->ipywidgets>=7.5.1->pandas-profiling) (5.1.1)\n",
            "Requirement already satisfied, skipping upgrade: jupyter-client in /usr/local/lib/python3.6/dist-packages (from ipykernel>=4.5.1->ipywidgets>=7.5.1->pandas-profiling) (5.3.5)\n",
            "Requirement already satisfied, skipping upgrade: wcwidth in /usr/local/lib/python3.6/dist-packages (from prompt-toolkit<2.0.0,>=1.0.4->ipython>=4.0.0; python_version >= \"3.3\"->ipywidgets>=7.5.1->pandas-profiling) (0.2.5)\n",
            "Requirement already satisfied, skipping upgrade: ptyprocess>=0.5 in /usr/local/lib/python3.6/dist-packages (from pexpect; sys_platform != \"win32\"->ipython>=4.0.0; python_version >= \"3.3\"->ipywidgets>=7.5.1->pandas-profiling) (0.6.0)\n",
            "Requirement already satisfied, skipping upgrade: Send2Trash in /usr/local/lib/python3.6/dist-packages (from notebook>=4.4.1->widgetsnbextension~=3.5.0->ipywidgets>=7.5.1->pandas-profiling) (1.5.0)\n",
            "Requirement already satisfied, skipping upgrade: terminado>=0.8.1 in /usr/local/lib/python3.6/dist-packages (from notebook>=4.4.1->widgetsnbextension~=3.5.0->ipywidgets>=7.5.1->pandas-profiling) (0.8.3)\n",
            "Requirement already satisfied, skipping upgrade: nbconvert in /usr/local/lib/python3.6/dist-packages (from notebook>=4.4.1->widgetsnbextension~=3.5.0->ipywidgets>=7.5.1->pandas-profiling) (5.6.1)\n",
            "Requirement already satisfied, skipping upgrade: pyzmq>=13 in /usr/local/lib/python3.6/dist-packages (from jupyter-client->ipykernel>=4.5.1->ipywidgets>=7.5.1->pandas-profiling) (19.0.2)\n",
            "Requirement already satisfied, skipping upgrade: mistune<2,>=0.8.1 in /usr/local/lib/python3.6/dist-packages (from nbconvert->notebook>=4.4.1->widgetsnbextension~=3.5.0->ipywidgets>=7.5.1->pandas-profiling) (0.8.4)\n",
            "Requirement already satisfied, skipping upgrade: entrypoints>=0.2.2 in /usr/local/lib/python3.6/dist-packages (from nbconvert->notebook>=4.4.1->widgetsnbextension~=3.5.0->ipywidgets>=7.5.1->pandas-profiling) (0.3)\n",
            "Requirement already satisfied, skipping upgrade: testpath in /usr/local/lib/python3.6/dist-packages (from nbconvert->notebook>=4.4.1->widgetsnbextension~=3.5.0->ipywidgets>=7.5.1->pandas-profiling) (0.4.4)\n",
            "Requirement already satisfied, skipping upgrade: bleach in /usr/local/lib/python3.6/dist-packages (from nbconvert->notebook>=4.4.1->widgetsnbextension~=3.5.0->ipywidgets>=7.5.1->pandas-profiling) (3.1.5)\n",
            "Requirement already satisfied, skipping upgrade: pandocfilters>=1.4.1 in /usr/local/lib/python3.6/dist-packages (from nbconvert->notebook>=4.4.1->widgetsnbextension~=3.5.0->ipywidgets>=7.5.1->pandas-profiling) (1.4.2)\n",
            "Requirement already satisfied, skipping upgrade: defusedxml in /usr/local/lib/python3.6/dist-packages (from nbconvert->notebook>=4.4.1->widgetsnbextension~=3.5.0->ipywidgets>=7.5.1->pandas-profiling) (0.6.0)\n",
            "Requirement already satisfied, skipping upgrade: webencodings in /usr/local/lib/python3.6/dist-packages (from bleach->nbconvert->notebook>=4.4.1->widgetsnbextension~=3.5.0->ipywidgets>=7.5.1->pandas-profiling) (0.5.1)\n",
            "Requirement already satisfied, skipping upgrade: packaging in /usr/local/lib/python3.6/dist-packages (from bleach->nbconvert->notebook>=4.4.1->widgetsnbextension~=3.5.0->ipywidgets>=7.5.1->pandas-profiling) (20.4)\n"
          ],
          "name": "stdout"
        }
      ]
    },
    {
      "cell_type": "code",
      "metadata": {
        "id": "ew9ph50QiJX2"
      },
      "source": [
        "import pandas_profiling as pp"
      ],
      "execution_count": null,
      "outputs": []
    },
    {
      "cell_type": "code",
      "metadata": {
        "id": "xOD2D0wNViu5",
        "colab": {
          "base_uri": "https://localhost:8080/",
          "height": 52
        },
        "outputId": "e3ddfc0d-5272-4e7c-8fa7-7115e27907da"
      },
      "source": [
        "preds"
      ],
      "execution_count": null,
      "outputs": [
        {
          "output_type": "execute_result",
          "data": {
            "text/plain": [
              "array([0.07751687, 0.14856504, 0.22076727, ..., 0.32755417, 0.02994751,\n",
              "       0.21151517], dtype=float32)"
            ]
          },
          "metadata": {
            "tags": []
          },
          "execution_count": 52
        }
      ]
    },
    {
      "cell_type": "code",
      "metadata": {
        "id": "3ChqKANbibTA"
      },
      "source": [
        "val_data.to_csv(path + 'val_rmse.csv', index=False)"
      ],
      "execution_count": null,
      "outputs": []
    },
    {
      "cell_type": "code",
      "metadata": {
        "id": "f5yR2z40gGrr"
      },
      "source": [
        "val_data['preds'] = preds"
      ],
      "execution_count": null,
      "outputs": []
    },
    {
      "cell_type": "code",
      "metadata": {
        "id": "gExEtTb5VodS"
      },
      "source": [
        "val_data['rmse'] = np.abs(val_data['preds'] - val_data['label'])"
      ],
      "execution_count": null,
      "outputs": []
    },
    {
      "cell_type": "code",
      "metadata": {
        "id": "XGVlNsnLV1GB",
        "colab": {
          "base_uri": "https://localhost:8080/",
          "height": 281
        },
        "outputId": "af06c4ba-2316-42a3-85c3-a9dc81304074"
      },
      "source": [
        "val_data[['msisdn', 'label', 'preds', 'rmse']].sort_values('rmse')['rmse'].hist()"
      ],
      "execution_count": null,
      "outputs": [
        {
          "output_type": "execute_result",
          "data": {
            "text/plain": [
              "<matplotlib.axes._subplots.AxesSubplot at 0x7f556a54b240>"
            ]
          },
          "metadata": {
            "tags": []
          },
          "execution_count": 21
        },
        {
          "output_type": "display_data",
          "data": {
            "image/png": "[encoded data removed]",
            "text/plain": [
              "<Figure size 432x288 with 1 Axes>"
            ]
          },
          "metadata": {
            "tags": [],
            "needs_background": "light"
          }
        }
      ]
    },
    {
      "cell_type": "code",
      "metadata": {
        "id": "TrFj9C8rRiy6",
        "colab": {
          "base_uri": "https://localhost:8080/",
          "height": 33
        },
        "outputId": "2676f2f8-f1c1-4c4d-d6d2-7d19967b2a15"
      },
      "source": [
        "len(val_data.loc[val_data.rmse > 0.5])*100/len(val_data)"
      ],
      "execution_count": null,
      "outputs": [
        {
          "output_type": "execute_result",
          "data": {
            "text/plain": [
              "7.4513567751505105"
            ]
          },
          "metadata": {
            "tags": []
          },
          "execution_count": 23
        }
      ]
    },
    {
      "cell_type": "code",
      "metadata": {
        "id": "OPF1fBJqSvbd",
        "colab": {
          "base_uri": "https://localhost:8080/",
          "height": 33
        },
        "outputId": "e23ff774-6691-402a-d570-cdf0b7658e30"
      },
      "source": [
        "len(val_data.loc[val_data.rmse > 0.8])"
      ],
      "execution_count": null,
      "outputs": [
        {
          "output_type": "execute_result",
          "data": {
            "text/plain": [
              "319"
            ]
          },
          "metadata": {
            "tags": []
          },
          "execution_count": 26
        }
      ]
    },
    {
      "cell_type": "code",
      "metadata": {
        "id": "qt23imPvWIa3"
      },
      "source": [
        "error = arpu_train.loc[arpu_train.msisdn.isin(val_data[['msisdn', 'label', 'preds', 'rmse']].loc[val_data.rmse > 0.5].msisdn.values)]"
      ],
      "execution_count": null,
      "outputs": []
    },
    {
      "cell_type": "code",
      "metadata": {
        "id": "ZLvrNniaU_GJ"
      },
      "source": [
        ""
      ],
      "execution_count": null,
      "outputs": []
    },
    {
      "cell_type": "code",
      "metadata": {
        "id": "asqC-zENU97n",
        "colab": {
          "base_uri": "https://localhost:8080/",
          "height": 66
        },
        "outputId": "3b217c09-4462-4e1c-f7c7-ec0c3b39bf0b"
      },
      "source": [
        "arpu_train.loc[arpu_train.group == 6].label.value_counts()"
      ],
      "execution_count": null,
      "outputs": [
        {
          "output_type": "execute_result",
          "data": {
            "text/plain": [
              "0    2199\n",
              "1     659\n",
              "Name: label, dtype: int64"
            ]
          },
          "metadata": {
            "tags": []
          },
          "execution_count": 42
        }
      ]
    },
    {
      "cell_type": "code",
      "metadata": {
        "id": "DTRVHGdGUDef",
        "colab": {
          "base_uri": "https://localhost:8080/",
          "height": 427
        },
        "outputId": "9214835d-07e1-4fea-ae97-4a6870457703"
      },
      "source": [
        "error.loc[error.group == 6]"
      ],
      "execution_count": null,
      "outputs": [
        {
          "output_type": "execute_result",
          "data": {
            "text/html": [
              "<div>\n",
              "<style scoped>\n",
              "    .dataframe tbody tr th:only-of-type {\n",
              "        vertical-align: middle;\n",
              "    }\n",
              "\n",
              "    .dataframe tbody tr th {\n",
              "        vertical-align: top;\n",
              "    }\n",
              "\n",
              "    .dataframe thead th {\n",
              "        text-align: right;\n",
              "    }\n",
              "</style>\n",
              "<table border=\"1\" class=\"dataframe\">\n",
              "  <thead>\n",
              "    <tr style=\"text-align: right;\">\n",
              "      <th></th>\n",
              "      <th>msisdn</th>\n",
              "      <th>label</th>\n",
              "      <th>COL_13</th>\n",
              "      <th>COL_14</th>\n",
              "      <th>COL_15</th>\n",
              "      <th>COL_16</th>\n",
              "      <th>COL_17</th>\n",
              "      <th>COL_18</th>\n",
              "      <th>COL_19</th>\n",
              "      <th>COL_20</th>\n",
              "      <th>COL_21</th>\n",
              "      <th>COL_22</th>\n",
              "      <th>COL_27a</th>\n",
              "      <th>COL_27b</th>\n",
              "      <th>COL_27c</th>\n",
              "      <th>COL_27d</th>\n",
              "      <th>COL_25_min</th>\n",
              "      <th>COL_23_sum</th>\n",
              "      <th>COL_23_count</th>\n",
              "      <th>COL_23_mean</th>\n",
              "      <th>COL_23_min</th>\n",
              "      <th>COL_23_max</th>\n",
              "      <th>COL_23_std</th>\n",
              "      <th>COL_24_sum</th>\n",
              "      <th>COL_24_count</th>\n",
              "      <th>COL_24_mean</th>\n",
              "      <th>COL_24_min</th>\n",
              "      <th>COL_24_max</th>\n",
              "      <th>COL_24_std</th>\n",
              "      <th>COL_24a_sum</th>\n",
              "      <th>COL_24a_count</th>\n",
              "      <th>COL_24a_mean</th>\n",
              "      <th>COL_24a_min</th>\n",
              "      <th>COL_24a_max</th>\n",
              "      <th>COL_24a_std</th>\n",
              "      <th>COL_24b_sum</th>\n",
              "      <th>COL_24b_count</th>\n",
              "      <th>COL_24b_mean</th>\n",
              "      <th>COL_24b_min</th>\n",
              "      <th>COL_24b_max</th>\n",
              "      <th>...</th>\n",
              "      <th>group_20</th>\n",
              "      <th>group_20_similar</th>\n",
              "      <th>group_count_1_similar</th>\n",
              "      <th>group_count_1</th>\n",
              "      <th>group_30</th>\n",
              "      <th>group_similar_50</th>\n",
              "      <th>group_new_50</th>\n",
              "      <th>group_new_20</th>\n",
              "      <th>group_dendrogram</th>\n",
              "      <th>group_dendrogram_2</th>\n",
              "      <th>group_35</th>\n",
              "      <th>Unnamed: 0_y</th>\n",
              "      <th>Unnamed: 0.1</th>\n",
              "      <th>Unnamed: 0.1.1</th>\n",
              "      <th>Unnamed: 0.1.1.1</th>\n",
              "      <th>group_end_day10</th>\n",
              "      <th>group_end_day17</th>\n",
              "      <th>group_end_day24</th>\n",
              "      <th>group_end_day31</th>\n",
              "      <th>group_count_end_day10</th>\n",
              "      <th>group_count_end_day17</th>\n",
              "      <th>group_count_end_day24</th>\n",
              "      <th>group_count_end_day31</th>\n",
              "      <th>group_limit0</th>\n",
              "      <th>group_limit10</th>\n",
              "      <th>group_limit20</th>\n",
              "      <th>group_limit30</th>\n",
              "      <th>group_limit40</th>\n",
              "      <th>group_limit50</th>\n",
              "      <th>group_limit60</th>\n",
              "      <th>group_limit70</th>\n",
              "      <th>group_limit80</th>\n",
              "      <th>group_limit90</th>\n",
              "      <th>group_count_limit0</th>\n",
              "      <th>group_count_limit10</th>\n",
              "      <th>group_count_limit20</th>\n",
              "      <th>group_count_limit30</th>\n",
              "      <th>group_count_limit40</th>\n",
              "      <th>group_count_limit50</th>\n",
              "      <th>num_mem</th>\n",
              "    </tr>\n",
              "  </thead>\n",
              "  <tbody>\n",
              "    <tr>\n",
              "      <th>12</th>\n",
              "      <td>00015a3cd19a6b87b8e1</td>\n",
              "      <td>0</td>\n",
              "      <td>P057009</td>\n",
              "      <td>10.0</td>\n",
              "      <td>41</td>\n",
              "      <td>1</td>\n",
              "      <td>1092</td>\n",
              "      <td>948</td>\n",
              "      <td>8.758850e+04</td>\n",
              "      <td>28213.499023</td>\n",
              "      <td>0.0</td>\n",
              "      <td>46750.0</td>\n",
              "      <td>1.318153e+05</td>\n",
              "      <td>1997.201364</td>\n",
              "      <td>6290.970969</td>\n",
              "      <td>4.2100</td>\n",
              "      <td>332.0</td>\n",
              "      <td>0.0</td>\n",
              "      <td>1.0</td>\n",
              "      <td>0.000000</td>\n",
              "      <td>0.0</td>\n",
              "      <td>0.0</td>\n",
              "      <td>0.000000</td>\n",
              "      <td>-100000000.0</td>\n",
              "      <td>1.0</td>\n",
              "      <td>-1.000000e+08</td>\n",
              "      <td>-100000000.0</td>\n",
              "      <td>-100000000.0</td>\n",
              "      <td>0.000000e+00</td>\n",
              "      <td>0.000000e+00</td>\n",
              "      <td>1.0</td>\n",
              "      <td>0.000000e+00</td>\n",
              "      <td>-0.0</td>\n",
              "      <td>-0.0</td>\n",
              "      <td>0.000000e+00</td>\n",
              "      <td>-1.000000e+08</td>\n",
              "      <td>1.0</td>\n",
              "      <td>-1.000000e+08</td>\n",
              "      <td>-100000000.0</td>\n",
              "      <td>-100000000.0</td>\n",
              "      <td>...</td>\n",
              "      <td>6.0</td>\n",
              "      <td>328.0</td>\n",
              "      <td>1248.0</td>\n",
              "      <td>954.0</td>\n",
              "      <td>712.0</td>\n",
              "      <td>958.0</td>\n",
              "      <td>41.0</td>\n",
              "      <td>8.0</td>\n",
              "      <td>11.0</td>\n",
              "      <td>10.0</td>\n",
              "      <td>72.0</td>\n",
              "      <td>980</td>\n",
              "      <td>980</td>\n",
              "      <td>980</td>\n",
              "      <td>980</td>\n",
              "      <td>6.0</td>\n",
              "      <td>7.0</td>\n",
              "      <td>8.0</td>\n",
              "      <td>36.0</td>\n",
              "      <td>6.0</td>\n",
              "      <td>7.0</td>\n",
              "      <td>8.0</td>\n",
              "      <td>3.0</td>\n",
              "      <td>4.0</td>\n",
              "      <td>9.0</td>\n",
              "      <td>9.0</td>\n",
              "      <td>6.0</td>\n",
              "      <td>519.0</td>\n",
              "      <td>295.0</td>\n",
              "      <td>614.0</td>\n",
              "      <td>763.0</td>\n",
              "      <td>518.0</td>\n",
              "      <td>192.0</td>\n",
              "      <td>4.0</td>\n",
              "      <td>9.0</td>\n",
              "      <td>8.0</td>\n",
              "      <td>7.0</td>\n",
              "      <td>825.0</td>\n",
              "      <td>26.0</td>\n",
              "      <td>2858</td>\n",
              "    </tr>\n",
              "    <tr>\n",
              "      <th>13</th>\n",
              "      <td>0001b37885d8a5f260a6</td>\n",
              "      <td>0</td>\n",
              "      <td>D061011</td>\n",
              "      <td>22.0</td>\n",
              "      <td>13</td>\n",
              "      <td>1</td>\n",
              "      <td>2562</td>\n",
              "      <td>760</td>\n",
              "      <td>3.323346e+06</td>\n",
              "      <td>2152.125000</td>\n",
              "      <td>0.0</td>\n",
              "      <td>3240943.5</td>\n",
              "      <td>3.716356e+06</td>\n",
              "      <td>56308.423333</td>\n",
              "      <td>72518.236805</td>\n",
              "      <td>39974.0700</td>\n",
              "      <td>0.0</td>\n",
              "      <td>0.0</td>\n",
              "      <td>0.0</td>\n",
              "      <td>0.000000</td>\n",
              "      <td>0.0</td>\n",
              "      <td>0.0</td>\n",
              "      <td>0.000000</td>\n",
              "      <td>0.0</td>\n",
              "      <td>0.0</td>\n",
              "      <td>0.000000e+00</td>\n",
              "      <td>0.0</td>\n",
              "      <td>0.0</td>\n",
              "      <td>0.000000e+00</td>\n",
              "      <td>0.000000e+00</td>\n",
              "      <td>0.0</td>\n",
              "      <td>0.000000e+00</td>\n",
              "      <td>0.0</td>\n",
              "      <td>0.0</td>\n",
              "      <td>0.000000e+00</td>\n",
              "      <td>0.000000e+00</td>\n",
              "      <td>0.0</td>\n",
              "      <td>0.000000e+00</td>\n",
              "      <td>0.0</td>\n",
              "      <td>0.0</td>\n",
              "      <td>...</td>\n",
              "      <td>304.0</td>\n",
              "      <td>551.0</td>\n",
              "      <td>2710.0</td>\n",
              "      <td>986.0</td>\n",
              "      <td>613.0</td>\n",
              "      <td>585.0</td>\n",
              "      <td>5.0</td>\n",
              "      <td>18.0</td>\n",
              "      <td>11.0</td>\n",
              "      <td>10.0</td>\n",
              "      <td>100.0</td>\n",
              "      <td>2024</td>\n",
              "      <td>2024</td>\n",
              "      <td>2024</td>\n",
              "      <td>2024</td>\n",
              "      <td>23734.0</td>\n",
              "      <td>7.0</td>\n",
              "      <td>8.0</td>\n",
              "      <td>36.0</td>\n",
              "      <td>23748.0</td>\n",
              "      <td>7.0</td>\n",
              "      <td>8.0</td>\n",
              "      <td>3.0</td>\n",
              "      <td>10.0</td>\n",
              "      <td>9.0</td>\n",
              "      <td>158.0</td>\n",
              "      <td>98.0</td>\n",
              "      <td>448.0</td>\n",
              "      <td>1033.0</td>\n",
              "      <td>585.0</td>\n",
              "      <td>1125.0</td>\n",
              "      <td>1111.0</td>\n",
              "      <td>1139.0</td>\n",
              "      <td>4.0</td>\n",
              "      <td>139.0</td>\n",
              "      <td>204.0</td>\n",
              "      <td>627.0</td>\n",
              "      <td>1122.0</td>\n",
              "      <td>462.0</td>\n",
              "      <td>2858</td>\n",
              "    </tr>\n",
              "    <tr>\n",
              "      <th>14</th>\n",
              "      <td>0001c2ea99df7054a28f</td>\n",
              "      <td>1</td>\n",
              "      <td>L072008</td>\n",
              "      <td>23.0</td>\n",
              "      <td>34</td>\n",
              "      <td>1</td>\n",
              "      <td>2830</td>\n",
              "      <td>1357</td>\n",
              "      <td>1.283888e+05</td>\n",
              "      <td>463.750000</td>\n",
              "      <td>0.0</td>\n",
              "      <td>0.0</td>\n",
              "      <td>1.070106e+06</td>\n",
              "      <td>16213.733333</td>\n",
              "      <td>14188.226133</td>\n",
              "      <td>23572.6500</td>\n",
              "      <td>325.0</td>\n",
              "      <td>1.0</td>\n",
              "      <td>2.0</td>\n",
              "      <td>0.500000</td>\n",
              "      <td>0.0</td>\n",
              "      <td>1.0</td>\n",
              "      <td>0.707107</td>\n",
              "      <td>15000000.0</td>\n",
              "      <td>2.0</td>\n",
              "      <td>7.500000e+06</td>\n",
              "      <td>-100000000.0</td>\n",
              "      <td>115000000.0</td>\n",
              "      <td>1.520280e+08</td>\n",
              "      <td>1.150000e+08</td>\n",
              "      <td>2.0</td>\n",
              "      <td>5.750000e+07</td>\n",
              "      <td>-0.0</td>\n",
              "      <td>115000000.0</td>\n",
              "      <td>8.131728e+07</td>\n",
              "      <td>-1.000000e+08</td>\n",
              "      <td>2.0</td>\n",
              "      <td>-5.000000e+07</td>\n",
              "      <td>-100000000.0</td>\n",
              "      <td>0.0</td>\n",
              "      <td>...</td>\n",
              "      <td>928.0</td>\n",
              "      <td>188.0</td>\n",
              "      <td>657.0</td>\n",
              "      <td>698.0</td>\n",
              "      <td>748.0</td>\n",
              "      <td>486.0</td>\n",
              "      <td>5.0</td>\n",
              "      <td>8.0</td>\n",
              "      <td>11.0</td>\n",
              "      <td>10.0</td>\n",
              "      <td>973.0</td>\n",
              "      <td>2214</td>\n",
              "      <td>2214</td>\n",
              "      <td>2214</td>\n",
              "      <td>2214</td>\n",
              "      <td>6.0</td>\n",
              "      <td>7.0</td>\n",
              "      <td>8.0</td>\n",
              "      <td>36.0</td>\n",
              "      <td>6.0</td>\n",
              "      <td>7.0</td>\n",
              "      <td>8.0</td>\n",
              "      <td>143.0</td>\n",
              "      <td>137.0</td>\n",
              "      <td>146.0</td>\n",
              "      <td>9.0</td>\n",
              "      <td>894.0</td>\n",
              "      <td>894.0</td>\n",
              "      <td>299.0</td>\n",
              "      <td>318.0</td>\n",
              "      <td>1648.0</td>\n",
              "      <td>164.0</td>\n",
              "      <td>2705.0</td>\n",
              "      <td>4.0</td>\n",
              "      <td>9.0</td>\n",
              "      <td>8.0</td>\n",
              "      <td>7.0</td>\n",
              "      <td>525.0</td>\n",
              "      <td>644.0</td>\n",
              "      <td>2858</td>\n",
              "    </tr>\n",
              "    <tr>\n",
              "      <th>15</th>\n",
              "      <td>0001274ad360bb77b74e</td>\n",
              "      <td>0</td>\n",
              "      <td>T008BI</td>\n",
              "      <td>29.0</td>\n",
              "      <td>50</td>\n",
              "      <td>0</td>\n",
              "      <td>4269</td>\n",
              "      <td>2156</td>\n",
              "      <td>2.352678e+05</td>\n",
              "      <td>228108.835938</td>\n",
              "      <td>0.0</td>\n",
              "      <td>2409.0</td>\n",
              "      <td>1.508349e+06</td>\n",
              "      <td>22853.778636</td>\n",
              "      <td>17124.941315</td>\n",
              "      <td>21513.4900</td>\n",
              "      <td>0.0</td>\n",
              "      <td>0.0</td>\n",
              "      <td>0.0</td>\n",
              "      <td>0.000000</td>\n",
              "      <td>0.0</td>\n",
              "      <td>0.0</td>\n",
              "      <td>0.000000</td>\n",
              "      <td>0.0</td>\n",
              "      <td>0.0</td>\n",
              "      <td>0.000000e+00</td>\n",
              "      <td>0.0</td>\n",
              "      <td>0.0</td>\n",
              "      <td>0.000000e+00</td>\n",
              "      <td>0.000000e+00</td>\n",
              "      <td>0.0</td>\n",
              "      <td>0.000000e+00</td>\n",
              "      <td>0.0</td>\n",
              "      <td>0.0</td>\n",
              "      <td>0.000000e+00</td>\n",
              "      <td>0.000000e+00</td>\n",
              "      <td>0.0</td>\n",
              "      <td>0.000000e+00</td>\n",
              "      <td>0.0</td>\n",
              "      <td>0.0</td>\n",
              "      <td>...</td>\n",
              "      <td>6.0</td>\n",
              "      <td>997.0</td>\n",
              "      <td>98.0</td>\n",
              "      <td>129.0</td>\n",
              "      <td>6.0</td>\n",
              "      <td>1089.0</td>\n",
              "      <td>186.0</td>\n",
              "      <td>8.0</td>\n",
              "      <td>11.0</td>\n",
              "      <td>10.0</td>\n",
              "      <td>3.0</td>\n",
              "      <td>3330</td>\n",
              "      <td>3330</td>\n",
              "      <td>3330</td>\n",
              "      <td>3330</td>\n",
              "      <td>6.0</td>\n",
              "      <td>7.0</td>\n",
              "      <td>8.0</td>\n",
              "      <td>36.0</td>\n",
              "      <td>6.0</td>\n",
              "      <td>7.0</td>\n",
              "      <td>8.0</td>\n",
              "      <td>3.0</td>\n",
              "      <td>4.0</td>\n",
              "      <td>9.0</td>\n",
              "      <td>9.0</td>\n",
              "      <td>6.0</td>\n",
              "      <td>3.0</td>\n",
              "      <td>6.0</td>\n",
              "      <td>586.0</td>\n",
              "      <td>231.0</td>\n",
              "      <td>2002.0</td>\n",
              "      <td>991.0</td>\n",
              "      <td>4.0</td>\n",
              "      <td>9.0</td>\n",
              "      <td>8.0</td>\n",
              "      <td>7.0</td>\n",
              "      <td>6.0</td>\n",
              "      <td>6.0</td>\n",
              "      <td>2858</td>\n",
              "    </tr>\n",
              "    <tr>\n",
              "      <th>16</th>\n",
              "      <td>0001f1dd988ee5bc2ca9</td>\n",
              "      <td>0</td>\n",
              "      <td>D501006</td>\n",
              "      <td>37.0</td>\n",
              "      <td>17</td>\n",
              "      <td>1</td>\n",
              "      <td>2778</td>\n",
              "      <td>2802</td>\n",
              "      <td>1.450651e+05</td>\n",
              "      <td>33640.140625</td>\n",
              "      <td>0.0</td>\n",
              "      <td>20500.0</td>\n",
              "      <td>1.370447e+06</td>\n",
              "      <td>20764.341212</td>\n",
              "      <td>27638.124412</td>\n",
              "      <td>10009.5200</td>\n",
              "      <td>0.0</td>\n",
              "      <td>0.0</td>\n",
              "      <td>0.0</td>\n",
              "      <td>0.000000</td>\n",
              "      <td>0.0</td>\n",
              "      <td>0.0</td>\n",
              "      <td>0.000000</td>\n",
              "      <td>0.0</td>\n",
              "      <td>0.0</td>\n",
              "      <td>0.000000e+00</td>\n",
              "      <td>0.0</td>\n",
              "      <td>0.0</td>\n",
              "      <td>0.000000e+00</td>\n",
              "      <td>0.000000e+00</td>\n",
              "      <td>0.0</td>\n",
              "      <td>0.000000e+00</td>\n",
              "      <td>0.0</td>\n",
              "      <td>0.0</td>\n",
              "      <td>0.000000e+00</td>\n",
              "      <td>0.000000e+00</td>\n",
              "      <td>0.0</td>\n",
              "      <td>0.000000e+00</td>\n",
              "      <td>0.0</td>\n",
              "      <td>0.0</td>\n",
              "      <td>...</td>\n",
              "      <td>6.0</td>\n",
              "      <td>739.0</td>\n",
              "      <td>1127.0</td>\n",
              "      <td>153.0</td>\n",
              "      <td>388.0</td>\n",
              "      <td>1091.0</td>\n",
              "      <td>106.0</td>\n",
              "      <td>8.0</td>\n",
              "      <td>11.0</td>\n",
              "      <td>10.0</td>\n",
              "      <td>3.0</td>\n",
              "      <td>5495</td>\n",
              "      <td>5495</td>\n",
              "      <td>5495</td>\n",
              "      <td>5495</td>\n",
              "      <td>6.0</td>\n",
              "      <td>7.0</td>\n",
              "      <td>8.0</td>\n",
              "      <td>36.0</td>\n",
              "      <td>6.0</td>\n",
              "      <td>7.0</td>\n",
              "      <td>73.0</td>\n",
              "      <td>3.0</td>\n",
              "      <td>10.0</td>\n",
              "      <td>9.0</td>\n",
              "      <td>9.0</td>\n",
              "      <td>6.0</td>\n",
              "      <td>93.0</td>\n",
              "      <td>10.0</td>\n",
              "      <td>1164.0</td>\n",
              "      <td>1138.0</td>\n",
              "      <td>478.0</td>\n",
              "      <td>152.0</td>\n",
              "      <td>4.0</td>\n",
              "      <td>9.0</td>\n",
              "      <td>8.0</td>\n",
              "      <td>7.0</td>\n",
              "      <td>84.0</td>\n",
              "      <td>945.0</td>\n",
              "      <td>2858</td>\n",
              "    </tr>\n",
              "    <tr>\n",
              "      <th>...</th>\n",
              "      <td>...</td>\n",
              "      <td>...</td>\n",
              "      <td>...</td>\n",
              "      <td>...</td>\n",
              "      <td>...</td>\n",
              "      <td>...</td>\n",
              "      <td>...</td>\n",
              "      <td>...</td>\n",
              "      <td>...</td>\n",
              "      <td>...</td>\n",
              "      <td>...</td>\n",
              "      <td>...</td>\n",
              "      <td>...</td>\n",
              "      <td>...</td>\n",
              "      <td>...</td>\n",
              "      <td>...</td>\n",
              "      <td>...</td>\n",
              "      <td>...</td>\n",
              "      <td>...</td>\n",
              "      <td>...</td>\n",
              "      <td>...</td>\n",
              "      <td>...</td>\n",
              "      <td>...</td>\n",
              "      <td>...</td>\n",
              "      <td>...</td>\n",
              "      <td>...</td>\n",
              "      <td>...</td>\n",
              "      <td>...</td>\n",
              "      <td>...</td>\n",
              "      <td>...</td>\n",
              "      <td>...</td>\n",
              "      <td>...</td>\n",
              "      <td>...</td>\n",
              "      <td>...</td>\n",
              "      <td>...</td>\n",
              "      <td>...</td>\n",
              "      <td>...</td>\n",
              "      <td>...</td>\n",
              "      <td>...</td>\n",
              "      <td>...</td>\n",
              "      <td>...</td>\n",
              "      <td>...</td>\n",
              "      <td>...</td>\n",
              "      <td>...</td>\n",
              "      <td>...</td>\n",
              "      <td>...</td>\n",
              "      <td>...</td>\n",
              "      <td>...</td>\n",
              "      <td>...</td>\n",
              "      <td>...</td>\n",
              "      <td>...</td>\n",
              "      <td>...</td>\n",
              "      <td>...</td>\n",
              "      <td>...</td>\n",
              "      <td>...</td>\n",
              "      <td>...</td>\n",
              "      <td>...</td>\n",
              "      <td>...</td>\n",
              "      <td>...</td>\n",
              "      <td>...</td>\n",
              "      <td>...</td>\n",
              "      <td>...</td>\n",
              "      <td>...</td>\n",
              "      <td>...</td>\n",
              "      <td>...</td>\n",
              "      <td>...</td>\n",
              "      <td>...</td>\n",
              "      <td>...</td>\n",
              "      <td>...</td>\n",
              "      <td>...</td>\n",
              "      <td>...</td>\n",
              "      <td>...</td>\n",
              "      <td>...</td>\n",
              "      <td>...</td>\n",
              "      <td>...</td>\n",
              "      <td>...</td>\n",
              "      <td>...</td>\n",
              "      <td>...</td>\n",
              "      <td>...</td>\n",
              "      <td>...</td>\n",
              "      <td>...</td>\n",
              "    </tr>\n",
              "    <tr>\n",
              "      <th>148</th>\n",
              "      <td>0001be15acd92f8b9eac</td>\n",
              "      <td>1</td>\n",
              "      <td>L072006</td>\n",
              "      <td>36.0</td>\n",
              "      <td>34</td>\n",
              "      <td>1</td>\n",
              "      <td>1631</td>\n",
              "      <td>1562</td>\n",
              "      <td>2.459154e+05</td>\n",
              "      <td>211290.437500</td>\n",
              "      <td>0.0</td>\n",
              "      <td>34300.0</td>\n",
              "      <td>1.012143e+06</td>\n",
              "      <td>15106.606567</td>\n",
              "      <td>15109.986693</td>\n",
              "      <td>10778.6400</td>\n",
              "      <td>312.0</td>\n",
              "      <td>2.0</td>\n",
              "      <td>3.0</td>\n",
              "      <td>0.666667</td>\n",
              "      <td>0.0</td>\n",
              "      <td>1.0</td>\n",
              "      <td>0.577350</td>\n",
              "      <td>130000000.0</td>\n",
              "      <td>3.0</td>\n",
              "      <td>4.333333e+07</td>\n",
              "      <td>-100000000.0</td>\n",
              "      <td>115000000.0</td>\n",
              "      <td>1.241303e+08</td>\n",
              "      <td>2.300000e+08</td>\n",
              "      <td>3.0</td>\n",
              "      <td>7.666667e+07</td>\n",
              "      <td>-0.0</td>\n",
              "      <td>115000000.0</td>\n",
              "      <td>6.639528e+07</td>\n",
              "      <td>-1.000000e+08</td>\n",
              "      <td>3.0</td>\n",
              "      <td>-3.333333e+07</td>\n",
              "      <td>-100000000.0</td>\n",
              "      <td>0.0</td>\n",
              "      <td>...</td>\n",
              "      <td>278.0</td>\n",
              "      <td>819.0</td>\n",
              "      <td>615.0</td>\n",
              "      <td>942.0</td>\n",
              "      <td>374.0</td>\n",
              "      <td>808.0</td>\n",
              "      <td>13555.0</td>\n",
              "      <td>372.0</td>\n",
              "      <td>11.0</td>\n",
              "      <td>10.0</td>\n",
              "      <td>7576.0</td>\n",
              "      <td>56767</td>\n",
              "      <td>56767</td>\n",
              "      <td>56767</td>\n",
              "      <td>56767</td>\n",
              "      <td>6.0</td>\n",
              "      <td>7.0</td>\n",
              "      <td>8.0</td>\n",
              "      <td>36.0</td>\n",
              "      <td>6.0</td>\n",
              "      <td>7.0</td>\n",
              "      <td>8.0</td>\n",
              "      <td>3.0</td>\n",
              "      <td>4.0</td>\n",
              "      <td>329.0</td>\n",
              "      <td>205.0</td>\n",
              "      <td>6832.0</td>\n",
              "      <td>8270.0</td>\n",
              "      <td>9632.0</td>\n",
              "      <td>855.0</td>\n",
              "      <td>988.0</td>\n",
              "      <td>1339.0</td>\n",
              "      <td>607.0</td>\n",
              "      <td>4.0</td>\n",
              "      <td>419.0</td>\n",
              "      <td>376.0</td>\n",
              "      <td>447.0</td>\n",
              "      <td>838.0</td>\n",
              "      <td>12482.0</td>\n",
              "      <td>2858</td>\n",
              "    </tr>\n",
              "    <tr>\n",
              "      <th>149</th>\n",
              "      <td>00013917fdc59f95a38b</td>\n",
              "      <td>1</td>\n",
              "      <td>H320002</td>\n",
              "      <td>38.0</td>\n",
              "      <td>25</td>\n",
              "      <td>1</td>\n",
              "      <td>1570</td>\n",
              "      <td>1570</td>\n",
              "      <td>3.371231e+04</td>\n",
              "      <td>4862.310059</td>\n",
              "      <td>0.0</td>\n",
              "      <td>28750.0</td>\n",
              "      <td>8.551849e+05</td>\n",
              "      <td>12957.346667</td>\n",
              "      <td>15544.364803</td>\n",
              "      <td>2448.9200</td>\n",
              "      <td>0.0</td>\n",
              "      <td>0.0</td>\n",
              "      <td>0.0</td>\n",
              "      <td>0.000000</td>\n",
              "      <td>0.0</td>\n",
              "      <td>0.0</td>\n",
              "      <td>0.000000</td>\n",
              "      <td>0.0</td>\n",
              "      <td>0.0</td>\n",
              "      <td>0.000000e+00</td>\n",
              "      <td>0.0</td>\n",
              "      <td>0.0</td>\n",
              "      <td>0.000000e+00</td>\n",
              "      <td>0.000000e+00</td>\n",
              "      <td>0.0</td>\n",
              "      <td>0.000000e+00</td>\n",
              "      <td>0.0</td>\n",
              "      <td>0.0</td>\n",
              "      <td>0.000000e+00</td>\n",
              "      <td>0.000000e+00</td>\n",
              "      <td>0.0</td>\n",
              "      <td>0.000000e+00</td>\n",
              "      <td>0.0</td>\n",
              "      <td>0.0</td>\n",
              "      <td>...</td>\n",
              "      <td>6.0</td>\n",
              "      <td>798.0</td>\n",
              "      <td>98.0</td>\n",
              "      <td>161.0</td>\n",
              "      <td>6.0</td>\n",
              "      <td>391.0</td>\n",
              "      <td>298.0</td>\n",
              "      <td>8.0</td>\n",
              "      <td>11.0</td>\n",
              "      <td>10.0</td>\n",
              "      <td>3.0</td>\n",
              "      <td>56815</td>\n",
              "      <td>56815</td>\n",
              "      <td>56815</td>\n",
              "      <td>56815</td>\n",
              "      <td>6.0</td>\n",
              "      <td>7.0</td>\n",
              "      <td>8.0</td>\n",
              "      <td>36.0</td>\n",
              "      <td>6.0</td>\n",
              "      <td>7.0</td>\n",
              "      <td>8.0</td>\n",
              "      <td>143.0</td>\n",
              "      <td>137.0</td>\n",
              "      <td>146.0</td>\n",
              "      <td>9.0</td>\n",
              "      <td>6.0</td>\n",
              "      <td>3.0</td>\n",
              "      <td>6.0</td>\n",
              "      <td>5.0</td>\n",
              "      <td>3.0</td>\n",
              "      <td>593.0</td>\n",
              "      <td>1368.0</td>\n",
              "      <td>4.0</td>\n",
              "      <td>9.0</td>\n",
              "      <td>8.0</td>\n",
              "      <td>7.0</td>\n",
              "      <td>6.0</td>\n",
              "      <td>6.0</td>\n",
              "      <td>2858</td>\n",
              "    </tr>\n",
              "    <tr>\n",
              "      <th>150</th>\n",
              "      <td>000139bda0646c5ae7dd</td>\n",
              "      <td>1</td>\n",
              "      <td>H018006</td>\n",
              "      <td>6.0</td>\n",
              "      <td>21</td>\n",
              "      <td>1</td>\n",
              "      <td>869</td>\n",
              "      <td>1644</td>\n",
              "      <td>0.000000e+00</td>\n",
              "      <td>0.000000</td>\n",
              "      <td>0.0</td>\n",
              "      <td>0.0</td>\n",
              "      <td>7.933200e+02</td>\n",
              "      <td>12.020000</td>\n",
              "      <td>0.000000</td>\n",
              "      <td>12.0200</td>\n",
              "      <td>312.0</td>\n",
              "      <td>3.0</td>\n",
              "      <td>6.0</td>\n",
              "      <td>0.500000</td>\n",
              "      <td>0.0</td>\n",
              "      <td>1.0</td>\n",
              "      <td>0.547723</td>\n",
              "      <td>45000000.0</td>\n",
              "      <td>6.0</td>\n",
              "      <td>7.500000e+06</td>\n",
              "      <td>-100000000.0</td>\n",
              "      <td>115000000.0</td>\n",
              "      <td>1.177603e+08</td>\n",
              "      <td>3.450000e+08</td>\n",
              "      <td>6.0</td>\n",
              "      <td>5.750000e+07</td>\n",
              "      <td>-0.0</td>\n",
              "      <td>115000000.0</td>\n",
              "      <td>6.298809e+07</td>\n",
              "      <td>-3.000000e+08</td>\n",
              "      <td>6.0</td>\n",
              "      <td>-5.000000e+07</td>\n",
              "      <td>-100000000.0</td>\n",
              "      <td>0.0</td>\n",
              "      <td>...</td>\n",
              "      <td>571.0</td>\n",
              "      <td>6.0</td>\n",
              "      <td>1945.0</td>\n",
              "      <td>455.0</td>\n",
              "      <td>22315.0</td>\n",
              "      <td>553.0</td>\n",
              "      <td>219.0</td>\n",
              "      <td>8.0</td>\n",
              "      <td>724.0</td>\n",
              "      <td>1896.0</td>\n",
              "      <td>854.0</td>\n",
              "      <td>56816</td>\n",
              "      <td>56816</td>\n",
              "      <td>56816</td>\n",
              "      <td>56816</td>\n",
              "      <td>8336.0</td>\n",
              "      <td>7.0</td>\n",
              "      <td>509.0</td>\n",
              "      <td>36.0</td>\n",
              "      <td>8354.0</td>\n",
              "      <td>7.0</td>\n",
              "      <td>705.0</td>\n",
              "      <td>3.0</td>\n",
              "      <td>4.0</td>\n",
              "      <td>495.0</td>\n",
              "      <td>9.0</td>\n",
              "      <td>6.0</td>\n",
              "      <td>822.0</td>\n",
              "      <td>4546.0</td>\n",
              "      <td>218.0</td>\n",
              "      <td>199.0</td>\n",
              "      <td>188.0</td>\n",
              "      <td>2398.0</td>\n",
              "      <td>4.0</td>\n",
              "      <td>168.0</td>\n",
              "      <td>8.0</td>\n",
              "      <td>7.0</td>\n",
              "      <td>7429.0</td>\n",
              "      <td>6.0</td>\n",
              "      <td>2858</td>\n",
              "    </tr>\n",
              "    <tr>\n",
              "      <th>151</th>\n",
              "      <td>00015d2a3268952bfbfb</td>\n",
              "      <td>1</td>\n",
              "      <td>0</td>\n",
              "      <td>45.0</td>\n",
              "      <td>20</td>\n",
              "      <td>1</td>\n",
              "      <td>0</td>\n",
              "      <td>0</td>\n",
              "      <td>1.457639e+05</td>\n",
              "      <td>96545.386719</td>\n",
              "      <td>0.0</td>\n",
              "      <td>49118.5</td>\n",
              "      <td>1.135092e+06</td>\n",
              "      <td>17198.361388</td>\n",
              "      <td>29682.047079</td>\n",
              "      <td>20.8526</td>\n",
              "      <td>307.0</td>\n",
              "      <td>11.0</td>\n",
              "      <td>21.0</td>\n",
              "      <td>0.523810</td>\n",
              "      <td>0.0</td>\n",
              "      <td>1.0</td>\n",
              "      <td>0.511766</td>\n",
              "      <td>265000000.0</td>\n",
              "      <td>21.0</td>\n",
              "      <td>1.261905e+07</td>\n",
              "      <td>-100000000.0</td>\n",
              "      <td>115000000.0</td>\n",
              "      <td>1.100298e+08</td>\n",
              "      <td>1.265000e+09</td>\n",
              "      <td>21.0</td>\n",
              "      <td>6.023810e+07</td>\n",
              "      <td>-0.0</td>\n",
              "      <td>115000000.0</td>\n",
              "      <td>5.885313e+07</td>\n",
              "      <td>-1.000000e+09</td>\n",
              "      <td>21.0</td>\n",
              "      <td>-4.761905e+07</td>\n",
              "      <td>-100000000.0</td>\n",
              "      <td>0.0</td>\n",
              "      <td>...</td>\n",
              "      <td>6.0</td>\n",
              "      <td>1368.0</td>\n",
              "      <td>9449.0</td>\n",
              "      <td>8449.0</td>\n",
              "      <td>6559.0</td>\n",
              "      <td>7610.0</td>\n",
              "      <td>3834.0</td>\n",
              "      <td>8.0</td>\n",
              "      <td>11.0</td>\n",
              "      <td>10.0</td>\n",
              "      <td>2079.0</td>\n",
              "      <td>56825</td>\n",
              "      <td>56825</td>\n",
              "      <td>56825</td>\n",
              "      <td>56825</td>\n",
              "      <td>6.0</td>\n",
              "      <td>7.0</td>\n",
              "      <td>8.0</td>\n",
              "      <td>36.0</td>\n",
              "      <td>6.0</td>\n",
              "      <td>7.0</td>\n",
              "      <td>8.0</td>\n",
              "      <td>3.0</td>\n",
              "      <td>10.0</td>\n",
              "      <td>9.0</td>\n",
              "      <td>9.0</td>\n",
              "      <td>1900.0</td>\n",
              "      <td>2220.0</td>\n",
              "      <td>2527.0</td>\n",
              "      <td>2799.0</td>\n",
              "      <td>3114.0</td>\n",
              "      <td>3379.0</td>\n",
              "      <td>3604.0</td>\n",
              "      <td>4.0</td>\n",
              "      <td>9.0</td>\n",
              "      <td>30.0</td>\n",
              "      <td>2235.0</td>\n",
              "      <td>2716.0</td>\n",
              "      <td>3115.0</td>\n",
              "      <td>2858</td>\n",
              "    </tr>\n",
              "    <tr>\n",
              "      <th>152</th>\n",
              "      <td>0001a467d9b4b9dd4ef3</td>\n",
              "      <td>1</td>\n",
              "      <td>P057003</td>\n",
              "      <td>9.0</td>\n",
              "      <td>41</td>\n",
              "      <td>1</td>\n",
              "      <td>1218</td>\n",
              "      <td>2477</td>\n",
              "      <td>3.004785e+04</td>\n",
              "      <td>16822.855225</td>\n",
              "      <td>0.0</td>\n",
              "      <td>1875.0</td>\n",
              "      <td>5.193639e+05</td>\n",
              "      <td>7869.150303</td>\n",
              "      <td>7161.634493</td>\n",
              "      <td>3613.8100</td>\n",
              "      <td>308.0</td>\n",
              "      <td>0.0</td>\n",
              "      <td>1.0</td>\n",
              "      <td>0.000000</td>\n",
              "      <td>0.0</td>\n",
              "      <td>0.0</td>\n",
              "      <td>0.000000</td>\n",
              "      <td>-100000000.0</td>\n",
              "      <td>1.0</td>\n",
              "      <td>-1.000000e+08</td>\n",
              "      <td>-100000000.0</td>\n",
              "      <td>-100000000.0</td>\n",
              "      <td>0.000000e+00</td>\n",
              "      <td>0.000000e+00</td>\n",
              "      <td>1.0</td>\n",
              "      <td>0.000000e+00</td>\n",
              "      <td>-0.0</td>\n",
              "      <td>-0.0</td>\n",
              "      <td>0.000000e+00</td>\n",
              "      <td>-1.000000e+08</td>\n",
              "      <td>1.0</td>\n",
              "      <td>-1.000000e+08</td>\n",
              "      <td>-100000000.0</td>\n",
              "      <td>-100000000.0</td>\n",
              "      <td>...</td>\n",
              "      <td>6.0</td>\n",
              "      <td>1131.0</td>\n",
              "      <td>1538.0</td>\n",
              "      <td>891.0</td>\n",
              "      <td>237.0</td>\n",
              "      <td>315.0</td>\n",
              "      <td>24682.0</td>\n",
              "      <td>8.0</td>\n",
              "      <td>11.0</td>\n",
              "      <td>10.0</td>\n",
              "      <td>3.0</td>\n",
              "      <td>57503</td>\n",
              "      <td>57503</td>\n",
              "      <td>57503</td>\n",
              "      <td>57503</td>\n",
              "      <td>6.0</td>\n",
              "      <td>7.0</td>\n",
              "      <td>8.0</td>\n",
              "      <td>36.0</td>\n",
              "      <td>6.0</td>\n",
              "      <td>7.0</td>\n",
              "      <td>8.0</td>\n",
              "      <td>3.0</td>\n",
              "      <td>4.0</td>\n",
              "      <td>9.0</td>\n",
              "      <td>9.0</td>\n",
              "      <td>6.0</td>\n",
              "      <td>3.0</td>\n",
              "      <td>1493.0</td>\n",
              "      <td>20719.0</td>\n",
              "      <td>23314.0</td>\n",
              "      <td>25847.0</td>\n",
              "      <td>28284.0</td>\n",
              "      <td>4.0</td>\n",
              "      <td>9.0</td>\n",
              "      <td>8.0</td>\n",
              "      <td>7.0</td>\n",
              "      <td>6.0</td>\n",
              "      <td>23397.0</td>\n",
              "      <td>2858</td>\n",
              "    </tr>\n",
              "  </tbody>\n",
              "</table>\n",
              "<p>141 rows × 216 columns</p>\n",
              "</div>"
            ],
            "text/plain": [
              "                   msisdn  label  ... group_count_limit50  num_mem\n",
              "12   00015a3cd19a6b87b8e1      0  ...                26.0     2858\n",
              "13   0001b37885d8a5f260a6      0  ...               462.0     2858\n",
              "14   0001c2ea99df7054a28f      1  ...               644.0     2858\n",
              "15   0001274ad360bb77b74e      0  ...                 6.0     2858\n",
              "16   0001f1dd988ee5bc2ca9      0  ...               945.0     2858\n",
              "..                    ...    ...  ...                 ...      ...\n",
              "148  0001be15acd92f8b9eac      1  ...             12482.0     2858\n",
              "149  00013917fdc59f95a38b      1  ...                 6.0     2858\n",
              "150  000139bda0646c5ae7dd      1  ...                 6.0     2858\n",
              "151  00015d2a3268952bfbfb      1  ...              3115.0     2858\n",
              "152  0001a467d9b4b9dd4ef3      1  ...             23397.0     2858\n",
              "\n",
              "[141 rows x 216 columns]"
            ]
          },
          "metadata": {
            "tags": []
          },
          "execution_count": 41
        }
      ]
    },
    {
      "cell_type": "code",
      "metadata": {
        "id": "UAc6clmTWug5",
        "colab": {
          "base_uri": "https://localhost:8080/",
          "height": 212
        },
        "outputId": "f6e7f235-c244-4531-be77-a9ce041c7faa"
      },
      "source": [
        "error.num_mem.value_counts()"
      ],
      "execution_count": null,
      "outputs": [
        {
          "output_type": "execute_result",
          "data": {
            "text/plain": [
              "2858    141\n",
              "2037    130\n",
              "1481     66\n",
              "1        20\n",
              "120      12\n",
              "       ... \n",
              "52        1\n",
              "51        1\n",
              "198       1\n",
              "45        1\n",
              "157       1\n",
              "Name: num_mem, Length: 152, dtype: int64"
            ]
          },
          "metadata": {
            "tags": []
          },
          "execution_count": 43
        }
      ]
    },
    {
      "cell_type": "code",
      "metadata": {
        "id": "OeiKuYB9XHgQ",
        "colab": {
          "base_uri": "https://localhost:8080/",
          "height": 281
        },
        "outputId": "4ddaf452-4101-41c0-9ec5-2d26afb116ec"
      },
      "source": [
        "error.COL_14.hist(bins=60)"
      ],
      "execution_count": null,
      "outputs": [
        {
          "output_type": "execute_result",
          "data": {
            "text/plain": [
              "<matplotlib.axes._subplots.AxesSubplot at 0x7f5569ea7e48>"
            ]
          },
          "metadata": {
            "tags": []
          },
          "execution_count": 45
        },
        {
          "output_type": "display_data",
          "data": {
            "image/png": "[encoded data removed]",
            "text/plain": [
              "<Figure size 432x288 with 1 Axes>"
            ]
          },
          "metadata": {
            "tags": [],
            "needs_background": "light"
          }
        }
      ]
    },
    {
      "cell_type": "code",
      "metadata": {
        "id": "EvXMoWljXcxq",
        "colab": {
          "base_uri": "https://localhost:8080/",
          "height": 297
        },
        "outputId": "0bb2283c-6335-472c-c88d-69e16e0ec402"
      },
      "source": [
        "arpu_train.COL_19.hist(bins=100)"
      ],
      "execution_count": null,
      "outputs": [
        {
          "output_type": "execute_result",
          "data": {
            "text/plain": [
              "<matplotlib.axes._subplots.AxesSubplot at 0x7f556a05fa58>"
            ]
          },
          "metadata": {
            "tags": []
          },
          "execution_count": 48
        },
        {
          "output_type": "display_data",
          "data": {
            "image/png": "[encoded data removed]",
            "text/plain": [
              "<Figure size 432x288 with 1 Axes>"
            ]
          },
          "metadata": {
            "tags": [],
            "needs_background": "light"
          }
        }
      ]
    },
    {
      "cell_type": "code",
      "metadata": {
        "id": "ktYq0vfeXQJl",
        "colab": {
          "base_uri": "https://localhost:8080/",
          "height": 293
        },
        "outputId": "8d07be77-c857-41d8-a985-cbee12604b06"
      },
      "source": [
        "error.COL_19.hist(bins=100)"
      ],
      "execution_count": null,
      "outputs": [
        {
          "output_type": "execute_result",
          "data": {
            "text/plain": [
              "<matplotlib.axes._subplots.AxesSubplot at 0x7f5569ddd400>"
            ]
          },
          "metadata": {
            "tags": []
          },
          "execution_count": 47
        },
        {
          "output_type": "display_data",
          "data": {
            "image/png": "[encoded data removed]",
            "text/plain": [
              "<Figure size 432x288 with 1 Axes>"
            ]
          },
          "metadata": {
            "tags": [],
            "needs_background": "light"
          }
        }
      ]
    },
    {
      "cell_type": "code",
      "metadata": {
        "id": "9DWnjGcrXm-B",
        "colab": {
          "base_uri": "https://localhost:8080/",
          "height": 281
        },
        "outputId": "ba2ec96e-5820-4885-f838-0c5d887819ec"
      },
      "source": [
        "plt.plot(error.COL_23_count.value_counts())"
      ],
      "execution_count": null,
      "outputs": [
        {
          "output_type": "execute_result",
          "data": {
            "text/plain": [
              "[<matplotlib.lines.Line2D at 0x7f5558596e48>]"
            ]
          },
          "metadata": {
            "tags": []
          },
          "execution_count": 51
        },
        {
          "output_type": "display_data",
          "data": {
            "image/png": "[encoded data removed]",
            "text/plain": [
              "<Figure size 432x288 with 1 Axes>"
            ]
          },
          "metadata": {
            "tags": [],
            "needs_background": "light"
          }
        }
      ]
    },
    {
      "cell_type": "code",
      "metadata": {
        "id": "DwQGh8LbYRcV"
      },
      "source": [
        "def count_null(row):\n",
        "  c = 0\n",
        "  for i in row[2:]:\n",
        "    if i == 0:\n",
        "      c = c + 1\n",
        "  return c\n",
        "\n",
        "val_data['count_null'] = val_data.apply(count_null, axis=1)\n",
        "error['count_null'] = error.apply(count_null, axis=1)"
      ],
      "execution_count": null,
      "outputs": []
    },
    {
      "cell_type": "code",
      "metadata": {
        "id": "OBtqKac3Y8De",
        "colab": {
          "base_uri": "https://localhost:8080/",
          "height": 33
        },
        "outputId": "35cdf45e-e620-4b8d-ab7d-a442fbc57fc1"
      },
      "source": [
        "val_data.shape"
      ],
      "execution_count": null,
      "outputs": [
        {
          "output_type": "execute_result",
          "data": {
            "text/plain": [
              "(11461, 218)"
            ]
          },
          "metadata": {
            "tags": []
          },
          "execution_count": 57
        }
      ]
    },
    {
      "cell_type": "code",
      "metadata": {
        "id": "-WOhhEGmYxrM",
        "colab": {
          "base_uri": "https://localhost:8080/",
          "height": 281
        },
        "outputId": "21929f20-88c3-450b-abf7-0451418bd6b5"
      },
      "source": [
        "count_null_sr = val_data.count_null.value_counts()\n",
        "sns.scatterplot(x=count_null.index, y=count_null.values)"
      ],
      "execution_count": null,
      "outputs": [
        {
          "output_type": "execute_result",
          "data": {
            "text/plain": [
              "<matplotlib.axes._subplots.AxesSubplot at 0x7f555854d2b0>"
            ]
          },
          "metadata": {
            "tags": []
          },
          "execution_count": 59
        },
        {
          "output_type": "display_data",
          "data": {
            "image/png": "[encoded data removed]",
            "text/plain": [
              "<Figure size 432x288 with 1 Axes>"
            ]
          },
          "metadata": {
            "tags": [],
            "needs_background": "light"
          }
        }
      ]
    },
    {
      "cell_type": "code",
      "metadata": {
        "id": "C0uFQkhHZaKY",
        "colab": {
          "base_uri": "https://localhost:8080/",
          "height": 283
        },
        "outputId": "dae26623-dafc-4ce9-fe36-9719f2a5a3b7"
      },
      "source": [
        "count_null_sr = error.count_null.value_counts()\n",
        "sns.scatterplot(x=count_null_sr.index, y=count_null_sr.values)"
      ],
      "execution_count": null,
      "outputs": [
        {
          "output_type": "execute_result",
          "data": {
            "text/plain": [
              "<matplotlib.axes._subplots.AxesSubplot at 0x7f5569f48e48>"
            ]
          },
          "metadata": {
            "tags": []
          },
          "execution_count": 62
        },
        {
          "output_type": "display_data",
          "data": {
            "image/png": "[encoded data removed]",
            "text/plain": [
              "<Figure size 432x288 with 1 Axes>"
            ]
          },
          "metadata": {
            "tags": [],
            "needs_background": "light"
          }
        }
      ]
    },
    {
      "cell_type": "code",
      "metadata": {
        "id": "WF8RSvsXXHza"
      },
      "source": [
        "count_group = arpu_train.groupby('group')[['msisdn']].count().sort_values('msisdn').reset_index()\n",
        "count_group.columns = ['group', 'num_mem']"
      ],
      "execution_count": null,
      "outputs": []
    },
    {
      "cell_type": "code",
      "metadata": {
        "id": "CRZJFOCiXvaK",
        "colab": {
          "base_uri": "https://localhost:8080/",
          "height": 212
        },
        "outputId": "0244cf67-b665-4f92-d71a-d0f9b1686abc"
      },
      "source": [
        "count_group.num_mem.value_counts()"
      ],
      "execution_count": null,
      "outputs": [
        {
          "output_type": "execute_result",
          "data": {
            "text/plain": [
              "1       4557\n",
              "2         48\n",
              "29        16\n",
              "31        12\n",
              "21        11\n",
              "        ... \n",
              "1481       1\n",
              "1177       1\n",
              "733        1\n",
              "2858       1\n",
              "4          1\n",
              "Name: num_mem, Length: 192, dtype: int64"
            ]
          },
          "metadata": {
            "tags": []
          },
          "execution_count": 31
        }
      ]
    },
    {
      "cell_type": "code",
      "metadata": {
        "id": "e-DtEXzyYBm1"
      },
      "source": [
        "error = error.merge(count_group, on='group')"
      ],
      "execution_count": null,
      "outputs": []
    },
    {
      "cell_type": "code",
      "metadata": {
        "id": "G8EJhSFTY_Rl",
        "colab": {
          "base_uri": "https://localhost:8080/",
          "height": 70
        },
        "outputId": "32d779a0-fe70-4c58-cfe7-eae182fd9a21"
      },
      "source": [
        "arpu_train.loc[arpu_train.group == 102].label.value_counts(\n",
        "    \n",
        ")"
      ],
      "execution_count": null,
      "outputs": [
        {
          "output_type": "execute_result",
          "data": {
            "text/plain": [
              "0    1086\n",
              "1     951\n",
              "Name: label, dtype: int64"
            ]
          },
          "metadata": {
            "tags": []
          },
          "execution_count": 38
        }
      ]
    },
    {
      "cell_type": "code",
      "metadata": {
        "id": "mOUDK4JGZZky",
        "colab": {
          "base_uri": "https://localhost:8080/",
          "height": 443
        },
        "outputId": "a6d9d401-f684-40a3-ee4f-8e00cf0437bb"
      },
      "source": [
        "community.loc[community.group == 102]"
      ],
      "execution_count": null,
      "outputs": [
        {
          "output_type": "execute_result",
          "data": {
            "text/html": [
              "<div>\n",
              "<style scoped>\n",
              "    .dataframe tbody tr th:only-of-type {\n",
              "        vertical-align: middle;\n",
              "    }\n",
              "\n",
              "    .dataframe tbody tr th {\n",
              "        vertical-align: top;\n",
              "    }\n",
              "\n",
              "    .dataframe thead th {\n",
              "        text-align: right;\n",
              "    }\n",
              "</style>\n",
              "<table border=\"1\" class=\"dataframe\">\n",
              "  <thead>\n",
              "    <tr style=\"text-align: right;\">\n",
              "      <th></th>\n",
              "      <th>Unnamed: 0</th>\n",
              "      <th>msisdn</th>\n",
              "      <th>group</th>\n",
              "      <th>group_similar</th>\n",
              "      <th>group_count</th>\n",
              "      <th>group_sum_weight</th>\n",
              "      <th>group_count_similar</th>\n",
              "      <th>group_20</th>\n",
              "      <th>group_20_similar</th>\n",
              "      <th>group_count_1_similar</th>\n",
              "      <th>group_count_1</th>\n",
              "      <th>group_30</th>\n",
              "      <th>group_similar_50</th>\n",
              "      <th>group_new_50</th>\n",
              "      <th>group_new_20</th>\n",
              "      <th>group_dendrogram</th>\n",
              "      <th>group_dendrogram_2</th>\n",
              "      <th>group_35</th>\n",
              "    </tr>\n",
              "  </thead>\n",
              "  <tbody>\n",
              "    <tr>\n",
              "      <th>149</th>\n",
              "      <td>149</td>\n",
              "      <td>00010b045f1d48d9e6af</td>\n",
              "      <td>102</td>\n",
              "      <td>56</td>\n",
              "      <td>94</td>\n",
              "      <td>54</td>\n",
              "      <td>133</td>\n",
              "      <td>6.0</td>\n",
              "      <td>55.0</td>\n",
              "      <td>140.0</td>\n",
              "      <td>129.0</td>\n",
              "      <td>6.0</td>\n",
              "      <td>55.0</td>\n",
              "      <td>4.0</td>\n",
              "      <td>8.0</td>\n",
              "      <td>11.0</td>\n",
              "      <td>10.0</td>\n",
              "      <td>3.0</td>\n",
              "    </tr>\n",
              "    <tr>\n",
              "      <th>179</th>\n",
              "      <td>179</td>\n",
              "      <td>00010d4d97589e8b64be</td>\n",
              "      <td>102</td>\n",
              "      <td>159</td>\n",
              "      <td>5</td>\n",
              "      <td>155</td>\n",
              "      <td>159</td>\n",
              "      <td>6.0</td>\n",
              "      <td>160.0</td>\n",
              "      <td>168.0</td>\n",
              "      <td>161.0</td>\n",
              "      <td>155.0</td>\n",
              "      <td>157.0</td>\n",
              "      <td>3308.0</td>\n",
              "      <td>8.0</td>\n",
              "      <td>11.0</td>\n",
              "      <td>10.0</td>\n",
              "      <td>533.0</td>\n",
              "    </tr>\n",
              "    <tr>\n",
              "      <th>302</th>\n",
              "      <td>302</td>\n",
              "      <td>000114c5d2f35035b150</td>\n",
              "      <td>102</td>\n",
              "      <td>137</td>\n",
              "      <td>94</td>\n",
              "      <td>261</td>\n",
              "      <td>255</td>\n",
              "      <td>6.0</td>\n",
              "      <td>139.0</td>\n",
              "      <td>134.0</td>\n",
              "      <td>251.0</td>\n",
              "      <td>6.0</td>\n",
              "      <td>136.0</td>\n",
              "      <td>52.0</td>\n",
              "      <td>8.0</td>\n",
              "      <td>11.0</td>\n",
              "      <td>102.0</td>\n",
              "      <td>3.0</td>\n",
              "    </tr>\n",
              "    <tr>\n",
              "      <th>317</th>\n",
              "      <td>317</td>\n",
              "      <td>0001159efbdbc6d8d047</td>\n",
              "      <td>102</td>\n",
              "      <td>74</td>\n",
              "      <td>94</td>\n",
              "      <td>54</td>\n",
              "      <td>133</td>\n",
              "      <td>6.0</td>\n",
              "      <td>281.0</td>\n",
              "      <td>250.0</td>\n",
              "      <td>264.0</td>\n",
              "      <td>6.0</td>\n",
              "      <td>73.0</td>\n",
              "      <td>162.0</td>\n",
              "      <td>8.0</td>\n",
              "      <td>11.0</td>\n",
              "      <td>10.0</td>\n",
              "      <td>3.0</td>\n",
              "    </tr>\n",
              "    <tr>\n",
              "      <th>376</th>\n",
              "      <td>376</td>\n",
              "      <td>0001197a6f4e38721b59</td>\n",
              "      <td>102</td>\n",
              "      <td>323</td>\n",
              "      <td>94</td>\n",
              "      <td>321</td>\n",
              "      <td>133</td>\n",
              "      <td>6.0</td>\n",
              "      <td>327.0</td>\n",
              "      <td>329.0</td>\n",
              "      <td>302.0</td>\n",
              "      <td>6.0</td>\n",
              "      <td>321.0</td>\n",
              "      <td>79.0</td>\n",
              "      <td>8.0</td>\n",
              "      <td>1693.0</td>\n",
              "      <td>10.0</td>\n",
              "      <td>3.0</td>\n",
              "    </tr>\n",
              "    <tr>\n",
              "      <th>...</th>\n",
              "      <td>...</td>\n",
              "      <td>...</td>\n",
              "      <td>...</td>\n",
              "      <td>...</td>\n",
              "      <td>...</td>\n",
              "      <td>...</td>\n",
              "      <td>...</td>\n",
              "      <td>...</td>\n",
              "      <td>...</td>\n",
              "      <td>...</td>\n",
              "      <td>...</td>\n",
              "      <td>...</td>\n",
              "      <td>...</td>\n",
              "      <td>...</td>\n",
              "      <td>...</td>\n",
              "      <td>...</td>\n",
              "      <td>...</td>\n",
              "      <td>...</td>\n",
              "    </tr>\n",
              "    <tr>\n",
              "      <th>115143</th>\n",
              "      <td>115143</td>\n",
              "      <td>00019aa94ea996bda0ed</td>\n",
              "      <td>102</td>\n",
              "      <td>917</td>\n",
              "      <td>94</td>\n",
              "      <td>911</td>\n",
              "      <td>126</td>\n",
              "      <td>6.0</td>\n",
              "      <td>1570.0</td>\n",
              "      <td>166.0</td>\n",
              "      <td>129.0</td>\n",
              "      <td>6.0</td>\n",
              "      <td>1002.0</td>\n",
              "      <td>312.0</td>\n",
              "      <td>8.0</td>\n",
              "      <td>424.0</td>\n",
              "      <td>655.0</td>\n",
              "      <td>3.0</td>\n",
              "    </tr>\n",
              "    <tr>\n",
              "      <th>115147</th>\n",
              "      <td>115147</td>\n",
              "      <td>0001abcba8a73562906b</td>\n",
              "      <td>102</td>\n",
              "      <td>175</td>\n",
              "      <td>94</td>\n",
              "      <td>171</td>\n",
              "      <td>402</td>\n",
              "      <td>6.0</td>\n",
              "      <td>175.0</td>\n",
              "      <td>452.0</td>\n",
              "      <td>28.0</td>\n",
              "      <td>6.0</td>\n",
              "      <td>7.0</td>\n",
              "      <td>51.0</td>\n",
              "      <td>8.0</td>\n",
              "      <td>34.0</td>\n",
              "      <td>10.0</td>\n",
              "      <td>3.0</td>\n",
              "    </tr>\n",
              "    <tr>\n",
              "      <th>115150</th>\n",
              "      <td>115150</td>\n",
              "      <td>0001b7e05c247adeb0a6</td>\n",
              "      <td>102</td>\n",
              "      <td>339</td>\n",
              "      <td>94</td>\n",
              "      <td>335</td>\n",
              "      <td>1223</td>\n",
              "      <td>65.0</td>\n",
              "      <td>956.0</td>\n",
              "      <td>491.0</td>\n",
              "      <td>1083.0</td>\n",
              "      <td>796.0</td>\n",
              "      <td>725.0</td>\n",
              "      <td>162.0</td>\n",
              "      <td>148.0</td>\n",
              "      <td>11.0</td>\n",
              "      <td>10.0</td>\n",
              "      <td>3.0</td>\n",
              "    </tr>\n",
              "    <tr>\n",
              "      <th>115151</th>\n",
              "      <td>115151</td>\n",
              "      <td>0001becc61b4d5089e3f</td>\n",
              "      <td>102</td>\n",
              "      <td>56</td>\n",
              "      <td>94</td>\n",
              "      <td>54</td>\n",
              "      <td>133</td>\n",
              "      <td>6.0</td>\n",
              "      <td>55.0</td>\n",
              "      <td>98.0</td>\n",
              "      <td>129.0</td>\n",
              "      <td>6.0</td>\n",
              "      <td>55.0</td>\n",
              "      <td>4.0</td>\n",
              "      <td>8.0</td>\n",
              "      <td>11.0</td>\n",
              "      <td>10.0</td>\n",
              "      <td>3.0</td>\n",
              "    </tr>\n",
              "    <tr>\n",
              "      <th>115161</th>\n",
              "      <td>115161</td>\n",
              "      <td>0001fa0c3d21c0d758ec</td>\n",
              "      <td>102</td>\n",
              "      <td>74</td>\n",
              "      <td>325</td>\n",
              "      <td>1606</td>\n",
              "      <td>1511</td>\n",
              "      <td>166.0</td>\n",
              "      <td>281.0</td>\n",
              "      <td>4367.0</td>\n",
              "      <td>325.0</td>\n",
              "      <td>1061.0</td>\n",
              "      <td>73.0</td>\n",
              "      <td>1081.0</td>\n",
              "      <td>151.0</td>\n",
              "      <td>412.0</td>\n",
              "      <td>890.0</td>\n",
              "      <td>302.0</td>\n",
              "    </tr>\n",
              "  </tbody>\n",
              "</table>\n",
              "<p>3986 rows × 18 columns</p>\n",
              "</div>"
            ],
            "text/plain": [
              "        Unnamed: 0                msisdn  ...  group_dendrogram_2  group_35\n",
              "149            149  00010b045f1d48d9e6af  ...                10.0       3.0\n",
              "179            179  00010d4d97589e8b64be  ...                10.0     533.0\n",
              "302            302  000114c5d2f35035b150  ...               102.0       3.0\n",
              "317            317  0001159efbdbc6d8d047  ...                10.0       3.0\n",
              "376            376  0001197a6f4e38721b59  ...                10.0       3.0\n",
              "...            ...                   ...  ...                 ...       ...\n",
              "115143      115143  00019aa94ea996bda0ed  ...               655.0       3.0\n",
              "115147      115147  0001abcba8a73562906b  ...                10.0       3.0\n",
              "115150      115150  0001b7e05c247adeb0a6  ...                10.0       3.0\n",
              "115151      115151  0001becc61b4d5089e3f  ...                10.0       3.0\n",
              "115161      115161  0001fa0c3d21c0d758ec  ...               890.0     302.0\n",
              "\n",
              "[3986 rows x 18 columns]"
            ]
          },
          "metadata": {
            "tags": []
          },
          "execution_count": 40
        }
      ]
    },
    {
      "cell_type": "code",
      "metadata": {
        "id": "0Uc0RgoqtkOi"
      },
      "source": [
        "test_102 = arpu_test.loc[arpu_test.group.isin([102, 95, 6, 146])]"
      ],
      "execution_count": null,
      "outputs": []
    },
    {
      "cell_type": "code",
      "metadata": {
        "id": "KUMC8GHkaI2m",
        "colab": {
          "base_uri": "https://localhost:8080/",
          "height": 225
        },
        "outputId": "e31f4cac-b9ca-49bd-b389-c1fe2dc96e09"
      },
      "source": [
        "arpu_train.loc[arpu_train.label == 1].group.value_counts()"
      ],
      "execution_count": null,
      "outputs": [
        {
          "output_type": "execute_result",
          "data": {
            "text/plain": [
              "102     951\n",
              "95      815\n",
              "6       659\n",
              "146      70\n",
              "8        59\n",
              "       ... \n",
              "597       1\n",
              "8793      1\n",
              "6750      1\n",
              "8801      1\n",
              "8837      1\n",
              "Name: group, Length: 677, dtype: int64"
            ]
          },
          "metadata": {
            "tags": []
          },
          "execution_count": 16
        }
      ]
    },
    {
      "cell_type": "code",
      "metadata": {
        "id": "oZw-hAfNmyMG"
      },
      "source": [
        "group_102 = arpu_train.loc[arpu_train.group.isin([102, 95, 6, 146])]"
      ],
      "execution_count": null,
      "outputs": []
    },
    {
      "cell_type": "code",
      "metadata": {
        "id": "4U3n7ivBouh0"
      },
      "source": [
        "temp_102 = temp.loc[temp.msisdn.isin(group_102.msisdn.values.tolist() + test_102.msisdn.values.tolist())]"
      ],
      "execution_count": null,
      "outputs": []
    },
    {
      "cell_type": "code",
      "metadata": {
        "id": "qCVVEGw_pOaX"
      },
      "source": [
        "temp_102 = temp_102.dropna()"
      ],
      "execution_count": null,
      "outputs": []
    },
    {
      "cell_type": "code",
      "metadata": {
        "id": "yp3UccWtpewZ"
      },
      "source": [
        "nice_id = temp_102.loc[temp_102.PARTNER_MSISDN.isin(group_102.msisdn.values)].drop_duplicates(['msisdn', 'PARTNER_MSISDN'], keep='first')"
      ],
      "execution_count": null,
      "outputs": []
    },
    {
      "cell_type": "code",
      "metadata": {
        "id": "jHm9bX9asPEX"
      },
      "source": [
        "id = nice_id.msisdn.values.tolist() + nice_id.PARTNER_MSISDN.values.tolist()"
      ],
      "execution_count": null,
      "outputs": []
    },
    {
      "cell_type": "code",
      "metadata": {
        "id": "4FrNs7ZYv4DC",
        "colab": {
          "base_uri": "https://localhost:8080/",
          "height": 34
        },
        "outputId": "5358219c-e3f2-4bea-9483-9ec36590ba7c"
      },
      "source": [
        "len(id)"
      ],
      "execution_count": null,
      "outputs": [
        {
          "output_type": "execute_result",
          "data": {
            "text/plain": [
              "454"
            ]
          },
          "metadata": {
            "tags": []
          },
          "execution_count": 42
        }
      ]
    },
    {
      "cell_type": "code",
      "metadata": {
        "id": "Pf_b--4WwWv1",
        "colab": {
          "base_uri": "https://localhost:8080/",
          "height": 446
        },
        "outputId": "ece67356-cbb0-4d60-ed29-e6ef557fd54f"
      },
      "source": [
        "temp_loc = temp.loc[temp.msisdn.isin(id)].loc[temp.PARTNER_MSISDN.isin(id)]\n",
        "temp_loc = temp_loc.drop_duplicates(['msisdn', 'PARTNER_MSISDN'], keep='first')\n",
        "temp_loc.groupby('msisdn').count().sort_values('COL_1')"
      ],
      "execution_count": null,
      "outputs": [
        {
          "output_type": "execute_result",
          "data": {
            "text/html": [
              "<div>\n",
              "<style scoped>\n",
              "    .dataframe tbody tr th:only-of-type {\n",
              "        vertical-align: middle;\n",
              "    }\n",
              "\n",
              "    .dataframe tbody tr th {\n",
              "        vertical-align: top;\n",
              "    }\n",
              "\n",
              "    .dataframe thead th {\n",
              "        text-align: right;\n",
              "    }\n",
              "</style>\n",
              "<table border=\"1\" class=\"dataframe\">\n",
              "  <thead>\n",
              "    <tr style=\"text-align: right;\">\n",
              "      <th></th>\n",
              "      <th>COL_1</th>\n",
              "      <th>COL_8</th>\n",
              "      <th>COL_11</th>\n",
              "      <th>PARTNER_MSISDN</th>\n",
              "      <th>COL_2</th>\n",
              "      <th>UPLOAD_DATA</th>\n",
              "      <th>COL_12</th>\n",
              "    </tr>\n",
              "    <tr>\n",
              "      <th>msisdn</th>\n",
              "      <th></th>\n",
              "      <th></th>\n",
              "      <th></th>\n",
              "      <th></th>\n",
              "      <th></th>\n",
              "      <th></th>\n",
              "      <th></th>\n",
              "    </tr>\n",
              "  </thead>\n",
              "  <tbody>\n",
              "    <tr>\n",
              "      <th>0001007187b4881379a9</th>\n",
              "      <td>1</td>\n",
              "      <td>1</td>\n",
              "      <td>1</td>\n",
              "      <td>1</td>\n",
              "      <td>1</td>\n",
              "      <td>1</td>\n",
              "      <td>1</td>\n",
              "    </tr>\n",
              "    <tr>\n",
              "      <th>0001b338057bab4874d3</th>\n",
              "      <td>1</td>\n",
              "      <td>1</td>\n",
              "      <td>1</td>\n",
              "      <td>1</td>\n",
              "      <td>1</td>\n",
              "      <td>1</td>\n",
              "      <td>1</td>\n",
              "    </tr>\n",
              "    <tr>\n",
              "      <th>0001b2a3a2afb5b8f308</th>\n",
              "      <td>1</td>\n",
              "      <td>1</td>\n",
              "      <td>1</td>\n",
              "      <td>1</td>\n",
              "      <td>1</td>\n",
              "      <td>1</td>\n",
              "      <td>1</td>\n",
              "    </tr>\n",
              "    <tr>\n",
              "      <th>0001b1363e2d1860f63a</th>\n",
              "      <td>1</td>\n",
              "      <td>1</td>\n",
              "      <td>1</td>\n",
              "      <td>1</td>\n",
              "      <td>1</td>\n",
              "      <td>1</td>\n",
              "      <td>1</td>\n",
              "    </tr>\n",
              "    <tr>\n",
              "      <th>0001b082fe79eb8af388</th>\n",
              "      <td>1</td>\n",
              "      <td>1</td>\n",
              "      <td>1</td>\n",
              "      <td>1</td>\n",
              "      <td>1</td>\n",
              "      <td>1</td>\n",
              "      <td>1</td>\n",
              "    </tr>\n",
              "    <tr>\n",
              "      <th>...</th>\n",
              "      <td>...</td>\n",
              "      <td>...</td>\n",
              "      <td>...</td>\n",
              "      <td>...</td>\n",
              "      <td>...</td>\n",
              "      <td>...</td>\n",
              "      <td>...</td>\n",
              "    </tr>\n",
              "    <tr>\n",
              "      <th>0001090ff52250870718</th>\n",
              "      <td>2</td>\n",
              "      <td>2</td>\n",
              "      <td>2</td>\n",
              "      <td>2</td>\n",
              "      <td>2</td>\n",
              "      <td>2</td>\n",
              "      <td>2</td>\n",
              "    </tr>\n",
              "    <tr>\n",
              "      <th>000189a36e712e4c61f3</th>\n",
              "      <td>2</td>\n",
              "      <td>2</td>\n",
              "      <td>2</td>\n",
              "      <td>2</td>\n",
              "      <td>2</td>\n",
              "      <td>2</td>\n",
              "      <td>2</td>\n",
              "    </tr>\n",
              "    <tr>\n",
              "      <th>000113ea5d7222ff0cc8</th>\n",
              "      <td>2</td>\n",
              "      <td>2</td>\n",
              "      <td>2</td>\n",
              "      <td>2</td>\n",
              "      <td>2</td>\n",
              "      <td>2</td>\n",
              "      <td>2</td>\n",
              "    </tr>\n",
              "    <tr>\n",
              "      <th>0001df96bc545bcada63</th>\n",
              "      <td>2</td>\n",
              "      <td>2</td>\n",
              "      <td>2</td>\n",
              "      <td>2</td>\n",
              "      <td>2</td>\n",
              "      <td>2</td>\n",
              "      <td>2</td>\n",
              "    </tr>\n",
              "    <tr>\n",
              "      <th>000158984315cfcfb020</th>\n",
              "      <td>2</td>\n",
              "      <td>2</td>\n",
              "      <td>2</td>\n",
              "      <td>2</td>\n",
              "      <td>2</td>\n",
              "      <td>2</td>\n",
              "      <td>2</td>\n",
              "    </tr>\n",
              "  </tbody>\n",
              "</table>\n",
              "<p>314 rows × 7 columns</p>\n",
              "</div>"
            ],
            "text/plain": [
              "                      COL_1  COL_8  COL_11  ...  COL_2  UPLOAD_DATA  COL_12\n",
              "msisdn                                      ...                            \n",
              "0001007187b4881379a9      1      1       1  ...      1            1       1\n",
              "0001b338057bab4874d3      1      1       1  ...      1            1       1\n",
              "0001b2a3a2afb5b8f308      1      1       1  ...      1            1       1\n",
              "0001b1363e2d1860f63a      1      1       1  ...      1            1       1\n",
              "0001b082fe79eb8af388      1      1       1  ...      1            1       1\n",
              "...                     ...    ...     ...  ...    ...          ...     ...\n",
              "0001090ff52250870718      2      2       2  ...      2            2       2\n",
              "000189a36e712e4c61f3      2      2       2  ...      2            2       2\n",
              "000113ea5d7222ff0cc8      2      2       2  ...      2            2       2\n",
              "0001df96bc545bcada63      2      2       2  ...      2            2       2\n",
              "000158984315cfcfb020      2      2       2  ...      2            2       2\n",
              "\n",
              "[314 rows x 7 columns]"
            ]
          },
          "metadata": {
            "tags": []
          },
          "execution_count": 79
        }
      ]
    },
    {
      "cell_type": "code",
      "metadata": {
        "id": "ks-RubY15dzM",
        "colab": {
          "base_uri": "https://localhost:8080/",
          "height": 141
        },
        "outputId": "bc1c6ad1-dd65-4815-fd9f-ccea9d1c9dc0"
      },
      "source": [
        "temp_loc.loc[temp_loc.msisdn == '0001970f58c79dc8f38b'].groupby('PARTNER_MSISDN').count()"
      ],
      "execution_count": null,
      "outputs": [
        {
          "output_type": "execute_result",
          "data": {
            "text/html": [
              "<div>\n",
              "<style scoped>\n",
              "    .dataframe tbody tr th:only-of-type {\n",
              "        vertical-align: middle;\n",
              "    }\n",
              "\n",
              "    .dataframe tbody tr th {\n",
              "        vertical-align: top;\n",
              "    }\n",
              "\n",
              "    .dataframe thead th {\n",
              "        text-align: right;\n",
              "    }\n",
              "</style>\n",
              "<table border=\"1\" class=\"dataframe\">\n",
              "  <thead>\n",
              "    <tr style=\"text-align: right;\">\n",
              "      <th></th>\n",
              "      <th>msisdn</th>\n",
              "      <th>COL_1</th>\n",
              "      <th>COL_8</th>\n",
              "      <th>COL_11</th>\n",
              "      <th>COL_2</th>\n",
              "      <th>UPLOAD_DATA</th>\n",
              "      <th>COL_12</th>\n",
              "    </tr>\n",
              "    <tr>\n",
              "      <th>PARTNER_MSISDN</th>\n",
              "      <th></th>\n",
              "      <th></th>\n",
              "      <th></th>\n",
              "      <th></th>\n",
              "      <th></th>\n",
              "      <th></th>\n",
              "      <th></th>\n",
              "    </tr>\n",
              "  </thead>\n",
              "  <tbody>\n",
              "    <tr>\n",
              "      <th>000113ea5d7222ff0cc8</th>\n",
              "      <td>58</td>\n",
              "      <td>58</td>\n",
              "      <td>58</td>\n",
              "      <td>58</td>\n",
              "      <td>58</td>\n",
              "      <td>58</td>\n",
              "      <td>58</td>\n",
              "    </tr>\n",
              "    <tr>\n",
              "      <th>000189a36e712e4c61f3</th>\n",
              "      <td>36</td>\n",
              "      <td>36</td>\n",
              "      <td>36</td>\n",
              "      <td>36</td>\n",
              "      <td>36</td>\n",
              "      <td>36</td>\n",
              "      <td>36</td>\n",
              "    </tr>\n",
              "  </tbody>\n",
              "</table>\n",
              "</div>"
            ],
            "text/plain": [
              "                      msisdn  COL_1  COL_8  COL_11  COL_2  UPLOAD_DATA  COL_12\n",
              "PARTNER_MSISDN                                                                \n",
              "000113ea5d7222ff0cc8      58     58     58      58     58           58      58\n",
              "000189a36e712e4c61f3      36     36     36      36     36           36      36"
            ]
          },
          "metadata": {
            "tags": []
          },
          "execution_count": 78
        }
      ]
    },
    {
      "cell_type": "code",
      "metadata": {
        "id": "WGVN0DuO3oWR"
      },
      "source": [
        "loan_102 = loan.loc[loan.msisdn.isin(id)]"
      ],
      "execution_count": null,
      "outputs": []
    },
    {
      "cell_type": "code",
      "metadata": {
        "id": "jKKuHMEn4CpW"
      },
      "source": [
        "recharge_102 = recharge.loc[recharge.msisdn.isin(id)]"
      ],
      "execution_count": null,
      "outputs": []
    },
    {
      "cell_type": "code",
      "metadata": {
        "id": "ztwIW3mb4M1o"
      },
      "source": [
        "loan_102.to_csv('loan_loc.csv', index=False)\n",
        "recharge_102.to_csv('recharge_loc.csv', index=False)"
      ],
      "execution_count": null,
      "outputs": []
    }
  ]
}